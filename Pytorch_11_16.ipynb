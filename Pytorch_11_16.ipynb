{
  "nbformat": 4,
  "nbformat_minor": 0,
  "metadata": {
    "colab": {
      "provenance": [],
      "gpuType": "T4",
      "authorship_tag": "ABX9TyPzXCE7s4vsLCzwNItxVyZD",
      "include_colab_link": true
    },
    "kernelspec": {
      "name": "python3",
      "display_name": "Python 3"
    },
    "language_info": {
      "name": "python"
    },
    "accelerator": "GPU"
  },
  "cells": [
    {
      "cell_type": "markdown",
      "metadata": {
        "id": "view-in-github",
        "colab_type": "text"
      },
      "source": [
        "<a href=\"https://colab.research.google.com/github/yknlwca/Deep_Learning/blob/master/Pytorch_11_16.ipynb\" target=\"_parent\"><img src=\"https://colab.research.google.com/assets/colab-badge.svg\" alt=\"Open In Colab\"/></a>"
      ]
    },
    {
      "cell_type": "code",
      "execution_count": 1,
      "metadata": {
        "id": "9IqdAl63jhPt"
      },
      "outputs": [],
      "source": [
        "# 클래스로 모델 구현"
      ]
    },
    {
      "cell_type": "code",
      "source": [
        "# nn.Linear(1,1)\n",
        "# 상속\n",
        "# 클래스 : 매서드, 속성, 클래스\n",
        "# agile 기법 : 허접해도 빨리 만들어 배포(time to market)\n",
        "# 매서드 재정의(overriding)"
      ],
      "metadata": {
        "id": "_qFf36YwnMKz"
      },
      "execution_count": 2,
      "outputs": []
    },
    {
      "cell_type": "code",
      "source": [
        "import torch.nn as nn"
      ],
      "metadata": {
        "id": "12xEGlrrtvUq"
      },
      "execution_count": 3,
      "outputs": []
    },
    {
      "cell_type": "code",
      "source": [
        "class LinearRegressionModel(nn.Module): # 부모 : Module\n",
        "  def __init__(self): # LinearRegressionModel클래스 객체가 생성될 때 자동 호출\n",
        "    super().__init__() # 부모 클래스의 속성이 초기화\n",
        "    self.linear=nn.Linear(1,1)\n",
        "    # print('__init__호출됨')\n",
        "  def forward(self,x):\n",
        "    return self.linear(x)"
      ],
      "metadata": {
        "id": "L0IauNeknMNq"
      },
      "execution_count": 4,
      "outputs": []
    },
    {
      "cell_type": "code",
      "source": [
        "model = LinearRegressionModel()"
      ],
      "metadata": {
        "id": "YYvx1iQenMP7"
      },
      "execution_count": 5,
      "outputs": []
    },
    {
      "cell_type": "code",
      "source": [
        "import torch\n",
        "import torch.nn.functional as F"
      ],
      "metadata": {
        "id": "1J_VrPe_nMSK"
      },
      "execution_count": 6,
      "outputs": []
    },
    {
      "cell_type": "code",
      "source": [
        "x_train = torch.FloatTensor([[1],[2],[3]])\n",
        "y_train = torch.FloatTensor([[2],[4],[6]])"
      ],
      "metadata": {
        "id": "123h1JmAnMU6"
      },
      "execution_count": 7,
      "outputs": []
    },
    {
      "cell_type": "code",
      "source": [
        "optimizer = torch.optim.SGD(model.parameters(), lr = 0.01)\n",
        "model.parameters() # 경사하강법 이용"
      ],
      "metadata": {
        "colab": {
          "base_uri": "https://localhost:8080/"
        },
        "id": "yk2A8BI1nMXj",
        "outputId": "a776f0f9-4ae7-47e5-a12a-b4991da8d18f"
      },
      "execution_count": 8,
      "outputs": [
        {
          "output_type": "execute_result",
          "data": {
            "text/plain": [
              "<generator object Module.parameters at 0x7c16977e7840>"
            ]
          },
          "metadata": {},
          "execution_count": 8
        }
      ]
    },
    {
      "cell_type": "code",
      "source": [
        "nb_epochs = 2000\n",
        "for epoch in range(nb_epochs+1):\n",
        "\n",
        "    # H(x) 계산\n",
        "    prediction = model(x_train)\n",
        "\n",
        "    # cost 계산\n",
        "    cost = F.mse_loss(prediction, y_train) # 파이토치에서 제공하는 평균 제곱 오차 함수\n",
        "\n",
        "    # cost로 H(x) 개선하는 부분\n",
        "    # gradient를 0으로 초기화\n",
        "    optimizer.zero_grad()\n",
        "    # 비용 함수를 미분하여 gradient 계산\n",
        "    cost.backward() # backward 연산\n",
        "    # W와 b를 업데이트\n",
        "    optimizer.step()\n",
        "\n",
        "    if epoch % 100 == 0:\n",
        "    # 100번마다 로그 출력\n",
        "      print('Epoch {:4d}/{} Cost: {:.6f}'.format(\n",
        "          epoch, nb_epochs, cost.item()\n",
        "      ))"
      ],
      "metadata": {
        "colab": {
          "base_uri": "https://localhost:8080/"
        },
        "id": "U9K-OefcnMaS",
        "outputId": "6cf08fa0-e18e-4993-c094-b7e586768926"
      },
      "execution_count": 9,
      "outputs": [
        {
          "output_type": "stream",
          "name": "stdout",
          "text": [
            "Epoch    0/2000 Cost: 2.652911\n",
            "Epoch  100/2000 Cost: 0.099476\n",
            "Epoch  200/2000 Cost: 0.061470\n",
            "Epoch  300/2000 Cost: 0.037985\n",
            "Epoch  400/2000 Cost: 0.023472\n",
            "Epoch  500/2000 Cost: 0.014505\n",
            "Epoch  600/2000 Cost: 0.008963\n",
            "Epoch  700/2000 Cost: 0.005539\n",
            "Epoch  800/2000 Cost: 0.003422\n",
            "Epoch  900/2000 Cost: 0.002115\n",
            "Epoch 1000/2000 Cost: 0.001307\n",
            "Epoch 1100/2000 Cost: 0.000808\n",
            "Epoch 1200/2000 Cost: 0.000499\n",
            "Epoch 1300/2000 Cost: 0.000308\n",
            "Epoch 1400/2000 Cost: 0.000191\n",
            "Epoch 1500/2000 Cost: 0.000118\n",
            "Epoch 1600/2000 Cost: 0.000073\n",
            "Epoch 1700/2000 Cost: 0.000045\n",
            "Epoch 1800/2000 Cost: 0.000028\n",
            "Epoch 1900/2000 Cost: 0.000017\n",
            "Epoch 2000/2000 Cost: 0.000011\n"
          ]
        }
      ]
    },
    {
      "cell_type": "markdown",
      "source": [
        "# 다중 선형 회귀 모델"
      ],
      "metadata": {
        "id": "XSyvvbHS6Cek"
      }
    },
    {
      "cell_type": "markdown",
      "source": [
        "###### 미니배치 : 대규모 데이터를 작은 단위로 나누어 연산\n",
        "* ex) 데이터 100건\n",
        "* 1epoch : 100건의 데이터를 한 번 돌며 학습 완료\n",
        "* 20batch_size : 한 번에 20건의 데이터씩 읽어서 학습\n",
        "* 5batch(mini) : 20batch_size로 데이터를 5번 가져와서 학습 -> 총 100건의 데이터 학습\n",
        "* iteration: 1epoch에서 발생하는 W,b의 업데이트 횟수\n",
        "* batch할때 마다 W,b에 대해 업데이트가 발생됨\n",
        "* batch 학습 : 전체 데이터에 대해 한 번에 batch와 함께 업데이트\n",
        "* mini_batch 학습 : 전체 데이터에 대해 여러 번 batch 및 업데이트 수행\n",
        "\n",
        "* DataSet(데이터셋), DataLoader(데이터로더) 제공\n",
        "> 데이터 셔플, 미니배치 학습, 병렬 처리 등의 연산을 빠르게 할 수 있음"
      ],
      "metadata": {
        "id": "D9t3hL416HFs"
      }
    },
    {
      "cell_type": "code",
      "source": [
        "class MultivariateLinearRegressionModel(nn.Module):\n",
        "    def __init__(self):\n",
        "        super().__init__()\n",
        "        self.linear = nn.Linear(3, 1) # 다중 선형 회귀이므로 input_dim=3, output_dim=1.\n",
        "\n",
        "    def forward(self, x):\n",
        "        return self.linear(x)"
      ],
      "metadata": {
        "id": "UUbG1bSu2pHN"
      },
      "execution_count": 10,
      "outputs": []
    },
    {
      "cell_type": "code",
      "source": [
        "x_train = torch.FloatTensor([[73, 80, 75],\n",
        "                             [93, 88, 93],\n",
        "                             [89, 91, 90],\n",
        "                             [96, 98, 100],\n",
        "                             [73, 66, 70]]) # 데이터 5개\n",
        "y_train = torch.FloatTensor([[152], [185], [180], [196], [142]])"
      ],
      "metadata": {
        "id": "hafxGkgknMc6"
      },
      "execution_count": 11,
      "outputs": []
    },
    {
      "cell_type": "code",
      "source": [
        "model = MultivariateLinearRegressionModel()\n",
        "optimizer = torch.optim.SGD(model.parameters(), lr= 1e-5)"
      ],
      "metadata": {
        "id": "vaqXUchUnMfz"
      },
      "execution_count": 12,
      "outputs": []
    },
    {
      "cell_type": "code",
      "source": [
        "nb_epochs = 2000\n",
        "for epoch in range(nb_epochs+1):\n",
        "\n",
        "    # H(x) 계산\n",
        "    prediction = model(x_train)\n",
        "    # model(x_train)은 model.forward(x_train)와 동일함.\n",
        "\n",
        "    # cost 계산\n",
        "    cost = F.mse_loss(prediction, y_train) # 파이토치에서 제공하는 평균 제곱 오차 함수\n",
        "\n",
        "    # cost로 H(x) 개선하는 부분\n",
        "    # gradient를 0으로 초기화\n",
        "    optimizer.zero_grad()\n",
        "    # 비용 함수를 미분하여 gradient 계산\n",
        "    cost.backward()\n",
        "    # W와 b를 업데이트\n",
        "    optimizer.step()\n",
        "\n",
        "    if epoch % 100 == 0:\n",
        "    # 100번마다 로그 출력\n",
        "      print('Epoch {:4d}/{} Cost: {:.6f}'.format(\n",
        "          epoch, nb_epochs, cost.item()\n",
        "      ))"
      ],
      "metadata": {
        "colab": {
          "base_uri": "https://localhost:8080/"
        },
        "id": "s9fGIFGWnMii",
        "outputId": "fe67c2d4-d855-4182-87a3-b1003cc95c0e"
      },
      "execution_count": 13,
      "outputs": [
        {
          "output_type": "stream",
          "name": "stdout",
          "text": [
            "Epoch    0/2000 Cost: 27059.550781\n",
            "Epoch  100/2000 Cost: 2.425391\n",
            "Epoch  200/2000 Cost: 2.317472\n",
            "Epoch  300/2000 Cost: 2.215193\n",
            "Epoch  400/2000 Cost: 2.118259\n",
            "Epoch  500/2000 Cost: 2.026371\n",
            "Epoch  600/2000 Cost: 1.939299\n",
            "Epoch  700/2000 Cost: 1.856752\n",
            "Epoch  800/2000 Cost: 1.778514\n",
            "Epoch  900/2000 Cost: 1.704342\n",
            "Epoch 1000/2000 Cost: 1.634032\n",
            "Epoch 1100/2000 Cost: 1.567373\n",
            "Epoch 1200/2000 Cost: 1.504169\n",
            "Epoch 1300/2000 Cost: 1.444261\n",
            "Epoch 1400/2000 Cost: 1.387467\n",
            "Epoch 1500/2000 Cost: 1.333611\n",
            "Epoch 1600/2000 Cost: 1.282530\n",
            "Epoch 1700/2000 Cost: 1.234101\n",
            "Epoch 1800/2000 Cost: 1.188177\n",
            "Epoch 1900/2000 Cost: 1.144619\n",
            "Epoch 2000/2000 Cost: 1.103306\n"
          ]
        }
      ]
    },
    {
      "cell_type": "code",
      "source": [
        "from torch.utils.data import TensorDataset # 텐서데이터셋\n",
        "from torch.utils.data import DataLoader # 데이터로더"
      ],
      "metadata": {
        "id": "shBKlDcknMlT"
      },
      "execution_count": 14,
      "outputs": []
    },
    {
      "cell_type": "code",
      "source": [
        "x_train  =  torch.FloatTensor([[73,  80,  75],\n",
        "                               [93,  88,  93],\n",
        "                               [89,  91,  90],\n",
        "                               [96,  98,  100],\n",
        "                               [73,  66,  70]])\n",
        "y_train  =  torch.FloatTensor([[152],  [185],  [180],  [196],  [142]])"
      ],
      "metadata": {
        "id": "llj8MuOPnMoC"
      },
      "execution_count": 15,
      "outputs": []
    },
    {
      "cell_type": "code",
      "source": [
        "dataset = TensorDataset(x_train,y_train)\n",
        "# TensorDataset : Tensor데이터를 전달받아 데이터셋 형태로 변환"
      ],
      "metadata": {
        "id": "-RxCrm71nMrC"
      },
      "execution_count": 16,
      "outputs": []
    },
    {
      "cell_type": "code",
      "source": [
        "dataloader = DataLoader(dataset, batch_size = 2, shuffle = True)\n",
        "# 시계열 데이터가 아니라면 배치마다 셔플을 하는게 더 좋다."
      ],
      "metadata": {
        "id": "XYhUlS1znM2s"
      },
      "execution_count": 17,
      "outputs": []
    },
    {
      "cell_type": "code",
      "source": [
        "model = nn.Linear(3,1)\n",
        "optimizer = torch.optim.SGD(model.parameters(), lr = 1e-5)"
      ],
      "metadata": {
        "id": "yqViN1oD8am8"
      },
      "execution_count": 18,
      "outputs": []
    },
    {
      "cell_type": "code",
      "source": [
        "nb_epochs = 20\n",
        "for epoch in range(nb_epochs + 1):\n",
        "  for batch_idx, samples in enumerate(dataloader):\n",
        "    # print(batch_idx)\n",
        "    # print(samples)\n",
        "    x_train, y_train = samples\n",
        "    # H(x) 계산\n",
        "    prediction = model(x_train)\n",
        "\n",
        "    # cost 계산\n",
        "    cost = F.mse_loss(prediction, y_train)\n",
        "\n",
        "    # cost로 H(x) 계산\n",
        "    optimizer.zero_grad()\n",
        "    cost.backward()\n",
        "    optimizer.step()\n",
        "\n",
        "    print('Epoch {:4d}/{} Batch {}/{} Cost: {:.6f}'.format(\n",
        "        epoch, nb_epochs, batch_idx+1, len(dataloader),\n",
        "        cost.item()\n",
        "        ))"
      ],
      "metadata": {
        "colab": {
          "base_uri": "https://localhost:8080/"
        },
        "id": "f6siSh6X8aqy",
        "outputId": "b39aadd8-ae36-42b2-eae9-e62213d9003a"
      },
      "execution_count": 19,
      "outputs": [
        {
          "output_type": "stream",
          "name": "stdout",
          "text": [
            "Epoch    0/20 Batch 1/3 Cost: 64635.906250\n",
            "Epoch    0/20 Batch 2/3 Cost: 50363.917969\n",
            "Epoch    0/20 Batch 3/3 Cost: 9485.656250\n",
            "Epoch    1/20 Batch 1/3 Cost: 2889.897949\n",
            "Epoch    1/20 Batch 2/3 Cost: 452.545502\n",
            "Epoch    1/20 Batch 3/3 Cost: 132.111404\n",
            "Epoch    2/20 Batch 1/3 Cost: 103.742966\n",
            "Epoch    2/20 Batch 2/3 Cost: 17.889923\n",
            "Epoch    2/20 Batch 3/3 Cost: 3.372852\n",
            "Epoch    3/20 Batch 1/3 Cost: 5.210570\n",
            "Epoch    3/20 Batch 2/3 Cost: 0.017923\n",
            "Epoch    3/20 Batch 3/3 Cost: 5.604877\n",
            "Epoch    4/20 Batch 1/3 Cost: 1.122466\n",
            "Epoch    4/20 Batch 2/3 Cost: 1.550148\n",
            "Epoch    4/20 Batch 3/3 Cost: 1.560898\n",
            "Epoch    5/20 Batch 1/3 Cost: 0.284797\n",
            "Epoch    5/20 Batch 2/3 Cost: 1.721053\n",
            "Epoch    5/20 Batch 3/3 Cost: 3.496996\n",
            "Epoch    6/20 Batch 1/3 Cost: 2.001203\n",
            "Epoch    6/20 Batch 2/3 Cost: 1.182283\n",
            "Epoch    6/20 Batch 3/3 Cost: 1.735578\n",
            "Epoch    7/20 Batch 1/3 Cost: 1.260085\n",
            "Epoch    7/20 Batch 2/3 Cost: 1.202362\n",
            "Epoch    7/20 Batch 3/3 Cost: 3.446672\n",
            "Epoch    8/20 Batch 1/3 Cost: 2.170393\n",
            "Epoch    8/20 Batch 2/3 Cost: 2.806836\n",
            "Epoch    8/20 Batch 3/3 Cost: 0.892404\n",
            "Epoch    9/20 Batch 1/3 Cost: 1.050091\n",
            "Epoch    9/20 Batch 2/3 Cost: 3.419913\n",
            "Epoch    9/20 Batch 3/3 Cost: 0.706184\n",
            "Epoch   10/20 Batch 1/3 Cost: 2.146930\n",
            "Epoch   10/20 Batch 2/3 Cost: 1.751066\n",
            "Epoch   10/20 Batch 3/3 Cost: 0.950637\n",
            "Epoch   11/20 Batch 1/3 Cost: 1.421348\n",
            "Epoch   11/20 Batch 2/3 Cost: 0.684939\n",
            "Epoch   11/20 Batch 3/3 Cost: 4.466216\n",
            "Epoch   12/20 Batch 1/3 Cost: 1.417132\n",
            "Epoch   12/20 Batch 2/3 Cost: 1.171294\n",
            "Epoch   12/20 Batch 3/3 Cost: 1.534928\n",
            "Epoch   13/20 Batch 1/3 Cost: 2.155788\n",
            "Epoch   13/20 Batch 2/3 Cost: 0.404296\n",
            "Epoch   13/20 Batch 3/3 Cost: 2.636362\n",
            "Epoch   14/20 Batch 1/3 Cost: 1.154213\n",
            "Epoch   14/20 Batch 2/3 Cost: 1.422117\n",
            "Epoch   14/20 Batch 3/3 Cost: 1.856124\n",
            "Epoch   15/20 Batch 1/3 Cost: 1.965876\n",
            "Epoch   15/20 Batch 2/3 Cost: 1.124890\n",
            "Epoch   15/20 Batch 3/3 Cost: 1.015871\n",
            "Epoch   16/20 Batch 1/3 Cost: 2.238718\n",
            "Epoch   16/20 Batch 2/3 Cost: 1.021480\n",
            "Epoch   16/20 Batch 3/3 Cost: 0.971098\n",
            "Epoch   17/20 Batch 1/3 Cost: 0.140150\n",
            "Epoch   17/20 Batch 2/3 Cost: 3.884556\n",
            "Epoch   17/20 Batch 3/3 Cost: 1.388496\n",
            "Epoch   18/20 Batch 1/3 Cost: 1.301178\n",
            "Epoch   18/20 Batch 2/3 Cost: 1.919962\n",
            "Epoch   18/20 Batch 3/3 Cost: 0.314606\n",
            "Epoch   19/20 Batch 1/3 Cost: 1.208607\n",
            "Epoch   19/20 Batch 2/3 Cost: 1.616631\n",
            "Epoch   19/20 Batch 3/3 Cost: 1.321398\n",
            "Epoch   20/20 Batch 1/3 Cost: 0.134194\n",
            "Epoch   20/20 Batch 2/3 Cost: 3.884078\n",
            "Epoch   20/20 Batch 3/3 Cost: 1.379270\n"
          ]
        }
      ]
    },
    {
      "cell_type": "code",
      "source": [
        "new_var =  torch.FloatTensor([[73, 80, 75]])"
      ],
      "metadata": {
        "id": "OeUr36Pi8aub"
      },
      "execution_count": 20,
      "outputs": []
    },
    {
      "cell_type": "code",
      "source": [
        "pred_y = model(new_var)\n",
        "pred_y # 151.7869"
      ],
      "metadata": {
        "colab": {
          "base_uri": "https://localhost:8080/"
        },
        "id": "sK5YDuux8axa",
        "outputId": "5ea72c5e-0de2-45a6-8dc4-2f9c10728f97"
      },
      "execution_count": 21,
      "outputs": [
        {
          "output_type": "execute_result",
          "data": {
            "text/plain": [
              "tensor([[152.2650]], grad_fn=<AddmmBackward0>)"
            ]
          },
          "metadata": {},
          "execution_count": 21
        }
      ]
    },
    {
      "cell_type": "markdown",
      "source": [
        "# CustomDataset"
      ],
      "metadata": {
        "id": "2PASL_6YUt3a"
      }
    },
    {
      "cell_type": "code",
      "source": [
        "from torch.utils.data import Dataset\n",
        "from torch.utils.data import DataLoader"
      ],
      "metadata": {
        "id": "5trK3wfb8a3S"
      },
      "execution_count": 22,
      "outputs": []
    },
    {
      "cell_type": "code",
      "source": [
        "class CustomDataset(torch.utils.data.Dataset):\n",
        "  def __init__(self):\n",
        "    # 데이터 전처리\n",
        "\n",
        "  def __len__(self):\n",
        "    # 데이터 개수\n",
        "\n",
        "  def __getitem__(self,idx):\n",
        "    # 데이터 1개를 리턴"
      ],
      "metadata": {
        "id": "krtT3nBO8a0b"
      },
      "execution_count": null,
      "outputs": []
    },
    {
      "cell_type": "code",
      "source": [
        "class CustomDataset(Dataset):\n",
        "  def __init__(self):\n",
        "    self.x_data = [[73, 80, 75],\n",
        "                   [93, 88, 93],\n",
        "                   [89, 91, 90],\n",
        "                   [96, 98, 100],\n",
        "                   [73, 66, 70]]\n",
        "    self.y_data = [[152], [185], [180], [196], [142]]\n",
        "\n",
        "  # 총 데이터의 개수를 리턴\n",
        "  def __len__(self):\n",
        "    return len(self.x_data)\n",
        "\n",
        "  # 인덱스를 입력받아 그에 맵핑되는 입출력 데이터를 파이토치의 Tensor 형태로 리턴\n",
        "  def __getitem__(self, idx):\n",
        "    x = torch.FloatTensor(self.x_data[idx])\n",
        "    y = torch.FloatTensor(self.y_data[idx])\n",
        "    return x, y"
      ],
      "metadata": {
        "id": "rBdjXBx28a6m"
      },
      "execution_count": 23,
      "outputs": []
    },
    {
      "cell_type": "code",
      "source": [
        "dataset = CustomDataset()"
      ],
      "metadata": {
        "id": "TgVYPwgm8a9a"
      },
      "execution_count": 24,
      "outputs": []
    },
    {
      "cell_type": "code",
      "source": [
        "dataloader = DataLoader(dataset,batch_size = 2, shuffle = True)"
      ],
      "metadata": {
        "id": "pH2D_YnR8bAa"
      },
      "execution_count": 25,
      "outputs": []
    },
    {
      "cell_type": "code",
      "source": [
        "model = torch.nn.Linear(3,1)\n",
        "optimizer = torch.optim.SGD(model.parameters(),lr=1e-5)"
      ],
      "metadata": {
        "id": "87xrEON58bDT"
      },
      "execution_count": 27,
      "outputs": []
    },
    {
      "cell_type": "code",
      "source": [
        "nb_epochs = 20\n",
        "for epoch in range(nb_epochs + 1):\n",
        "  for batch_idx, samples in enumerate(dataloader):\n",
        "    # print(batch_idx)\n",
        "    # print(samples)\n",
        "    x_train, y_train = samples\n",
        "    # H(x) 계산\n",
        "    prediction = model(x_train)\n",
        "\n",
        "    # cost 계산\n",
        "    cost = F.mse_loss(prediction, y_train)\n",
        "\n",
        "    # cost로 H(x) 계산\n",
        "    optimizer.zero_grad()\n",
        "    cost.backward()\n",
        "    optimizer.step()\n",
        "\n",
        "    print('Epoch {:4d}/{} Batch {}/{} Cost: {:.6f}'.format(\n",
        "        epoch, nb_epochs, batch_idx+1, len(dataloader),\n",
        "        cost.item()\n",
        "        ))"
      ],
      "metadata": {
        "colab": {
          "base_uri": "https://localhost:8080/"
        },
        "id": "_Ay-52To8bGV",
        "outputId": "86a4d88b-61a6-49a9-e8f8-b28cdba5be4e"
      },
      "execution_count": 28,
      "outputs": [
        {
          "output_type": "stream",
          "name": "stdout",
          "text": [
            "Epoch    0/20 Batch 1/3 Cost: 29357.966797\n",
            "Epoch    0/20 Batch 2/3 Cost: 21988.251953\n",
            "Epoch    0/20 Batch 3/3 Cost: 5000.982910\n",
            "Epoch    1/20 Batch 1/3 Cost: 756.555420\n",
            "Epoch    1/20 Batch 2/3 Cost: 548.569702\n",
            "Epoch    1/20 Batch 3/3 Cost: 83.240562\n",
            "Epoch    2/20 Batch 1/3 Cost: 58.177071\n",
            "Epoch    2/20 Batch 2/3 Cost: 1.151025\n",
            "Epoch    2/20 Batch 3/3 Cost: 0.244884\n",
            "Epoch    3/20 Batch 1/3 Cost: 9.867488\n",
            "Epoch    3/20 Batch 2/3 Cost: 0.681901\n",
            "Epoch    3/20 Batch 3/3 Cost: 9.030146\n",
            "Epoch    4/20 Batch 1/3 Cost: 3.564103\n",
            "Epoch    4/20 Batch 2/3 Cost: 3.041183\n",
            "Epoch    4/20 Batch 3/3 Cost: 9.737036\n",
            "Epoch    5/20 Batch 1/3 Cost: 6.809837\n",
            "Epoch    5/20 Batch 2/3 Cost: 7.006098\n",
            "Epoch    5/20 Batch 3/3 Cost: 4.113898\n",
            "Epoch    6/20 Batch 1/3 Cost: 1.490888\n",
            "Epoch    6/20 Batch 2/3 Cost: 3.507552\n",
            "Epoch    6/20 Batch 3/3 Cost: 10.541286\n",
            "Epoch    7/20 Batch 1/3 Cost: 4.082955\n",
            "Epoch    7/20 Batch 2/3 Cost: 5.242548\n",
            "Epoch    7/20 Batch 3/3 Cost: 2.830122\n",
            "Epoch    8/20 Batch 1/3 Cost: 5.549946\n",
            "Epoch    8/20 Batch 2/3 Cost: 2.600472\n",
            "Epoch    8/20 Batch 3/3 Cost: 3.840012\n",
            "Epoch    9/20 Batch 1/3 Cost: 3.734015\n",
            "Epoch    9/20 Batch 2/3 Cost: 6.246337\n",
            "Epoch    9/20 Batch 3/3 Cost: 1.118328\n",
            "Epoch   10/20 Batch 1/3 Cost: 0.598452\n",
            "Epoch   10/20 Batch 2/3 Cost: 10.605637\n",
            "Epoch   10/20 Batch 3/3 Cost: 4.909995\n",
            "Epoch   11/20 Batch 1/3 Cost: 6.688195\n",
            "Epoch   11/20 Batch 2/3 Cost: 3.126174\n",
            "Epoch   11/20 Batch 3/3 Cost: 1.032331\n",
            "Epoch   12/20 Batch 1/3 Cost: 6.592436\n",
            "Epoch   12/20 Batch 2/3 Cost: 2.459872\n",
            "Epoch   12/20 Batch 3/3 Cost: 2.195539\n",
            "Epoch   13/20 Batch 1/3 Cost: 3.248990\n",
            "Epoch   13/20 Batch 2/3 Cost: 5.374676\n",
            "Epoch   13/20 Batch 3/3 Cost: 3.673280\n",
            "Epoch   14/20 Batch 1/3 Cost: 6.908417\n",
            "Epoch   14/20 Batch 2/3 Cost: 2.530721\n",
            "Epoch   14/20 Batch 3/3 Cost: 3.010439\n",
            "Epoch   15/20 Batch 1/3 Cost: 0.295654\n",
            "Epoch   15/20 Batch 2/3 Cost: 7.670422\n",
            "Epoch   15/20 Batch 3/3 Cost: 5.337569\n",
            "Epoch   16/20 Batch 1/3 Cost: 2.199835\n",
            "Epoch   16/20 Batch 2/3 Cost: 4.210992\n",
            "Epoch   16/20 Batch 3/3 Cost: 11.377342\n",
            "Epoch   17/20 Batch 1/3 Cost: 5.111981\n",
            "Epoch   17/20 Batch 2/3 Cost: 5.990550\n",
            "Epoch   17/20 Batch 3/3 Cost: 3.100912\n",
            "Epoch   18/20 Batch 1/3 Cost: 2.421743\n",
            "Epoch   18/20 Batch 2/3 Cost: 5.060058\n",
            "Epoch   18/20 Batch 3/3 Cost: 6.085087\n",
            "Epoch   19/20 Batch 1/3 Cost: 3.308933\n",
            "Epoch   19/20 Batch 2/3 Cost: 1.528322\n",
            "Epoch   19/20 Batch 3/3 Cost: 13.157778\n",
            "Epoch   20/20 Batch 1/3 Cost: 2.145624\n",
            "Epoch   20/20 Batch 2/3 Cost: 5.906085\n",
            "Epoch   20/20 Batch 3/3 Cost: 2.977226\n"
          ]
        }
      ]
    },
    {
      "cell_type": "code",
      "source": [],
      "metadata": {
        "id": "5KUWXV4hnOH6"
      },
      "execution_count": null,
      "outputs": []
    }
  ]
}