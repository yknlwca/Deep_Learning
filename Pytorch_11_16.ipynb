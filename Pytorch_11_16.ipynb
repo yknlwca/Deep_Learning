{
  "nbformat": 4,
  "nbformat_minor": 0,
  "metadata": {
    "colab": {
      "provenance": [],
      "gpuType": "T4",
      "authorship_tag": "ABX9TyMZkVxGbFcE8ryFKkA0Zkal",
      "include_colab_link": true
    },
    "kernelspec": {
      "name": "python3",
      "display_name": "Python 3"
    },
    "language_info": {
      "name": "python"
    },
    "accelerator": "GPU"
  },
  "cells": [
    {
      "cell_type": "markdown",
      "metadata": {
        "id": "view-in-github",
        "colab_type": "text"
      },
      "source": [
        "<a href=\"https://colab.research.google.com/github/yknlwca/Deep_Learning/blob/master/Pytorch_11_16.ipynb\" target=\"_parent\"><img src=\"https://colab.research.google.com/assets/colab-badge.svg\" alt=\"Open In Colab\"/></a>"
      ]
    },
    {
      "cell_type": "code",
      "execution_count": 2,
      "metadata": {
        "id": "9IqdAl63jhPt"
      },
      "outputs": [],
      "source": [
        "# 클래스로 모델 구현"
      ]
    },
    {
      "cell_type": "code",
      "source": [
        "# nn.Linear(1,1)\n",
        "# 상속\n",
        "# 클래스 : 매서드, 속성, 클래스\n",
        "# agile 기법 : 허접해도 빨리 만들어 배포(time to market)\n",
        "# 매서드 재정의(overriding)"
      ],
      "metadata": {
        "id": "_qFf36YwnMKz"
      },
      "execution_count": 3,
      "outputs": []
    },
    {
      "cell_type": "code",
      "source": [
        "import torch.nn as nn"
      ],
      "metadata": {
        "id": "12xEGlrrtvUq"
      },
      "execution_count": 4,
      "outputs": []
    },
    {
      "cell_type": "code",
      "source": [
        "class LinearRegressionModel(nn.Module): # 부모 : Module\n",
        "  def __init__(self): # LinearRegressionModel클래스 객체가 생성될 때 자동 호출\n",
        "    super().__init__() # 부모 클래스의 속성이 초기화\n",
        "    self.linear=nn.Linear(1,1)\n",
        "    # print('__init__호출됨')\n",
        "  def forward(self,x):\n",
        "    return self.linear(x)"
      ],
      "metadata": {
        "id": "L0IauNeknMNq"
      },
      "execution_count": 5,
      "outputs": []
    },
    {
      "cell_type": "code",
      "source": [
        "model = LinearRegressionModel()"
      ],
      "metadata": {
        "id": "YYvx1iQenMP7"
      },
      "execution_count": 10,
      "outputs": []
    },
    {
      "cell_type": "code",
      "source": [
        "import torch\n",
        "import torch.nn.functional as F"
      ],
      "metadata": {
        "id": "1J_VrPe_nMSK"
      },
      "execution_count": 6,
      "outputs": []
    },
    {
      "cell_type": "code",
      "source": [
        "x_train = torch.FloatTensor([[1],[2],[3]])\n",
        "y_train = torch.FloatTensor([[2],[4],[6]])"
      ],
      "metadata": {
        "id": "123h1JmAnMU6"
      },
      "execution_count": 8,
      "outputs": []
    },
    {
      "cell_type": "code",
      "source": [
        "optimizer = torch.optim.SGD(model.parameters(), lr = 0.01)\n",
        "model.parameters() # 경사하강법 이용"
      ],
      "metadata": {
        "colab": {
          "base_uri": "https://localhost:8080/"
        },
        "id": "yk2A8BI1nMXj",
        "outputId": "42f67faa-eb31-4a52-a51d-2dd5c10aea6b"
      },
      "execution_count": 12,
      "outputs": [
        {
          "output_type": "execute_result",
          "data": {
            "text/plain": [
              "<generator object Module.parameters at 0x7f92959cf060>"
            ]
          },
          "metadata": {},
          "execution_count": 12
        }
      ]
    },
    {
      "cell_type": "code",
      "source": [
        "nb_epochs = 2000\n",
        "for epoch in range(nb_epochs+1):\n",
        "\n",
        "    # H(x) 계산\n",
        "    prediction = model(x_train)\n",
        "\n",
        "    # cost 계산\n",
        "    cost = F.mse_loss(prediction, y_train) # 파이토치에서 제공하는 평균 제곱 오차 함수\n",
        "\n",
        "    # cost로 H(x) 개선하는 부분\n",
        "    # gradient를 0으로 초기화\n",
        "    optimizer.zero_grad()\n",
        "    # 비용 함수를 미분하여 gradient 계산\n",
        "    cost.backward() # backward 연산\n",
        "    # W와 b를 업데이트\n",
        "    optimizer.step()\n",
        "\n",
        "    if epoch % 100 == 0:\n",
        "    # 100번마다 로그 출력\n",
        "      print('Epoch {:4d}/{} Cost: {:.6f}'.format(\n",
        "          epoch, nb_epochs, cost.item()\n",
        "      ))"
      ],
      "metadata": {
        "colab": {
          "base_uri": "https://localhost:8080/"
        },
        "id": "U9K-OefcnMaS",
        "outputId": "088dcf52-4bed-4955-f87e-692bc6479dd9"
      },
      "execution_count": 13,
      "outputs": [
        {
          "output_type": "stream",
          "name": "stdout",
          "text": [
            "Epoch    0/2000 Cost: 39.404255\n",
            "Epoch  100/2000 Cost: 0.031110\n",
            "Epoch  200/2000 Cost: 0.019224\n",
            "Epoch  300/2000 Cost: 0.011879\n",
            "Epoch  400/2000 Cost: 0.007341\n",
            "Epoch  500/2000 Cost: 0.004536\n",
            "Epoch  600/2000 Cost: 0.002803\n",
            "Epoch  700/2000 Cost: 0.001732\n",
            "Epoch  800/2000 Cost: 0.001070\n",
            "Epoch  900/2000 Cost: 0.000661\n",
            "Epoch 1000/2000 Cost: 0.000409\n",
            "Epoch 1100/2000 Cost: 0.000253\n",
            "Epoch 1200/2000 Cost: 0.000156\n",
            "Epoch 1300/2000 Cost: 0.000096\n",
            "Epoch 1400/2000 Cost: 0.000060\n",
            "Epoch 1500/2000 Cost: 0.000037\n",
            "Epoch 1600/2000 Cost: 0.000023\n",
            "Epoch 1700/2000 Cost: 0.000014\n",
            "Epoch 1800/2000 Cost: 0.000009\n",
            "Epoch 1900/2000 Cost: 0.000005\n",
            "Epoch 2000/2000 Cost: 0.000003\n"
          ]
        }
      ]
    },
    {
      "cell_type": "markdown",
      "source": [
        "# 다중 선형 회귀 모델"
      ],
      "metadata": {
        "id": "XSyvvbHS6Cek"
      }
    },
    {
      "cell_type": "markdown",
      "source": [
        "###### 미니배치 : 대규모 데이터를 작은 단위로 나누어 연산\n",
        "* ex) 데이터 100건\n",
        "* 1epoch : 100건의 데이터를 한 번 돌며 학습 완료\n",
        "* 20batch_size : 한 번에 20건의 데이터씩 읽어서 학습\n",
        "* 5batch(mini) : 20batch_size로 데이터를 5번 가져와서 학습 -> 총 100건의 데이터 학습\n",
        "* iteration: 1epoch에서 발생하는 W,b의 업데이트 횟수\n",
        "* batch할때 마다 W,b에 대해 업데이트가 발생됨\n",
        "* batch 학습 : 전체 데이터에 대해 한 번에 batch와 함께 업데이트\n",
        "* mini_batch 학습 : 전체 데이터에 대해 여러 번 batch 및 업데이트 수행\n",
        "\n",
        "* DataSet(데이터셋), DataLoader(데이터로더) 제공\n",
        "> 데이터 셔플, 미니배치 학습, 병렬 처리 등의 연산을 빠르게 할 수 있음"
      ],
      "metadata": {
        "id": "D9t3hL416HFs"
      }
    },
    {
      "cell_type": "code",
      "source": [
        "class MultivariateLinearRegressionModel(nn.Module):\n",
        "    def __init__(self):\n",
        "        super().__init__()\n",
        "        self.linear = nn.Linear(3, 1) # 다중 선형 회귀이므로 input_dim=3, output_dim=1.\n",
        "\n",
        "    def forward(self, x):\n",
        "        return self.linear(x)"
      ],
      "metadata": {
        "id": "UUbG1bSu2pHN"
      },
      "execution_count": 15,
      "outputs": []
    },
    {
      "cell_type": "code",
      "source": [
        "x_train = torch.FloatTensor([[73, 80, 75],\n",
        "                             [93, 88, 93],\n",
        "                             [89, 91, 90],\n",
        "                             [96, 98, 100],\n",
        "                             [73, 66, 70]]) # 데이터 5개\n",
        "y_train = torch.FloatTensor([[152], [185], [180], [196], [142]])"
      ],
      "metadata": {
        "id": "hafxGkgknMc6"
      },
      "execution_count": 14,
      "outputs": []
    },
    {
      "cell_type": "code",
      "source": [
        "model = MultivariateLinearRegressionModel()\n",
        "optimizer = torch.optim.SGD(model.parameters(), lr= 1e-5)"
      ],
      "metadata": {
        "id": "vaqXUchUnMfz"
      },
      "execution_count": 17,
      "outputs": []
    },
    {
      "cell_type": "code",
      "source": [
        "nb_epochs = 2000\n",
        "for epoch in range(nb_epochs+1):\n",
        "\n",
        "    # H(x) 계산\n",
        "    prediction = model(x_train)\n",
        "    # model(x_train)은 model.forward(x_train)와 동일함.\n",
        "\n",
        "    # cost 계산\n",
        "    cost = F.mse_loss(prediction, y_train) # 파이토치에서 제공하는 평균 제곱 오차 함수\n",
        "\n",
        "    # cost로 H(x) 개선하는 부분\n",
        "    # gradient를 0으로 초기화\n",
        "    optimizer.zero_grad()\n",
        "    # 비용 함수를 미분하여 gradient 계산\n",
        "    cost.backward()\n",
        "    # W와 b를 업데이트\n",
        "    optimizer.step()\n",
        "\n",
        "    if epoch % 100 == 0:\n",
        "    # 100번마다 로그 출력\n",
        "      print('Epoch {:4d}/{} Cost: {:.6f}'.format(\n",
        "          epoch, nb_epochs, cost.item()\n",
        "      ))"
      ],
      "metadata": {
        "colab": {
          "base_uri": "https://localhost:8080/"
        },
        "id": "s9fGIFGWnMii",
        "outputId": "f82b8eb0-c606-433c-b793-1564b9a5d508"
      },
      "execution_count": 18,
      "outputs": [
        {
          "output_type": "stream",
          "name": "stdout",
          "text": [
            "Epoch    0/2000 Cost: 10644.273438\n",
            "Epoch  100/2000 Cost: 0.538951\n",
            "Epoch  200/2000 Cost: 0.533494\n",
            "Epoch  300/2000 Cost: 0.528252\n",
            "Epoch  400/2000 Cost: 0.523219\n",
            "Epoch  500/2000 Cost: 0.518386\n",
            "Epoch  600/2000 Cost: 0.513729\n",
            "Epoch  700/2000 Cost: 0.509265\n",
            "Epoch  800/2000 Cost: 0.504959\n",
            "Epoch  900/2000 Cost: 0.500817\n",
            "Epoch 1000/2000 Cost: 0.496823\n",
            "Epoch 1100/2000 Cost: 0.492979\n",
            "Epoch 1200/2000 Cost: 0.489261\n",
            "Epoch 1300/2000 Cost: 0.485701\n",
            "Epoch 1400/2000 Cost: 0.482235\n",
            "Epoch 1500/2000 Cost: 0.478896\n",
            "Epoch 1600/2000 Cost: 0.475667\n",
            "Epoch 1700/2000 Cost: 0.472551\n",
            "Epoch 1800/2000 Cost: 0.469532\n",
            "Epoch 1900/2000 Cost: 0.466601\n",
            "Epoch 2000/2000 Cost: 0.463765\n"
          ]
        }
      ]
    },
    {
      "cell_type": "code",
      "source": [
        "from torch.utils.data import TensorDataset # 텐서데이터셋\n",
        "from torch.utils.data import DataLoader # 데이터로더"
      ],
      "metadata": {
        "id": "shBKlDcknMlT"
      },
      "execution_count": 20,
      "outputs": []
    },
    {
      "cell_type": "code",
      "source": [
        "x_train  =  torch.FloatTensor([[73,  80,  75],\n",
        "                               [93,  88,  93],\n",
        "                               [89,  91,  90],\n",
        "                               [96,  98,  100],\n",
        "                               [73,  66,  70]])\n",
        "y_train  =  torch.FloatTensor([[152],  [185],  [180],  [196],  [142]])"
      ],
      "metadata": {
        "id": "llj8MuOPnMoC"
      },
      "execution_count": 21,
      "outputs": []
    },
    {
      "cell_type": "code",
      "source": [
        "dataset = TensorDataset(x_train,y_train)\n",
        "# TensorDataset : Tensor데이터를 전달받아 데이터셋 형태로 변환"
      ],
      "metadata": {
        "id": "-RxCrm71nMrC"
      },
      "execution_count": 23,
      "outputs": []
    },
    {
      "cell_type": "code",
      "source": [
        "dataloader = DataLoader(dataset, batch_size = 2, shuffle = True)\n",
        "# 시계열 데이터가 아니라면 배치마다 셔플을 하는게 더 좋다."
      ],
      "metadata": {
        "id": "XYhUlS1znM2s"
      },
      "execution_count": 24,
      "outputs": []
    },
    {
      "cell_type": "code",
      "source": [
        "model = nn.Linear(3,1)\n",
        "optimizer = torch.optim.SGD(model.parameters(), lr = 1e-5)"
      ],
      "metadata": {
        "id": "yqViN1oD8am8"
      },
      "execution_count": 25,
      "outputs": []
    },
    {
      "cell_type": "code",
      "source": [
        "nb_epochs = 20\n",
        "for epoch in range(nb_epochs + 1):\n",
        "  for batch_idx, samples in enumerate(dataloader):\n",
        "    # print(batch_idx)\n",
        "    # print(samples)\n",
        "    x_train, y_train = samples\n",
        "    # H(x) 계산\n",
        "    prediction = model(x_train)\n",
        "\n",
        "    # cost 계산\n",
        "    cost = F.mse_loss(prediction, y_train)\n",
        "\n",
        "    # cost로 H(x) 계산\n",
        "    optimizer.zero_grad()\n",
        "    cost.backward()\n",
        "    optimizer.step()\n",
        "\n",
        "    print('Epoch {:4d}/{} Batch {}/{} Cost: {:.6f}'.format(\n",
        "        epoch, nb_epochs, batch_idx+1, len(dataloader),\n",
        "        cost.item()\n",
        "        ))"
      ],
      "metadata": {
        "colab": {
          "base_uri": "https://localhost:8080/"
        },
        "id": "f6siSh6X8aqy",
        "outputId": "ac045f5e-7b73-4f9a-b882-14bc0b2656bc"
      },
      "execution_count": 26,
      "outputs": [
        {
          "output_type": "stream",
          "name": "stdout",
          "text": [
            "Epoch    0/20 Batch 1/3 Cost: 31361.191406\n",
            "Epoch    0/20 Batch 2/3 Cost: 11190.265625\n",
            "Epoch    0/20 Batch 3/3 Cost: 4231.145508\n",
            "Epoch    1/20 Batch 1/3 Cost: 824.893066\n",
            "Epoch    1/20 Batch 2/3 Cost: 304.834106\n",
            "Epoch    1/20 Batch 3/3 Cost: 119.164391\n",
            "Epoch    2/20 Batch 1/3 Cost: 22.757490\n",
            "Epoch    2/20 Batch 2/3 Cost: 9.660023\n",
            "Epoch    2/20 Batch 3/3 Cost: 0.535079\n",
            "Epoch    3/20 Batch 1/3 Cost: 2.157663\n",
            "Epoch    3/20 Batch 2/3 Cost: 1.005462\n",
            "Epoch    3/20 Batch 3/3 Cost: 0.201880\n",
            "Epoch    4/20 Batch 1/3 Cost: 0.221579\n",
            "Epoch    4/20 Batch 2/3 Cost: 0.990392\n",
            "Epoch    4/20 Batch 3/3 Cost: 0.809550\n",
            "Epoch    5/20 Batch 1/3 Cost: 0.393464\n",
            "Epoch    5/20 Batch 2/3 Cost: 1.334418\n",
            "Epoch    5/20 Batch 3/3 Cost: 0.757741\n",
            "Epoch    6/20 Batch 1/3 Cost: 0.477539\n",
            "Epoch    6/20 Batch 2/3 Cost: 0.931669\n",
            "Epoch    6/20 Batch 3/3 Cost: 0.633042\n",
            "Epoch    7/20 Batch 1/3 Cost: 0.931743\n",
            "Epoch    7/20 Batch 2/3 Cost: 0.420680\n",
            "Epoch    7/20 Batch 3/3 Cost: 0.640738\n",
            "Epoch    8/20 Batch 1/3 Cost: 0.555372\n",
            "Epoch    8/20 Batch 2/3 Cost: 0.632259\n",
            "Epoch    8/20 Batch 3/3 Cost: 1.772032\n",
            "Epoch    9/20 Batch 1/3 Cost: 0.591873\n",
            "Epoch    9/20 Batch 2/3 Cost: 0.792135\n",
            "Epoch    9/20 Batch 3/3 Cost: 0.030397\n",
            "Epoch   10/20 Batch 1/3 Cost: 0.331087\n",
            "Epoch   10/20 Batch 2/3 Cost: 0.868809\n",
            "Epoch   10/20 Batch 3/3 Cost: 1.332296\n",
            "Epoch   11/20 Batch 1/3 Cost: 0.892292\n",
            "Epoch   11/20 Batch 2/3 Cost: 0.260623\n",
            "Epoch   11/20 Batch 3/3 Cost: 0.840819\n",
            "Epoch   12/20 Batch 1/3 Cost: 0.404777\n",
            "Epoch   12/20 Batch 2/3 Cost: 0.540263\n",
            "Epoch   12/20 Batch 3/3 Cost: 1.185565\n",
            "Epoch   13/20 Batch 1/3 Cost: 0.599754\n",
            "Epoch   13/20 Batch 2/3 Cost: 0.494702\n",
            "Epoch   13/20 Batch 3/3 Cost: 1.222297\n",
            "Epoch   14/20 Batch 1/3 Cost: 0.587434\n",
            "Epoch   14/20 Batch 2/3 Cost: 0.486042\n",
            "Epoch   14/20 Batch 3/3 Cost: 1.228107\n",
            "Epoch   15/20 Batch 1/3 Cost: 0.841751\n",
            "Epoch   15/20 Batch 2/3 Cost: 0.090016\n",
            "Epoch   15/20 Batch 3/3 Cost: 1.375867\n",
            "Epoch   16/20 Batch 1/3 Cost: 0.185907\n",
            "Epoch   16/20 Batch 2/3 Cost: 1.262131\n",
            "Epoch   16/20 Batch 3/3 Cost: 1.005868\n",
            "Epoch   17/20 Batch 1/3 Cost: 0.187227\n",
            "Epoch   17/20 Batch 2/3 Cost: 0.592587\n",
            "Epoch   17/20 Batch 3/3 Cost: 1.439810\n",
            "Epoch   18/20 Batch 1/3 Cost: 0.082304\n",
            "Epoch   18/20 Batch 2/3 Cost: 0.845781\n",
            "Epoch   18/20 Batch 3/3 Cost: 1.133418\n",
            "Epoch   19/20 Batch 1/3 Cost: 0.951906\n",
            "Epoch   19/20 Batch 2/3 Cost: 0.460503\n",
            "Epoch   19/20 Batch 3/3 Cost: 0.649070\n",
            "Epoch   20/20 Batch 1/3 Cost: 0.996673\n",
            "Epoch   20/20 Batch 2/3 Cost: 0.518441\n",
            "Epoch   20/20 Batch 3/3 Cost: 0.106537\n"
          ]
        }
      ]
    },
    {
      "cell_type": "code",
      "source": [
        "new_var =  torch.FloatTensor([[73, 80, 75]])"
      ],
      "metadata": {
        "id": "OeUr36Pi8aub"
      },
      "execution_count": 27,
      "outputs": []
    },
    {
      "cell_type": "code",
      "source": [
        "pred_y = model(new_var)\n",
        "pred_y # 151.7869"
      ],
      "metadata": {
        "colab": {
          "base_uri": "https://localhost:8080/"
        },
        "id": "sK5YDuux8axa",
        "outputId": "18e00db1-8c86-4554-896f-a57bc2706ee7"
      },
      "execution_count": 28,
      "outputs": [
        {
          "output_type": "execute_result",
          "data": {
            "text/plain": [
              "tensor([[151.7869]], grad_fn=<AddmmBackward0>)"
            ]
          },
          "metadata": {},
          "execution_count": 28
        }
      ]
    },
    {
      "cell_type": "code",
      "source": [],
      "metadata": {
        "id": "krtT3nBO8a0b"
      },
      "execution_count": null,
      "outputs": []
    },
    {
      "cell_type": "code",
      "source": [],
      "metadata": {
        "id": "5trK3wfb8a3S"
      },
      "execution_count": null,
      "outputs": []
    },
    {
      "cell_type": "code",
      "source": [],
      "metadata": {
        "id": "rBdjXBx28a6m"
      },
      "execution_count": null,
      "outputs": []
    },
    {
      "cell_type": "code",
      "source": [],
      "metadata": {
        "id": "TgVYPwgm8a9a"
      },
      "execution_count": null,
      "outputs": []
    },
    {
      "cell_type": "code",
      "source": [],
      "metadata": {
        "id": "pH2D_YnR8bAa"
      },
      "execution_count": null,
      "outputs": []
    },
    {
      "cell_type": "code",
      "source": [],
      "metadata": {
        "id": "87xrEON58bDT"
      },
      "execution_count": null,
      "outputs": []
    },
    {
      "cell_type": "code",
      "source": [],
      "metadata": {
        "id": "_Ay-52To8bGV"
      },
      "execution_count": null,
      "outputs": []
    },
    {
      "cell_type": "code",
      "source": [],
      "metadata": {
        "id": "MvYUlpP98bJS"
      },
      "execution_count": null,
      "outputs": []
    },
    {
      "cell_type": "code",
      "source": [],
      "metadata": {
        "id": "F4ABcL6E8bMD"
      },
      "execution_count": null,
      "outputs": []
    },
    {
      "cell_type": "code",
      "source": [],
      "metadata": {
        "id": "LKDVNgG68bOr"
      },
      "execution_count": null,
      "outputs": []
    },
    {
      "cell_type": "code",
      "source": [],
      "metadata": {
        "id": "fNV7RImA8bRS"
      },
      "execution_count": null,
      "outputs": []
    },
    {
      "cell_type": "code",
      "source": [],
      "metadata": {
        "id": "vm79RW6Z8bTa"
      },
      "execution_count": null,
      "outputs": []
    },
    {
      "cell_type": "code",
      "source": [],
      "metadata": {
        "id": "quSj5KSCnM5i"
      },
      "execution_count": null,
      "outputs": []
    },
    {
      "cell_type": "code",
      "source": [],
      "metadata": {
        "id": "HARUNGSGnM8i"
      },
      "execution_count": null,
      "outputs": []
    },
    {
      "cell_type": "code",
      "source": [],
      "metadata": {
        "id": "ArNbyQTxnM_j"
      },
      "execution_count": null,
      "outputs": []
    },
    {
      "cell_type": "code",
      "source": [],
      "metadata": {
        "id": "jPxQZOEvnNCa"
      },
      "execution_count": null,
      "outputs": []
    },
    {
      "cell_type": "code",
      "source": [],
      "metadata": {
        "id": "7cB0Lc-XnNFT"
      },
      "execution_count": null,
      "outputs": []
    },
    {
      "cell_type": "code",
      "source": [],
      "metadata": {
        "id": "K6dLXtb1nNIS"
      },
      "execution_count": null,
      "outputs": []
    },
    {
      "cell_type": "code",
      "source": [],
      "metadata": {
        "id": "F4H7y6drnNLK"
      },
      "execution_count": null,
      "outputs": []
    },
    {
      "cell_type": "code",
      "source": [],
      "metadata": {
        "id": "f_0NV3SwnNOD"
      },
      "execution_count": null,
      "outputs": []
    },
    {
      "cell_type": "code",
      "source": [],
      "metadata": {
        "id": "TiPsDc6inNQ3"
      },
      "execution_count": null,
      "outputs": []
    },
    {
      "cell_type": "code",
      "source": [],
      "metadata": {
        "id": "hKHmjmkRnNTy"
      },
      "execution_count": null,
      "outputs": []
    },
    {
      "cell_type": "code",
      "source": [],
      "metadata": {
        "id": "vreLHI9znNW6"
      },
      "execution_count": null,
      "outputs": []
    },
    {
      "cell_type": "code",
      "source": [],
      "metadata": {
        "id": "KHP2t13CnNZz"
      },
      "execution_count": null,
      "outputs": []
    },
    {
      "cell_type": "code",
      "source": [],
      "metadata": {
        "id": "vNBnuBdPnNc6"
      },
      "execution_count": null,
      "outputs": []
    },
    {
      "cell_type": "code",
      "source": [],
      "metadata": {
        "id": "N-XITqxVnNfz"
      },
      "execution_count": null,
      "outputs": []
    },
    {
      "cell_type": "code",
      "source": [],
      "metadata": {
        "id": "Q1qTFwuqnNiq"
      },
      "execution_count": null,
      "outputs": []
    },
    {
      "cell_type": "code",
      "source": [],
      "metadata": {
        "id": "jBX2OQS_nNlz"
      },
      "execution_count": null,
      "outputs": []
    },
    {
      "cell_type": "code",
      "source": [],
      "metadata": {
        "id": "tcuhtFS1nNpW"
      },
      "execution_count": null,
      "outputs": []
    },
    {
      "cell_type": "code",
      "source": [],
      "metadata": {
        "id": "43HrYe_HnNsd"
      },
      "execution_count": null,
      "outputs": []
    },
    {
      "cell_type": "code",
      "source": [],
      "metadata": {
        "id": "kyQSlp_3nNv0"
      },
      "execution_count": null,
      "outputs": []
    },
    {
      "cell_type": "code",
      "source": [],
      "metadata": {
        "id": "ePxf7jp9nNyz"
      },
      "execution_count": null,
      "outputs": []
    },
    {
      "cell_type": "code",
      "source": [],
      "metadata": {
        "id": "EYpDx9_XnN1K"
      },
      "execution_count": null,
      "outputs": []
    },
    {
      "cell_type": "code",
      "source": [],
      "metadata": {
        "id": "yIZg7gdCnN3y"
      },
      "execution_count": null,
      "outputs": []
    },
    {
      "cell_type": "code",
      "source": [],
      "metadata": {
        "id": "n7LzMBlRnN6a"
      },
      "execution_count": null,
      "outputs": []
    },
    {
      "cell_type": "code",
      "source": [],
      "metadata": {
        "id": "q7VbZ2n1nN9L"
      },
      "execution_count": null,
      "outputs": []
    },
    {
      "cell_type": "code",
      "source": [],
      "metadata": {
        "id": "iUlWrb-0nOCS"
      },
      "execution_count": null,
      "outputs": []
    },
    {
      "cell_type": "code",
      "source": [],
      "metadata": {
        "id": "0h7i2WRnnOE6"
      },
      "execution_count": null,
      "outputs": []
    },
    {
      "cell_type": "code",
      "source": [],
      "metadata": {
        "id": "5KUWXV4hnOH6"
      },
      "execution_count": null,
      "outputs": []
    }
  ]
}