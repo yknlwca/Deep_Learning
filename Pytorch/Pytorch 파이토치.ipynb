{
 "cells": [
  {
   "cell_type": "code",
   "execution_count": 1,
   "id": "d57212a2",
   "metadata": {},
   "outputs": [],
   "source": [
    "import numpy as np"
   ]
  },
  {
   "cell_type": "code",
   "execution_count": 2,
   "id": "a4f6cbbe",
   "metadata": {},
   "outputs": [],
   "source": [
    "# 넘파이로 텐서를 만드는 방법"
   ]
  },
  {
   "cell_type": "code",
   "execution_count": 3,
   "id": "d953bebe",
   "metadata": {},
   "outputs": [
    {
     "data": {
      "text/plain": [
       "array([1, 2, 3, 4])"
      ]
     },
     "execution_count": 3,
     "metadata": {},
     "output_type": "execute_result"
    }
   ],
   "source": [
    "# 1차원 텐서\n",
    "# 리스트 먼저 만들기\n",
    "# 넘파이의 어레이를 이용\n",
    "t = np.array([1,2,3,4])\n",
    "t"
   ]
  },
  {
   "cell_type": "code",
   "execution_count": 4,
   "id": "379726ec",
   "metadata": {},
   "outputs": [
    {
     "data": {
      "text/plain": [
       "1"
      ]
     },
     "execution_count": 4,
     "metadata": {},
     "output_type": "execute_result"
    }
   ],
   "source": [
    "t.ndim # 텐서의 크기(4,)는 (1,4)를 의미함"
   ]
  },
  {
   "cell_type": "code",
   "execution_count": 5,
   "id": "ce5a5776",
   "metadata": {},
   "outputs": [
    {
     "data": {
      "text/plain": [
       "array([[ 1.,  2.,  3.],\n",
       "       [ 4.,  5.,  6.],\n",
       "       [ 7.,  8.,  9.],\n",
       "       [10., 11., 12.]])"
      ]
     },
     "execution_count": 5,
     "metadata": {},
     "output_type": "execute_result"
    }
   ],
   "source": [
    "# 실수 형태로 만들어 보기\n",
    "t = np.array([[1.,2.,3.],[4.,5.,6.],[7.,8.,9.],[10.,11.,12.]])\n",
    "t"
   ]
  },
  {
   "cell_type": "code",
   "execution_count": 6,
   "id": "295b6caa",
   "metadata": {},
   "outputs": [
    {
     "data": {
      "text/plain": [
       "2"
      ]
     },
     "execution_count": 6,
     "metadata": {},
     "output_type": "execute_result"
    }
   ],
   "source": [
    "t.ndim"
   ]
  },
  {
   "cell_type": "code",
   "execution_count": 7,
   "id": "a8f2f253",
   "metadata": {},
   "outputs": [
    {
     "data": {
      "text/plain": [
       "(4, 3)"
      ]
     },
     "execution_count": 7,
     "metadata": {},
     "output_type": "execute_result"
    }
   ],
   "source": [
    "t.shape"
   ]
  },
  {
   "cell_type": "code",
   "execution_count": 8,
   "id": "413080be",
   "metadata": {},
   "outputs": [
    {
     "name": "stdout",
     "output_type": "stream",
     "text": [
      "Requirement already satisfied: torch in c:\\users\\user\\anaconda3\\lib\\site-packages (2.1.0)\n",
      "Requirement already satisfied: filelock in c:\\users\\user\\anaconda3\\lib\\site-packages (from torch) (3.9.0)\n",
      "Requirement already satisfied: typing-extensions in c:\\users\\user\\anaconda3\\lib\\site-packages (from torch) (4.7.1)\n",
      "Requirement already satisfied: sympy in c:\\users\\user\\anaconda3\\lib\\site-packages (from torch) (1.11.1)\n",
      "Requirement already satisfied: networkx in c:\\users\\user\\anaconda3\\lib\\site-packages (from torch) (3.1)\n",
      "Requirement already satisfied: jinja2 in c:\\users\\user\\anaconda3\\lib\\site-packages (from torch) (3.1.2)\n",
      "Requirement already satisfied: fsspec in c:\\users\\user\\anaconda3\\lib\\site-packages (from torch) (2023.3.0)\n",
      "Requirement already satisfied: MarkupSafe>=2.0 in c:\\users\\user\\anaconda3\\lib\\site-packages (from jinja2->torch) (2.1.1)\n",
      "Requirement already satisfied: mpmath>=0.19 in c:\\users\\user\\anaconda3\\lib\\site-packages (from sympy->torch) (1.3.0)\n",
      "Note: you may need to restart the kernel to use updated packages.\n"
     ]
    }
   ],
   "source": [
    "pip install torch"
   ]
  },
  {
   "cell_type": "code",
   "execution_count": 9,
   "id": "e224a7b3",
   "metadata": {},
   "outputs": [],
   "source": [
    "# t.shape, t.size()에서 괄호가 있고 없고 차이는 객체지향 프로그래밍을 알아야하는데\n",
    "# t.shape = 속성, t.size() = 함수(메서드)\n",
    "# 내차.달린다()   자동차(클래스)\n",
    "# 자동차 클래스로부터 파생(생성)된 실체(객체)기 내차\n",
    "# t는 실체, 위에서 t=torch.FloatTensor FloatTensor에서 만들어진것\n",
    "# 일반적으로 대문자로 시작하면 클래스, 클래스는 대문자로 시작함\n",
    "# FloatTensor(클래스) : 대문자로 시작\n",
    "# t.size()는 size라는 메서드를 클래스가 가지고 있는 것\n",
    "# 클래스에서 뒤에 ()를 붙이면 객체가 만들어지고 그 객체를 t라는 변수에 담은 것\n",
    "# t는 내 차와 같아짐"
   ]
  },
  {
   "cell_type": "code",
   "execution_count": 10,
   "id": "e7827327",
   "metadata": {},
   "outputs": [],
   "source": [
    "# 클래스는 설계도면 즉 붕어빵이라면 붕어빵 기계, 벽돌 공장\n",
    "# 객체 : 클래스로부터 생성되는 실체\n",
    "# 1. 설계도면 ->  실제건물\n",
    "# 2. 붕어빵기계 -> 붕어빵\n",
    "# 2. 벽돌공장 -> 벽돌\n",
    "# 메서드 : 객체가 수행하는 동작(기능)\n",
    "# 속성( 어트리뷰트) : 객체의 특성\n",
    "\n",
    "# 객체지향적 프로그래밍 : 과거에는 지향하지 않았지만 객체를 지향하는 방법으로 프로그래밍\n",
    "    # ex) 절차지향적 사례(과거 30년 전까지 )\n",
    "        # - 붕어빵기계로 붕어빵을 판매하던 시대가 지나가고 잉어빵 시대가 도래\n",
    "        # -> 붕어빵기계는 못쓰게 됨 -> 잉어빵 기계 새롭게 제작\n",
    "        # 시대가 바뀔때 마다 새로 바꿔줘야함\n",
    "        \n",
    "    # ex) 객체지향적 사례(현재 ~ 미래)\n",
    "        # - 붕어빵기계로 붕어빵을 판매하던 시대가 지나가고 잉어빵 시대가 도래, 붕어빵기계를 재사용\n",
    "        # -> 붕어빵기계 재사용(붕어빵기계의 메서드, 속성 중에서 그대로 사용할 것은 사용하고, 변경할 것은\n",
    "        # 변경, 버릴것은 버리고)"
   ]
  },
  {
   "cell_type": "code",
   "execution_count": 11,
   "id": "32fd8b7a",
   "metadata": {},
   "outputs": [
    {
     "data": {
      "text/plain": [
       "'\\nclass FloatTensor:\\n    속성 (특성)\\n    shape=len([0., 1., 2., 3., 4., 5., 6.])\\n    함수(동작)\\n    size(0):\\n    return len([0., 1., 2., 3., 4., 5., 6.])\\n'"
      ]
     },
     "execution_count": 11,
     "metadata": {},
     "output_type": "execute_result"
    }
   ],
   "source": [
    "\"\"\"\n",
    "class FloatTensor:\n",
    "    속성 (특성)\n",
    "    shape=len([0., 1., 2., 3., 4., 5., 6.])\n",
    "    함수(동작)\n",
    "    size(0):\n",
    "    return len([0., 1., 2., 3., 4., 5., 6.])\n",
    "\"\"\""
   ]
  },
  {
   "cell_type": "code",
   "execution_count": 12,
   "id": "b05bf558",
   "metadata": {},
   "outputs": [],
   "source": [
    "import torch"
   ]
  },
  {
   "cell_type": "code",
   "execution_count": 13,
   "id": "d3c9d40e",
   "metadata": {},
   "outputs": [],
   "source": [
    "t = torch.FloatTensor([[1., 2., 3.],\n",
    "                       [4., 5., 6.],\n",
    "                       [7., 8., 9.],\n",
    "                       [10., 11., 12.]\n",
    "                      ])"
   ]
  },
  {
   "cell_type": "code",
   "execution_count": 14,
   "id": "b3d51db8",
   "metadata": {},
   "outputs": [],
   "source": [
    "# 행렬 연산(덧셈,뺄셈) : 두 행렬의 크기가 같아야 함\n",
    "# 행렬 연산(곱셈) : 두 행렬의 마지막 차원과 첫번째 차원이 일치"
   ]
  },
  {
   "cell_type": "code",
   "execution_count": 15,
   "id": "44d35c77",
   "metadata": {},
   "outputs": [],
   "source": [
    "t1 = torch.FloatTensor([[1,1]])\n",
    "t2 = torch.FloatTensor([[2,2]])"
   ]
  },
  {
   "cell_type": "code",
   "execution_count": 16,
   "id": "8bf8b681",
   "metadata": {},
   "outputs": [
    {
     "data": {
      "text/plain": [
       "tensor([[3., 3.]])"
      ]
     },
     "execution_count": 16,
     "metadata": {},
     "output_type": "execute_result"
    }
   ],
   "source": [
    "t1.shape\n",
    "t1+t2"
   ]
  },
  {
   "cell_type": "code",
   "execution_count": 17,
   "id": "b006bf5c",
   "metadata": {},
   "outputs": [
    {
     "data": {
      "text/plain": [
       "tensor([[4., 4.]])"
      ]
     },
     "execution_count": 17,
     "metadata": {},
     "output_type": "execute_result"
    }
   ],
   "source": [
    "t3 = torch.FloatTensor([[1,1]]) # (1,2)\n",
    "t4 = torch.FloatTensor([3])     # 자동 변경 (브로드캐스팅) : (1,) -> (1,2)\n",
    "t3+t4"
   ]
  },
  {
   "cell_type": "code",
   "execution_count": 18,
   "id": "5265f7a6",
   "metadata": {},
   "outputs": [],
   "source": [
    "# 2*1 + 1*2\n",
    "t5 = torch.FloatTensor([[1,3]]) # [[1,3],\n",
    "                                # [1,3]]\n",
    "t6 = torch.FloatTensor([[1],[3]])\n",
    "# [[1],   ->   [[1],[1],\n",
    "# [3]]          [3],[3]]"
   ]
  },
  {
   "cell_type": "code",
   "execution_count": 19,
   "id": "fa2bfd32",
   "metadata": {},
   "outputs": [
    {
     "data": {
      "text/plain": [
       "torch.Size([1, 2])"
      ]
     },
     "execution_count": 19,
     "metadata": {},
     "output_type": "execute_result"
    }
   ],
   "source": [
    "t5.shape"
   ]
  },
  {
   "cell_type": "code",
   "execution_count": 20,
   "id": "b929a2ac",
   "metadata": {},
   "outputs": [
    {
     "data": {
      "text/plain": [
       "torch.Size([2, 1])"
      ]
     },
     "execution_count": 20,
     "metadata": {},
     "output_type": "execute_result"
    }
   ],
   "source": [
    "t6.shape"
   ]
  },
  {
   "cell_type": "code",
   "execution_count": 21,
   "id": "c3891ff5",
   "metadata": {},
   "outputs": [
    {
     "data": {
      "text/plain": [
       "tensor([[2., 4.],\n",
       "        [4., 6.]])"
      ]
     },
     "execution_count": 21,
     "metadata": {},
     "output_type": "execute_result"
    }
   ],
   "source": [
    "t5 + t6"
   ]
  },
  {
   "cell_type": "code",
   "execution_count": 22,
   "id": "256b2581",
   "metadata": {},
   "outputs": [],
   "source": [
    "m1 = torch.FloatTensor([[1, 2], [3, 4]])\n",
    "m2 = torch.FloatTensor([[1], [2]])"
   ]
  },
  {
   "cell_type": "code",
   "execution_count": 23,
   "id": "5b85b525",
   "metadata": {},
   "outputs": [
    {
     "data": {
      "text/plain": [
       "tensor([[ 5.],\n",
       "        [11.]])"
      ]
     },
     "execution_count": 23,
     "metadata": {},
     "output_type": "execute_result"
    }
   ],
   "source": [
    "m1.matmul(m2)"
   ]
  },
  {
   "cell_type": "code",
   "execution_count": 24,
   "id": "fbb77ca7",
   "metadata": {},
   "outputs": [
    {
     "data": {
      "text/plain": [
       "tensor([[1., 2.],\n",
       "        [3., 4.]])"
      ]
     },
     "execution_count": 24,
     "metadata": {},
     "output_type": "execute_result"
    }
   ],
   "source": [
    "t = torch.FloatTensor([[1,2],[3,4]])\n",
    "t"
   ]
  },
  {
   "cell_type": "code",
   "execution_count": 25,
   "id": "e1639c6d",
   "metadata": {},
   "outputs": [
    {
     "data": {
      "text/plain": [
       "tensor(2.5000)"
      ]
     },
     "execution_count": 25,
     "metadata": {},
     "output_type": "execute_result"
    }
   ],
   "source": [
    "t.mean()"
   ]
  },
  {
   "cell_type": "code",
   "execution_count": 26,
   "id": "55e10760",
   "metadata": {},
   "outputs": [
    {
     "data": {
      "text/plain": [
       "tensor([2., 3.])"
      ]
     },
     "execution_count": 26,
     "metadata": {},
     "output_type": "execute_result"
    }
   ],
   "source": [
    "t.mean(dim = 0) # dim = 0은 첫번째 차원, 행렬에서는 행"
   ]
  },
  {
   "cell_type": "code",
   "execution_count": 27,
   "id": "d5f11148",
   "metadata": {},
   "outputs": [
    {
     "data": {
      "text/plain": [
       "tensor([1.5000, 3.5000])"
      ]
     },
     "execution_count": 27,
     "metadata": {},
     "output_type": "execute_result"
    }
   ],
   "source": [
    "t.mean(dim = 1) # dim = 1은 두번째 차원, 행렬에서는 열, 열을 제거 -> 행만 남음"
   ]
  },
  {
   "cell_type": "code",
   "execution_count": 28,
   "id": "08db2952",
   "metadata": {},
   "outputs": [
    {
     "data": {
      "text/plain": [
       "tensor([4., 6.])"
      ]
     },
     "execution_count": 28,
     "metadata": {},
     "output_type": "execute_result"
    }
   ],
   "source": [
    "t.sum(dim = 0)"
   ]
  },
  {
   "cell_type": "code",
   "execution_count": 29,
   "id": "8789d9ce",
   "metadata": {},
   "outputs": [
    {
     "data": {
      "text/plain": [
       "tensor([3., 7.])"
      ]
     },
     "execution_count": 29,
     "metadata": {},
     "output_type": "execute_result"
    }
   ],
   "source": [
    "t.sum(dim = -1) # 마지막 차원 제거(열 제거)"
   ]
  },
  {
   "cell_type": "code",
   "execution_count": 30,
   "id": "813f6124",
   "metadata": {},
   "outputs": [
    {
     "data": {
      "text/plain": [
       "tensor(4.)"
      ]
     },
     "execution_count": 30,
     "metadata": {},
     "output_type": "execute_result"
    }
   ],
   "source": [
    "t.max()"
   ]
  },
  {
   "cell_type": "code",
   "execution_count": 31,
   "id": "cabec4bb",
   "metadata": {},
   "outputs": [
    {
     "data": {
      "text/plain": [
       "torch.return_types.max(\n",
       "values=tensor([3., 4.]),\n",
       "indices=tensor([1, 1]))"
      ]
     },
     "execution_count": 31,
     "metadata": {},
     "output_type": "execute_result"
    }
   ],
   "source": [
    "t.max(dim = 0) # 행 제거, indices(argmax) : 최대값의 인덱스"
   ]
  },
  {
   "cell_type": "code",
   "execution_count": 32,
   "id": "5dedd8b0",
   "metadata": {},
   "outputs": [],
   "source": [
    "t = np.array([[[0, 1, 2],\n",
    "               [3, 4, 5]],\n",
    "              [[6, 7, 8],\n",
    "               [9, 10, 11]]])\n",
    "ft = torch.FloatTensor(t)"
   ]
  },
  {
   "cell_type": "code",
   "execution_count": 33,
   "id": "d2ec7fa1",
   "metadata": {},
   "outputs": [
    {
     "data": {
      "text/plain": [
       "torch.Size([2, 2, 3])"
      ]
     },
     "execution_count": 33,
     "metadata": {},
     "output_type": "execute_result"
    }
   ],
   "source": [
    "ft.shape"
   ]
  },
  {
   "cell_type": "code",
   "execution_count": 34,
   "id": "590a9a1c",
   "metadata": {},
   "outputs": [
    {
     "data": {
      "text/plain": [
       "tensor([[ 0.,  1.,  2.],\n",
       "        [ 3.,  4.,  5.],\n",
       "        [ 6.,  7.,  8.],\n",
       "        [ 9., 10., 11.]])"
      ]
     },
     "execution_count": 34,
     "metadata": {},
     "output_type": "execute_result"
    }
   ],
   "source": [
    "ft.view([-1,3]) # view : 텐서 크기 변경. (-1,3)은 (?,3)표기 가능\n",
    "# [2,2,3] 3차원 텐서를 2차원 텐서로 변경 (-1,3)"
   ]
  },
  {
   "cell_type": "code",
   "execution_count": 35,
   "id": "2169c1e1",
   "metadata": {},
   "outputs": [
    {
     "data": {
      "text/plain": [
       "tensor([[ 0.,  1.,  2.],\n",
       "        [ 3.,  4.,  5.],\n",
       "        [ 6.,  7.,  8.],\n",
       "        [ 9., 10., 11.]])"
      ]
     },
     "execution_count": 35,
     "metadata": {},
     "output_type": "execute_result"
    }
   ],
   "source": [
    "ft.view([4,3])"
   ]
  },
  {
   "cell_type": "code",
   "execution_count": 36,
   "id": "0641de37",
   "metadata": {},
   "outputs": [
    {
     "data": {
      "text/plain": [
       "tensor([[ 0.,  1.,  2.],\n",
       "        [ 3.,  4.,  5.],\n",
       "        [ 6.,  7.,  8.],\n",
       "        [ 9., 10., 11.]])"
      ]
     },
     "execution_count": 36,
     "metadata": {},
     "output_type": "execute_result"
    }
   ],
   "source": [
    "ft.view([4,-1])"
   ]
  },
  {
   "cell_type": "code",
   "execution_count": 37,
   "id": "9d833686",
   "metadata": {},
   "outputs": [
    {
     "data": {
      "text/plain": [
       "tensor([[0.],\n",
       "        [1.],\n",
       "        [2.]])"
      ]
     },
     "execution_count": 37,
     "metadata": {},
     "output_type": "execute_result"
    }
   ],
   "source": [
    "ft= torch.FloatTensor([[0],[1],[2]])\n",
    "ft"
   ]
  },
  {
   "cell_type": "code",
   "execution_count": 38,
   "id": "7f4919f8",
   "metadata": {},
   "outputs": [
    {
     "data": {
      "text/plain": [
       "tensor([0., 1., 2.])"
      ]
     },
     "execution_count": 38,
     "metadata": {},
     "output_type": "execute_result"
    }
   ],
   "source": [
    "ft.squeeze()"
   ]
  },
  {
   "cell_type": "code",
   "execution_count": 39,
   "id": "72fb0ed6",
   "metadata": {},
   "outputs": [
    {
     "data": {
      "text/plain": [
       "tensor([[0., 1.],\n",
       "        [1., 2.],\n",
       "        [2., 3.]])"
      ]
     },
     "execution_count": 39,
     "metadata": {},
     "output_type": "execute_result"
    }
   ],
   "source": [
    "ft2 = torch.FloatTensor([[0,1],[1,2],[2,3]])\n",
    "ft2"
   ]
  },
  {
   "cell_type": "code",
   "execution_count": 40,
   "id": "633e93a5",
   "metadata": {},
   "outputs": [
    {
     "data": {
      "text/plain": [
       "tensor([[0., 1.],\n",
       "        [1., 2.],\n",
       "        [2., 3.]])"
      ]
     },
     "execution_count": 40,
     "metadata": {},
     "output_type": "execute_result"
    }
   ],
   "source": [
    "ft2.squeeze() # 행크기 3, 열크기 2 -> 크기가 1인 차원이 없으므로 제거 작업 X"
   ]
  },
  {
   "cell_type": "code",
   "execution_count": 41,
   "id": "754ab6cf",
   "metadata": {},
   "outputs": [],
   "source": [
    "# unsqueeze : 크기가 1인 차원을 특정 위치에 추가"
   ]
  },
  {
   "cell_type": "code",
   "execution_count": 42,
   "id": "7ef4cb75",
   "metadata": {},
   "outputs": [
    {
     "data": {
      "text/plain": [
       "tensor([0., 1., 2.])"
      ]
     },
     "execution_count": 42,
     "metadata": {},
     "output_type": "execute_result"
    }
   ],
   "source": [
    "ft =torch.Tensor([0,1,2])\n",
    "ft"
   ]
  },
  {
   "cell_type": "code",
   "execution_count": 43,
   "id": "5ced6eba",
   "metadata": {},
   "outputs": [
    {
     "data": {
      "text/plain": [
       "tensor([[0., 1., 2.]])"
      ]
     },
     "execution_count": 43,
     "metadata": {},
     "output_type": "execute_result"
    }
   ],
   "source": [
    "ft.unsqueeze(0) # (1,3)"
   ]
  },
  {
   "cell_type": "code",
   "execution_count": 44,
   "id": "94107614",
   "metadata": {},
   "outputs": [
    {
     "data": {
      "text/plain": [
       "tensor([[0.],\n",
       "        [1.],\n",
       "        [2.]])"
      ]
     },
     "execution_count": 44,
     "metadata": {},
     "output_type": "execute_result"
    }
   ],
   "source": [
    "ft.unsqueeze(1) # (3,1)"
   ]
  },
  {
   "cell_type": "code",
   "execution_count": 45,
   "id": "2229b7e3",
   "metadata": {},
   "outputs": [
    {
     "name": "stdout",
     "output_type": "stream",
     "text": [
      "tensor([1, 2, 3, 4])\n"
     ]
    }
   ],
   "source": [
    "lt = torch.LongTensor([1.0, 2, 3, 4])\n",
    "print(lt)"
   ]
  },
  {
   "cell_type": "code",
   "execution_count": 46,
   "id": "7626b800",
   "metadata": {},
   "outputs": [
    {
     "data": {
      "text/plain": [
       "tensor([1., 2., 3., 4.])"
      ]
     },
     "execution_count": 46,
     "metadata": {},
     "output_type": "execute_result"
    }
   ],
   "source": [
    "lt.float()"
   ]
  },
  {
   "cell_type": "code",
   "execution_count": 47,
   "id": "68eea15a",
   "metadata": {},
   "outputs": [
    {
     "name": "stdout",
     "output_type": "stream",
     "text": [
      "tensor([1, 0, 1, 0], dtype=torch.uint8)\n"
     ]
    }
   ],
   "source": [
    "bt = torch.ByteTensor([True,False,True,False])\n",
    "print(bt)"
   ]
  },
  {
   "cell_type": "code",
   "execution_count": 48,
   "id": "788f939d",
   "metadata": {},
   "outputs": [
    {
     "data": {
      "text/plain": [
       "tensor([1, 0, 1, 0])"
      ]
     },
     "execution_count": 48,
     "metadata": {},
     "output_type": "execute_result"
    }
   ],
   "source": [
    "bt.long()"
   ]
  },
  {
   "cell_type": "code",
   "execution_count": 49,
   "id": "bcb8ab75",
   "metadata": {},
   "outputs": [],
   "source": [
    "x = torch.FloatTensor([[1, 2], [3, 4]])\n",
    "y = torch.FloatTensor([[5, 6], [7, 8]])"
   ]
  },
  {
   "cell_type": "code",
   "execution_count": 50,
   "id": "38e4998d",
   "metadata": {},
   "outputs": [
    {
     "data": {
      "text/plain": [
       "tensor([[1., 2.],\n",
       "        [3., 4.],\n",
       "        [5., 6.],\n",
       "        [7., 8.]])"
      ]
     },
     "execution_count": 50,
     "metadata": {},
     "output_type": "execute_result"
    }
   ],
   "source": [
    "torch.cat([x,y])"
   ]
  },
  {
   "cell_type": "code",
   "execution_count": 51,
   "id": "fbfe017b",
   "metadata": {},
   "outputs": [
    {
     "data": {
      "text/plain": [
       "tensor([[1., 2.],\n",
       "        [3., 4.],\n",
       "        [5., 6.],\n",
       "        [7., 8.]])"
      ]
     },
     "execution_count": 51,
     "metadata": {},
     "output_type": "execute_result"
    }
   ],
   "source": [
    "torch.cat([x,y], dim = 0)"
   ]
  },
  {
   "cell_type": "code",
   "execution_count": 52,
   "id": "3f5be6a7",
   "metadata": {},
   "outputs": [
    {
     "data": {
      "text/plain": [
       "tensor([[1., 2., 5., 6.],\n",
       "        [3., 4., 7., 8.]])"
      ]
     },
     "execution_count": 52,
     "metadata": {},
     "output_type": "execute_result"
    }
   ],
   "source": [
    "torch.cat([x,y], dim = 1)"
   ]
  },
  {
   "cell_type": "code",
   "execution_count": 53,
   "id": "219bf74a",
   "metadata": {},
   "outputs": [],
   "source": [
    "x = torch.FloatTensor([1, 4])\n",
    "y = torch.FloatTensor([2, 5])\n",
    "z = torch.FloatTensor([3, 6])"
   ]
  },
  {
   "cell_type": "code",
   "execution_count": 54,
   "id": "4dc1490d",
   "metadata": {},
   "outputs": [
    {
     "data": {
      "text/plain": [
       "tensor([[1., 4.],\n",
       "        [2., 5.],\n",
       "        [3., 6.]])"
      ]
     },
     "execution_count": 54,
     "metadata": {},
     "output_type": "execute_result"
    }
   ],
   "source": [
    "torch.stack([x,y,z])"
   ]
  },
  {
   "cell_type": "code",
   "execution_count": 55,
   "id": "177be50e",
   "metadata": {},
   "outputs": [
    {
     "name": "stdout",
     "output_type": "stream",
     "text": [
      "tensor([[0., 1., 2.],\n",
      "        [2., 1., 0.]])\n"
     ]
    }
   ],
   "source": [
    "x = torch.FloatTensor([[0, 1, 2], [2, 1, 0]])\n",
    "print(x)"
   ]
  },
  {
   "cell_type": "code",
   "execution_count": 56,
   "id": "292eeb05",
   "metadata": {},
   "outputs": [
    {
     "data": {
      "text/plain": [
       "tensor([[1., 1., 1.],\n",
       "        [1., 1., 1.]])"
      ]
     },
     "execution_count": 56,
     "metadata": {},
     "output_type": "execute_result"
    }
   ],
   "source": [
    "# 텐서의 크기는 그대로 두되, 새롭게 0 또는 1로 값을 채우는 것\n",
    "torch.ones_like(x)"
   ]
  },
  {
   "cell_type": "code",
   "execution_count": 57,
   "id": "5aa44415",
   "metadata": {},
   "outputs": [],
   "source": [
    "x = torch.FloatTensor([[1, 2], [3, 4]])"
   ]
  },
  {
   "cell_type": "code",
   "execution_count": 58,
   "id": "fd8b3609",
   "metadata": {},
   "outputs": [
    {
     "data": {
      "text/plain": [
       "tensor([[2., 4.],\n",
       "        [6., 8.]])"
      ]
     },
     "execution_count": 58,
     "metadata": {},
     "output_type": "execute_result"
    }
   ],
   "source": [
    "x*2"
   ]
  },
  {
   "cell_type": "code",
   "execution_count": 59,
   "id": "2635f4d1",
   "metadata": {},
   "outputs": [
    {
     "data": {
      "text/plain": [
       "tensor([[2., 4.],\n",
       "        [6., 8.]])"
      ]
     },
     "execution_count": 59,
     "metadata": {},
     "output_type": "execute_result"
    }
   ],
   "source": [
    "x.mul(2)"
   ]
  },
  {
   "cell_type": "code",
   "execution_count": 60,
   "id": "2251b7a6",
   "metadata": {},
   "outputs": [
    {
     "data": {
      "text/plain": [
       "tensor([[2., 4.],\n",
       "        [6., 8.]])"
      ]
     },
     "execution_count": 60,
     "metadata": {},
     "output_type": "execute_result"
    }
   ],
   "source": [
    "x.mul_(2) # 덮어쓰기"
   ]
  },
  {
   "cell_type": "code",
   "execution_count": 61,
   "id": "5a3e425d",
   "metadata": {},
   "outputs": [],
   "source": [
    "result = 0"
   ]
  },
  {
   "cell_type": "code",
   "execution_count": 62,
   "id": "7a1bd07c",
   "metadata": {},
   "outputs": [],
   "source": [
    "def add(num):\n",
    "    result = 1 # 함수 내에서만 사용되는 변수\n",
    "    result += num\n",
    "    return result"
   ]
  },
  {
   "cell_type": "code",
   "execution_count": 63,
   "id": "e5ae3bb6",
   "metadata": {},
   "outputs": [
    {
     "data": {
      "text/plain": [
       "4"
      ]
     },
     "execution_count": 63,
     "metadata": {},
     "output_type": "execute_result"
    }
   ],
   "source": [
    "add(3)"
   ]
  },
  {
   "cell_type": "code",
   "execution_count": 64,
   "id": "a3445083",
   "metadata": {},
   "outputs": [],
   "source": [
    "result1 = 0\n",
    "result2 = 0"
   ]
  },
  {
   "cell_type": "code",
   "execution_count": 65,
   "id": "139d7a21",
   "metadata": {},
   "outputs": [],
   "source": [
    "def add1(num):\n",
    "    global result1\n",
    "    result1 += num\n",
    "    return result1"
   ]
  },
  {
   "cell_type": "code",
   "execution_count": 66,
   "id": "595384b7",
   "metadata": {},
   "outputs": [],
   "source": [
    "def add2(num):\n",
    "    global result2\n",
    "    result2 += num\n",
    "    return result2"
   ]
  },
  {
   "cell_type": "code",
   "execution_count": 67,
   "id": "980c1d59",
   "metadata": {},
   "outputs": [
    {
     "name": "stdout",
     "output_type": "stream",
     "text": [
      "3\n",
      "7\n"
     ]
    }
   ],
   "source": [
    "print(add1(3))\n",
    "print(add1(4))"
   ]
  },
  {
   "cell_type": "code",
   "execution_count": 68,
   "id": "6decdf7f",
   "metadata": {},
   "outputs": [
    {
     "name": "stdout",
     "output_type": "stream",
     "text": [
      "2\n",
      "8\n"
     ]
    }
   ],
   "source": [
    "print(add2(2))\n",
    "print(add2(6))"
   ]
  },
  {
   "cell_type": "code",
   "execution_count": 69,
   "id": "a07d59fe",
   "metadata": {},
   "outputs": [],
   "source": [
    "class Calculator:\n",
    "    def __init__(self): # 클래스 -> 객체 생성될때 자동 호출 (생성자)\n",
    "        self.result = 0\n",
    "        print('생성자 호출됨')\n",
    "    def add(self,num):\n",
    "        self.result += num\n",
    "        print('add함수 호출됨')\n",
    "        return self.result"
   ]
  },
  {
   "cell_type": "code",
   "execution_count": 70,
   "id": "11bdd561",
   "metadata": {},
   "outputs": [
    {
     "name": "stdout",
     "output_type": "stream",
     "text": [
      "생성자 호출됨\n",
      "생성자 호출됨\n"
     ]
    }
   ],
   "source": [
    "cal1 = Calculator() # 클래스 -> 객체 생성\n",
    "cal2 = Calculator()"
   ]
  },
  {
   "cell_type": "code",
   "execution_count": 71,
   "id": "386669ee",
   "metadata": {},
   "outputs": [
    {
     "name": "stdout",
     "output_type": "stream",
     "text": [
      "add함수 호출됨\n"
     ]
    },
    {
     "data": {
      "text/plain": [
       "3"
      ]
     },
     "execution_count": 71,
     "metadata": {},
     "output_type": "execute_result"
    }
   ],
   "source": [
    "cal1.add(3)"
   ]
  },
  {
   "cell_type": "code",
   "execution_count": 72,
   "id": "851ee480",
   "metadata": {},
   "outputs": [
    {
     "name": "stdout",
     "output_type": "stream",
     "text": [
      "add함수 호출됨\n"
     ]
    },
    {
     "data": {
      "text/plain": [
       "7"
      ]
     },
     "execution_count": 72,
     "metadata": {},
     "output_type": "execute_result"
    }
   ],
   "source": [
    "cal1.add(4)"
   ]
  },
  {
   "cell_type": "code",
   "execution_count": 73,
   "id": "3960f59c",
   "metadata": {},
   "outputs": [
    {
     "name": "stdout",
     "output_type": "stream",
     "text": [
      "add함수 호출됨\n"
     ]
    },
    {
     "data": {
      "text/plain": [
       "2"
      ]
     },
     "execution_count": 73,
     "metadata": {},
     "output_type": "execute_result"
    }
   ],
   "source": [
    "cal2.add(2)"
   ]
  },
  {
   "cell_type": "code",
   "execution_count": 74,
   "id": "18ef239e",
   "metadata": {},
   "outputs": [],
   "source": [
    "import torch\n",
    "import torch.nn as nn\n",
    "import torch.nn.functional as F\n",
    "import torch.optim as optim"
   ]
  },
  {
   "cell_type": "code",
   "execution_count": 75,
   "id": "6620abaa",
   "metadata": {},
   "outputs": [
    {
     "data": {
      "text/plain": [
       "<torch._C.Generator at 0x2108b6aaaf0>"
      ]
     },
     "execution_count": 75,
     "metadata": {},
     "output_type": "execute_result"
    }
   ],
   "source": [
    "torch.manual_seed(1)"
   ]
  },
  {
   "cell_type": "code",
   "execution_count": 76,
   "id": "580aa500",
   "metadata": {},
   "outputs": [],
   "source": [
    "x_train = torch.FloatTensor([[1], [2], [3]])\n",
    "y_train = torch.FloatTensor([[2], [4], [6]])"
   ]
  },
  {
   "cell_type": "code",
   "execution_count": 77,
   "id": "176f51a3",
   "metadata": {},
   "outputs": [
    {
     "data": {
      "text/plain": [
       "torch.Size([3, 1])"
      ]
     },
     "execution_count": 77,
     "metadata": {},
     "output_type": "execute_result"
    }
   ],
   "source": [
    "x_train.shape"
   ]
  },
  {
   "cell_type": "code",
   "execution_count": 78,
   "id": "b6fca39f",
   "metadata": {},
   "outputs": [
    {
     "data": {
      "text/plain": [
       "tensor([0.], requires_grad=True)"
      ]
     },
     "execution_count": 78,
     "metadata": {},
     "output_type": "execute_result"
    }
   ],
   "source": [
    "W = torch.zeros(1,requires_grad = True) # requires_grad = True  W는 변수\n",
    "W"
   ]
  },
  {
   "cell_type": "code",
   "execution_count": 79,
   "id": "ba17f359",
   "metadata": {},
   "outputs": [],
   "source": [
    "b = torch.zeros(1,requires_grad = True)"
   ]
  },
  {
   "cell_type": "code",
   "execution_count": 80,
   "id": "197366e1",
   "metadata": {},
   "outputs": [],
   "source": [
    "# 초기 모델 가설 함수 : y = 0*x +0\n",
    "# hx = W * x_train + b"
   ]
  },
  {
   "cell_type": "code",
   "execution_count": 81,
   "id": "936c6090",
   "metadata": {},
   "outputs": [],
   "source": [
    "# hx"
   ]
  },
  {
   "cell_type": "code",
   "execution_count": 82,
   "id": "d6c21024",
   "metadata": {},
   "outputs": [],
   "source": [
    "# cost\n",
    "# cost = torch.mean((hx - y_train)**2)\n",
    "# cost"
   ]
  },
  {
   "cell_type": "code",
   "execution_count": 83,
   "id": "c0b762d1",
   "metadata": {},
   "outputs": [],
   "source": [
    "# optimizer = optim.SGD([W,b],lr=0.01)"
   ]
  },
  {
   "cell_type": "code",
   "execution_count": 84,
   "id": "6247cc53",
   "metadata": {},
   "outputs": [],
   "source": [
    "# optimizer.zero_grad() # 미분을 해서 구한 기울기를 0으로 초기화해줌\n",
    "# cost.backward() # W, b에 대한 기울기가 계산\n",
    "# optimizer.step() # W,b에 대한 업데이트"
   ]
  },
  {
   "cell_type": "code",
   "execution_count": 85,
   "id": "f0532dde",
   "metadata": {},
   "outputs": [],
   "source": [
    "# W # W : 2"
   ]
  },
  {
   "cell_type": "code",
   "execution_count": 86,
   "id": "181e51b4",
   "metadata": {},
   "outputs": [],
   "source": [
    "# b # b : 0"
   ]
  },
  {
   "cell_type": "code",
   "execution_count": 87,
   "id": "f3c9cdaa",
   "metadata": {},
   "outputs": [],
   "source": [
    "# W.item()\n",
    "# b.item()"
   ]
  },
  {
   "cell_type": "code",
   "execution_count": 88,
   "id": "489afb4a",
   "metadata": {},
   "outputs": [
    {
     "name": "stdout",
     "output_type": "stream",
     "text": [
      "0 0.18666668236255646 0.07999999821186066 18.66666603088379\n",
      "100 1.7456912994384766 0.5780722498893738 0.04817060008645058\n",
      "200 1.80009925365448 0.4544214904308319 0.029766537249088287\n",
      "300 1.8428597450256348 0.35721680521965027 0.018393920734524727\n",
      "400 1.876473307609558 0.28080499172210693 0.011366334743797779\n",
      "500 1.9028971195220947 0.22073803842067719 0.007023668382316828\n",
      "600 1.9236682653427124 0.1735200434923172 0.00434019835665822\n",
      "700 1.9399964809417725 0.13640251755714417 0.0026819754857569933\n",
      "800 1.952831506729126 0.10722480714321136 0.0016572937602177262\n",
      "900 1.9629212617874146 0.0842885971069336 0.0010241125710308552\n",
      "1000 1.9708527326583862 0.06625857204198837 0.0006328357267193496\n",
      "1100 1.977087378501892 0.05208539217710495 0.0003910581872332841\n",
      "1200 1.9819889068603516 0.04094360023736954 0.0002416476490907371\n",
      "1300 1.9858416318893433 0.032185304909944534 0.00014932315389160067\n",
      "1400 1.9888702630996704 0.025300635024905205 9.227206464856863e-05\n",
      "1500 1.991250991821289 0.019888687878847122 5.702077760361135e-05\n",
      "1600 1.9931223392486572 0.015634294599294662 3.523503983160481e-05\n",
      "1700 1.994593620300293 0.01229004468768835 2.1773657863377593e-05\n",
      "1800 1.995750069618225 0.009661080315709114 1.3454421605274547e-05\n",
      "1900 1.9966591596603394 0.007594636641442776 8.314520528074354e-06\n"
     ]
    }
   ],
   "source": [
    "optimizer = optim.SGD([W,b],lr=0.01)\n",
    "for epoch in range(2000):\n",
    "    hx = W * x_train + b\n",
    "    cost = torch.mean((hx - y_train)**2)\n",
    "    optimizer.zero_grad() \n",
    "    cost.backward() \n",
    "    optimizer.step()\n",
    "    if epoch % 100 ==0 :\n",
    "        print(epoch,W.item(),b.item(),cost.item())"
   ]
  },
  {
   "cell_type": "code",
   "execution_count": 89,
   "id": "8b51696a",
   "metadata": {},
   "outputs": [
    {
     "data": {
      "text/plain": [
       "9.992821462452412"
      ]
     },
     "execution_count": 89,
     "metadata": {},
     "output_type": "execute_result"
    }
   ],
   "source": [
    "W.item()*5 + b.item()"
   ]
  },
  {
   "cell_type": "code",
   "execution_count": 90,
   "id": "683edcac",
   "metadata": {},
   "outputs": [],
   "source": [
    "w = torch.tensor(2.0, requires_grad = True)"
   ]
  },
  {
   "cell_type": "code",
   "execution_count": 91,
   "id": "e37552ec",
   "metadata": {},
   "outputs": [],
   "source": [
    "y = w **2"
   ]
  },
  {
   "cell_type": "code",
   "execution_count": 92,
   "id": "147a5698",
   "metadata": {},
   "outputs": [
    {
     "data": {
      "text/plain": [
       "tensor(4., grad_fn=<PowBackward0>)"
      ]
     },
     "execution_count": 92,
     "metadata": {},
     "output_type": "execute_result"
    }
   ],
   "source": [
    "y"
   ]
  },
  {
   "cell_type": "code",
   "execution_count": 93,
   "id": "7691fa3d",
   "metadata": {},
   "outputs": [
    {
     "data": {
      "text/plain": [
       "tensor(13., grad_fn=<AddBackward0>)"
      ]
     },
     "execution_count": 93,
     "metadata": {},
     "output_type": "execute_result"
    }
   ],
   "source": [
    "z = 2*y + 5\n",
    "z"
   ]
  },
  {
   "cell_type": "code",
   "execution_count": 94,
   "id": "31327c59",
   "metadata": {},
   "outputs": [],
   "source": [
    "z.backward()"
   ]
  },
  {
   "cell_type": "code",
   "execution_count": 95,
   "id": "c5cb29ad",
   "metadata": {},
   "outputs": [
    {
     "data": {
      "text/plain": [
       "tensor(8.)"
      ]
     },
     "execution_count": 95,
     "metadata": {},
     "output_type": "execute_result"
    }
   ],
   "source": [
    "w.grad # z수식을 w로 미분한 값"
   ]
  },
  {
   "cell_type": "code",
   "execution_count": 96,
   "id": "93a88215",
   "metadata": {},
   "outputs": [],
   "source": [
    "x1_train = torch.FloatTensor([[73], [93], [89], [96], [73]])\n",
    "x2_train = torch.FloatTensor([[80], [88], [91], [98], [66]])\n",
    "x3_train = torch.FloatTensor([[75], [93], [90], [100], [70]])\n",
    "y_train = torch.FloatTensor([[152], [185], [180], [196], [142]])"
   ]
  },
  {
   "cell_type": "code",
   "execution_count": 97,
   "id": "c8a581e0",
   "metadata": {},
   "outputs": [],
   "source": [
    "w1 = torch.zeros(1, requires_grad=True)\n",
    "w2 = torch.zeros(1, requires_grad=True)\n",
    "w3 = torch.zeros(1, requires_grad=True)\n",
    "b = torch.zeros(1, requires_grad=True)"
   ]
  },
  {
   "cell_type": "code",
   "execution_count": 98,
   "id": "d017f08e",
   "metadata": {},
   "outputs": [
    {
     "name": "stdout",
     "output_type": "stream",
     "text": [
      "0 0.0029401201754808426 0.0029360000044107437 0.0029738000594079494 3.420000211917795e-05 29661.80078125\n",
      "100 0.24016305804252625 0.2398034930229187 0.24290433526039124 0.002793786348775029 12276.9267578125\n",
      "200 0.39279428124427795 0.3921634256839752 0.397259384393692 0.0045696343295276165 5081.94140625\n",
      "300 0.49100565910339355 0.4901577830314636 0.49656152725219727 0.005712618585675955 2104.19189453125\n",
      "400 0.5542075037956238 0.5531775951385498 0.5604471564292908 0.006448470056056976 871.80517578125\n",
      "500 0.5948866009712219 0.5936970710754395 0.6015483140945435 0.006922401022166014 361.76568603515625\n",
      "600 0.6210764050483704 0.6197422742843628 0.6279918551445007 0.0072278352454304695 150.67652893066406\n",
      "700 0.6379450559616089 0.6364750862121582 0.6450056433677673 0.007424870505928993 63.31452560424805\n",
      "800 0.6488174200057983 0.6472178101539612 0.6559532284736633 0.007552170194685459 27.156991958618164\n",
      "900 0.655832052230835 0.6541066765785217 0.662997841835022 0.007634604815393686 12.192525863647461\n",
      "1000 0.6603646278381348 0.6585156917572021 0.6675321459770203 0.007688181009143591 5.9990034103393555\n",
      "1100 0.6633005738258362 0.6613302230834961 0.6704515218734741 0.007723189890384674 3.4351439476013184\n",
      "1200 0.6652094125747681 0.6631184816360474 0.6723315119743347 0.007746256422251463 2.373706102371216\n",
      "1300 0.6664572954177856 0.6642464995384216 0.6735436320304871 0.007761633954942226 1.9339914321899414\n",
      "1400 0.6672801971435547 0.664949893951416 0.6743251085281372 0.007772070821374655 1.7516133785247803\n",
      "1500 0.667829692363739 0.6653802394866943 0.6748302578926086 0.007779325358569622 1.6756880283355713\n",
      "1600 0.6682032942771912 0.6656349301338196 0.6751570701599121 0.007784534711390734 1.643866777420044\n",
      "1700 0.6684635877609253 0.6657766103744507 0.6753695607185364 0.007788426708430052 1.63028085231781\n",
      "1800 0.6686511039733887 0.6658454537391663 0.6755083203315735 0.007791472598910332 1.624227523803711\n",
      "1900 0.6687918901443481 0.6658675074577332 0.6755998134613037 0.007793974597007036 1.6213124990463257\n"
     ]
    }
   ],
   "source": [
    "optimizer = optim.SGD([w1,w2,w3,b],lr=0.0000001) # 0.01 <= lr <= 0.001\n",
    "# 1*10의 -5 승 = 1 * 0.00001\n",
    "for epoch in range(2000):\n",
    "    hx = w1 * x1_train + w2 * x2_train + w3 * x3_train + b\n",
    "    cost = torch.mean((hx - y_train)**2)\n",
    "    optimizer.zero_grad() \n",
    "    cost.backward() \n",
    "    optimizer.step()\n",
    "    if epoch % 100 ==0 :\n",
    "        print(epoch,w1.item(),w2.item(),w3.item(),b.item(),cost.item())\n",
    "# nan : 발산의 의미"
   ]
  },
  {
   "cell_type": "code",
   "execution_count": 99,
   "id": "2f49314a",
   "metadata": {},
   "outputs": [],
   "source": [
    "# 표준화 버전\n",
    "x1_train = torch.FloatTensor([[0.73], [0.93], [0.89], [0.96], [0.73]])\n",
    "x2_train = torch.FloatTensor([[0.80], [0.88], [0.91], [0.98], [0.66]])\n",
    "x3_train = torch.FloatTensor([[0.75], [0.93], [0.90], [1.00], [0.70]])\n",
    "y_train = torch.FloatTensor([[1.52], [1.85], [1.80], [1.96], [1.42]])"
   ]
  },
  {
   "cell_type": "code",
   "execution_count": 100,
   "id": "d0a6961e",
   "metadata": {},
   "outputs": [
    {
     "data": {
      "text/plain": [
       "180.9457216821611"
      ]
     },
     "execution_count": 100,
     "metadata": {},
     "output_type": "execute_result"
    }
   ],
   "source": [
    "w1.item()*90 + w2.item()*90 + w3.item()*90 + b.item()\n",
    "# 예상 점수 : 180.9457216821611"
   ]
  },
  {
   "cell_type": "code",
   "execution_count": 101,
   "id": "db42d39e",
   "metadata": {},
   "outputs": [],
   "source": [
    "x_train  =  torch.FloatTensor([[73,  80,  75], \n",
    "                               [93,  88,  93], \n",
    "                               [89,  91,  80], \n",
    "                               [96,  98,  100],   \n",
    "                               [73,  66,  70]])  \n",
    "y_train  =  torch.FloatTensor([[152],  [185],  [180],  [196],  [142]])"
   ]
  },
  {
   "cell_type": "code",
   "execution_count": 102,
   "id": "a62278d2",
   "metadata": {},
   "outputs": [
    {
     "name": "stdout",
     "output_type": "stream",
     "text": [
      "torch.Size([5, 3])\n",
      "torch.Size([5, 1])\n"
     ]
    }
   ],
   "source": [
    "print(x_train.shape)\n",
    "print(y_train.shape)"
   ]
  },
  {
   "cell_type": "code",
   "execution_count": 103,
   "id": "87d713d7",
   "metadata": {},
   "outputs": [],
   "source": [
    "#w1 = torch.zeros(1, requires_grad=True)\n",
    "#w2 = torch.zeros(1, requires_grad=True)\n",
    "#w3 = torch.zeros(1, requires_grad=True)\n",
    "W = torch.zeros((3,1), requires_grad=True)\n",
    "b = torch.zeros(1, requires_grad=True)"
   ]
  },
  {
   "cell_type": "code",
   "execution_count": 104,
   "id": "8d9c63ec",
   "metadata": {},
   "outputs": [],
   "source": [
    "optimizer=optim.SGD([W,b],lr=0.00001)"
   ]
  },
  {
   "cell_type": "code",
   "execution_count": 106,
   "id": "696d31a8",
   "metadata": {},
   "outputs": [
    {
     "name": "stdout",
     "output_type": "stream",
     "text": [
      "0 9537.6943359375\n",
      "100 5.752121448516846\n",
      "200 5.510031700134277\n",
      "300 5.2793989181518555\n",
      "400 5.059759616851807\n",
      "500 4.850369930267334\n",
      "600 4.650723457336426\n",
      "700 4.460408687591553\n",
      "800 4.278825759887695\n",
      "900 4.105560779571533\n",
      "1000 3.940225124359131\n",
      "1100 3.782344102859497\n",
      "1200 3.6315715312957764\n",
      "1300 3.4875869750976562\n",
      "1400 3.3499629497528076\n",
      "1500 3.218451738357544\n",
      "1600 3.092745304107666\n",
      "1700 2.9725329875946045\n",
      "1800 2.8575236797332764\n",
      "1900 2.7475745677948\n"
     ]
    }
   ],
   "source": [
    "for epoch in range(2000):\n",
    "    hx=x_train.matmul(W) + b\n",
    "    cost=torch.mean((hx - y_train)**2)\n",
    "    optimizer.zero_grad()\n",
    "    cost.backward()\n",
    "    optimizer.step()\n",
    "    if epoch%100 ==0: \n",
    "        print(epoch ,cost.item())"
   ]
  },
  {
   "cell_type": "code",
   "execution_count": 107,
   "id": "6f3c9845",
   "metadata": {},
   "outputs": [],
   "source": [
    "import torch\n",
    "import torch.nn as nn\n",
    "import torch.nn.functional as F"
   ]
  },
  {
   "cell_type": "code",
   "execution_count": 108,
   "id": "47f9405e",
   "metadata": {},
   "outputs": [
    {
     "data": {
      "text/plain": [
       "<torch._C.Generator at 0x2108b6aaaf0>"
      ]
     },
     "execution_count": 108,
     "metadata": {},
     "output_type": "execute_result"
    }
   ],
   "source": [
    "torch.manual_seed(1)"
   ]
  },
  {
   "cell_type": "code",
   "execution_count": 109,
   "id": "f889636c",
   "metadata": {},
   "outputs": [],
   "source": [
    "x_train = torch.FloatTensor([[1], [2], [3]])\n",
    "y_train = torch.FloatTensor([[2], [4], [6]])"
   ]
  },
  {
   "cell_type": "code",
   "execution_count": 110,
   "id": "ed04fa7d",
   "metadata": {},
   "outputs": [
    {
     "data": {
      "text/plain": [
       "[Parameter containing:\n",
       " tensor([[0.5153]], requires_grad=True),\n",
       " Parameter containing:\n",
       " tensor([-0.4414], requires_grad=True)]"
      ]
     },
     "execution_count": 110,
     "metadata": {},
     "output_type": "execute_result"
    }
   ],
   "source": [
    "model = nn.Linear(1,1)\n",
    "list(model.parameters())\n",
    "# 초기 모델 : y = 0.5153 * x_train -0.4414"
   ]
  },
  {
   "cell_type": "code",
   "execution_count": 111,
   "id": "a5d3196b",
   "metadata": {},
   "outputs": [],
   "source": [
    "optimizer = torch.optim.SGD(model.parameters(),lr=0.01)"
   ]
  },
  {
   "cell_type": "code",
   "execution_count": 112,
   "id": "27dea4ff",
   "metadata": {},
   "outputs": [
    {
     "name": "stdout",
     "output_type": "stream",
     "text": [
      "0 13.103541374206543\n",
      "100 0.00279058120213449\n",
      "200 0.00172441138420254\n",
      "300 0.0010655784280970693\n",
      "400 0.0006584661896340549\n",
      "500 0.0004068926500622183\n",
      "600 0.0002514346851967275\n",
      "700 0.00015537298168055713\n",
      "800 9.601024794392288e-05\n",
      "900 5.9327696362743154e-05\n",
      "1000 3.66610438504722e-05\n",
      "1100 2.2655576685792767e-05\n",
      "1200 1.3999051589053124e-05\n",
      "1300 8.65114816406276e-06\n",
      "1400 5.346103989722906e-06\n",
      "1500 3.3032331430149497e-06\n",
      "1600 2.04174443751981e-06\n",
      "1700 1.2618406799447257e-06\n",
      "1800 7.801028800713539e-07\n",
      "1900 4.823282324650791e-07\n"
     ]
    }
   ],
   "source": [
    "for epoch in range(2000):\n",
    "    \n",
    "    hx = model(x_train) # hx = x_train.matmul(W) + b\n",
    "    cost = F.mse_loss(hx, y_train) # cost=torch.mean((hx - y_train)**2)\n",
    "    \n",
    "    optimizer.zero_grad() # 나머지는 그대로\n",
    "    cost.backward()\n",
    "    optimizer.step()\n",
    "    if epoch%100 ==0: \n",
    "        print(epoch ,cost.item())"
   ]
  },
  {
   "cell_type": "code",
   "execution_count": 113,
   "id": "14127f11",
   "metadata": {},
   "outputs": [
    {
     "data": {
      "text/plain": [
       "[Parameter containing:\n",
       " tensor([[1.9994]], requires_grad=True),\n",
       " Parameter containing:\n",
       " tensor([0.0014], requires_grad=True)]"
      ]
     },
     "execution_count": 113,
     "metadata": {},
     "output_type": "execute_result"
    }
   ],
   "source": [
    "list(model.parameters())"
   ]
  },
  {
   "cell_type": "code",
   "execution_count": 123,
   "id": "a326de40",
   "metadata": {},
   "outputs": [],
   "source": [
    "new_var =  torch.FloatTensor([[4.0]])"
   ]
  },
  {
   "cell_type": "code",
   "execution_count": 124,
   "id": "67ca629b",
   "metadata": {},
   "outputs": [
    {
     "data": {
      "text/plain": [
       "tensor([[7.9989]], grad_fn=<AddmmBackward0>)"
      ]
     },
     "execution_count": 124,
     "metadata": {},
     "output_type": "execute_result"
    }
   ],
   "source": [
    "model(new_var)"
   ]
  },
  {
   "cell_type": "code",
   "execution_count": 125,
   "id": "cda4a0ae",
   "metadata": {},
   "outputs": [],
   "source": [
    "x_train = torch.FloatTensor([[73, 80, 75],\n",
    "                             [93, 88, 93],\n",
    "                             [89, 91, 90],\n",
    "                             [96, 98, 100],\n",
    "                             [73, 66, 70]])\n",
    "y_train = torch.FloatTensor([[152], [185], [180], [196], [142]])"
   ]
  },
  {
   "cell_type": "code",
   "execution_count": 126,
   "id": "93eb0bcb",
   "metadata": {},
   "outputs": [],
   "source": [
    "model = nn.Linear(3,1) # 입력차원, 출력차원"
   ]
  },
  {
   "cell_type": "code",
   "execution_count": 127,
   "id": "1ea36082",
   "metadata": {},
   "outputs": [
    {
     "data": {
      "text/plain": [
       "[Parameter containing:\n",
       " tensor([[-0.1119,  0.2710, -0.5435]], requires_grad=True),\n",
       " Parameter containing:\n",
       " tensor([0.3462], requires_grad=True)]"
      ]
     },
     "execution_count": 127,
     "metadata": {},
     "output_type": "execute_result"
    }
   ],
   "source": [
    "list(model.parameters())"
   ]
  },
  {
   "cell_type": "code",
   "execution_count": 128,
   "id": "41ae221d",
   "metadata": {},
   "outputs": [],
   "source": [
    "optimizer = torch.optim.SGD(model.parameters(), lr = 1e-5)"
   ]
  },
  {
   "cell_type": "code",
   "execution_count": 129,
   "id": "4782bf7b",
   "metadata": {},
   "outputs": [
    {
     "name": "stdout",
     "output_type": "stream",
     "text": [
      "0 42134.70703125\n",
      "100 5.960053443908691\n",
      "200 5.654706954956055\n",
      "300 5.365412712097168\n",
      "400 5.091428756713867\n",
      "500 4.831833839416504\n",
      "600 4.585997104644775\n",
      "700 4.353074550628662\n",
      "800 4.132411003112793\n",
      "900 3.9234554767608643\n",
      "1000 3.7255024909973145\n",
      "1100 3.5379719734191895\n",
      "1200 3.360325574874878\n",
      "1300 3.19205641746521\n",
      "1400 3.0326738357543945\n",
      "1500 2.881699562072754\n",
      "1600 2.7386722564697266\n",
      "1700 2.603201150894165\n",
      "1800 2.4748456478118896\n",
      "1900 2.353286027908325\n"
     ]
    }
   ],
   "source": [
    "for epoch in range(2000):\n",
    "    \n",
    "    hx = model(x_train) # hx = x_train.matmul(W) + b\n",
    "    cost = F.mse_loss(hx, y_train) # cost=torch.mean((hx - y_train)**2)\n",
    "    \n",
    "    optimizer.zero_grad() # 나머지는 그대로\n",
    "    cost.backward()\n",
    "    optimizer.step()\n",
    "    if epoch%100 ==0: \n",
    "        print(epoch ,cost.item())"
   ]
  },
  {
   "cell_type": "code",
   "execution_count": 131,
   "id": "2050ec7c",
   "metadata": {},
   "outputs": [
    {
     "data": {
      "text/plain": [
       "tensor([181.3557], grad_fn=<ViewBackward0>)"
      ]
     },
     "execution_count": 131,
     "metadata": {},
     "output_type": "execute_result"
    }
   ],
   "source": [
    "new_var = torch.FloatTensor([90,90,90])\n",
    "model(new_var)"
   ]
  },
  {
   "cell_type": "code",
   "execution_count": 132,
   "id": "0d3d3e6c",
   "metadata": {},
   "outputs": [
    {
     "data": {
      "text/plain": [
       "[Parameter containing:\n",
       " tensor([[0.8540, 0.8475, 0.3096]], requires_grad=True),\n",
       " Parameter containing:\n",
       " tensor([0.3568], requires_grad=True)]"
      ]
     },
     "execution_count": 132,
     "metadata": {},
     "output_type": "execute_result"
    }
   ],
   "source": [
    "list(model.parameters())"
   ]
  },
  {
   "cell_type": "code",
   "execution_count": null,
   "id": "ed54167a",
   "metadata": {},
   "outputs": [],
   "source": []
  }
 ],
 "metadata": {
  "kernelspec": {
   "display_name": "Python 3 (ipykernel)",
   "language": "python",
   "name": "python3"
  },
  "language_info": {
   "codemirror_mode": {
    "name": "ipython",
    "version": 3
   },
   "file_extension": ".py",
   "mimetype": "text/x-python",
   "name": "python",
   "nbconvert_exporter": "python",
   "pygments_lexer": "ipython3",
   "version": "3.11.4"
  }
 },
 "nbformat": 4,
 "nbformat_minor": 5
}
