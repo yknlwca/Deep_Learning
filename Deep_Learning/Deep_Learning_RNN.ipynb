{
 "cells": [
  {
   "cell_type": "code",
   "execution_count": 8,
   "id": "1550a480",
   "metadata": {},
   "outputs": [],
   "source": [
    "from tensorflow.keras.models import Sequential\n",
    "from tensorflow.keras.layers import Dense, LSTM, Embedding\n",
    "from tensorflow.keras.utils import to_categorical\n",
    "from tensorflow.keras.preprocessing import sequence\n",
    "from tensorflow.keras.datasets import reuters       # 로이터 뉴스 데이터셋 불러오기\n",
    "from tensorflow.keras.callbacks import EarlyStopping"
   ]
  },
  {
   "cell_type": "code",
   "execution_count": 10,
   "id": "7416338f",
   "metadata": {},
   "outputs": [],
   "source": [
    "import numpy as np\n",
    "import matplotlib.pyplot as plt\n",
    "import warnings\n",
    "warnings.filterwarnings('ignore')"
   ]
  },
  {
   "cell_type": "code",
   "execution_count": 11,
   "id": "cbad4a45",
   "metadata": {},
   "outputs": [
    {
     "name": "stdout",
     "output_type": "stream",
     "text": [
      "Downloading data from https://storage.googleapis.com/tensorflow/tf-keras-datasets/reuters.npz\n",
      "2110848/2110848 [==============================] - 0s 0us/step\n"
     ]
    }
   ],
   "source": [
    "(X_train, y_train), (X_test, y_test) = reuters.load_data(num_words=1000, test_split=0.2)\n",
    "# num_words 많이 등장한 1000개의 단어"
   ]
  },
  {
   "cell_type": "code",
   "execution_count": 12,
   "id": "dd0527fb",
   "metadata": {},
   "outputs": [
    {
     "data": {
      "text/plain": [
       "array([list([1, 2, 2, 8, 43, 10, 447, 5, 25, 207, 270, 5, 2, 111, 16, 369, 186, 90, 67, 7, 89, 5, 19, 102, 6, 19, 124, 15, 90, 67, 84, 22, 482, 26, 7, 48, 4, 49, 8, 864, 39, 209, 154, 6, 151, 6, 83, 11, 15, 22, 155, 11, 15, 7, 48, 9, 2, 2, 504, 6, 258, 6, 272, 11, 15, 22, 134, 44, 11, 15, 16, 8, 197, 2, 90, 67, 52, 29, 209, 30, 32, 132, 6, 109, 15, 17, 12]),\n",
       "       list([1, 2, 699, 2, 2, 56, 2, 2, 9, 56, 2, 2, 81, 5, 2, 57, 366, 737, 132, 20, 2, 7, 2, 49, 2, 2, 2, 2, 699, 2, 8, 7, 10, 241, 16, 855, 129, 231, 783, 5, 4, 587, 2, 2, 2, 775, 7, 48, 34, 191, 44, 35, 2, 505, 17, 12]),\n",
       "       list([1, 53, 12, 284, 15, 14, 272, 26, 53, 959, 32, 818, 15, 14, 272, 26, 39, 684, 70, 11, 14, 12, 2, 18, 180, 183, 187, 70, 11, 14, 102, 32, 11, 29, 53, 44, 704, 15, 14, 19, 758, 15, 53, 959, 47, 2, 15, 14, 19, 132, 15, 39, 965, 32, 11, 14, 147, 72, 11, 180, 183, 187, 44, 11, 14, 102, 19, 11, 123, 186, 90, 67, 960, 4, 78, 13, 68, 467, 511, 110, 59, 89, 90, 67, 2, 55, 2, 92, 617, 80, 2, 46, 905, 220, 13, 4, 346, 48, 235, 629, 5, 211, 5, 2, 7, 2, 81, 5, 187, 11, 15, 9, 2, 201, 5, 47, 2, 18, 478, 2, 5, 2, 7, 232, 2, 71, 5, 160, 63, 11, 9, 2, 81, 5, 102, 59, 11, 17, 12]),\n",
       "       ...,\n",
       "       list([1, 141, 2, 387, 81, 8, 16, 2, 10, 340, 2, 850, 31, 56, 2, 691, 9, 2, 71, 9, 2, 2, 2, 699, 2, 2, 2, 699, 244, 2, 4, 49, 8, 4, 656, 850, 33, 2, 9, 2, 340, 2, 2, 9, 2, 22, 2, 2, 687, 83, 35, 15, 257, 6, 57, 2, 7, 4, 2, 654, 5, 2, 2, 2, 4, 49, 8, 16, 369, 646, 6, 2, 7, 124, 407, 17, 12]),\n",
       "       list([1, 53, 46, 957, 26, 14, 74, 132, 26, 39, 46, 258, 2, 18, 14, 74, 134, 2, 18, 88, 2, 72, 11, 14, 2, 32, 11, 123, 383, 89, 39, 46, 235, 10, 864, 728, 5, 258, 44, 11, 15, 22, 753, 9, 42, 92, 131, 728, 5, 69, 312, 11, 15, 22, 222, 2, 2, 383, 48, 39, 74, 235, 10, 864, 276, 5, 61, 32, 11, 15, 21, 4, 211, 5, 126, 2, 42, 92, 131, 46, 19, 352, 11, 15, 22, 710, 220, 9, 42, 92, 131, 276, 5, 59, 61, 11, 15, 22, 10, 455, 7, 2, 137, 336, 2, 6, 2, 142, 971, 2, 43, 359, 5, 4, 326, 753, 364, 17, 12]),\n",
       "       list([1, 227, 2, 91, 2, 125, 2, 21, 4, 2, 76, 7, 4, 757, 481, 2, 790, 2, 2, 9, 111, 149, 8, 7, 10, 76, 223, 51, 4, 417, 8, 2, 91, 2, 2, 340, 7, 194, 2, 6, 2, 21, 127, 2, 2, 2, 6, 2, 4, 329, 433, 7, 65, 87, 2, 10, 2, 2, 290, 9, 21, 567, 16, 2, 24, 4, 76, 209, 30, 2, 2, 2, 8, 4, 60, 8, 4, 966, 308, 40, 2, 129, 2, 295, 277, 2, 9, 24, 286, 2, 234, 222, 9, 4, 906, 2, 2, 114, 2, 2, 7, 4, 113, 17, 12])],\n",
       "      dtype=object)"
      ]
     },
     "execution_count": 12,
     "metadata": {},
     "output_type": "execute_result"
    }
   ],
   "source": [
    "X_train"
   ]
  },
  {
   "cell_type": "code",
   "execution_count": 18,
   "id": "28737b46",
   "metadata": {
    "scrolled": true
   },
   "outputs": [
    {
     "data": {
      "text/plain": [
       "0"
      ]
     },
     "execution_count": 18,
     "metadata": {},
     "output_type": "execute_result"
    }
   ],
   "source": [
    "X_train.shape # 8982 뉴스기사\n",
    "X_train[0] # 숫자로 인코딩된 상태 (리스트)\n",
    "y_train # 뉴스기사 카테고리\n",
    "np.max(y_train) # 45\n",
    "np.min(y_train) # 0\n",
    "# 46가지의 뉴스 카테고리"
   ]
  },
  {
   "cell_type": "code",
   "execution_count": 21,
   "id": "e91a2108",
   "metadata": {},
   "outputs": [
    {
     "data": {
      "text/plain": [
       "139"
      ]
     },
     "execution_count": 21,
     "metadata": {},
     "output_type": "execute_result"
    }
   ],
   "source": [
    "len(X_train[0])\n",
    "len(X_train[1])\n",
    "len(X_train[2])\n",
    "# 뉴스 기사의 길이가 모두 다름"
   ]
  },
  {
   "cell_type": "code",
   "execution_count": 22,
   "id": "50d89a33",
   "metadata": {},
   "outputs": [],
   "source": [
    "# 모든 문장의 최대 길이를 100으로 정함\n",
    "X_train = sequence.pad_sequences(X_train,maxlen = 100)\n",
    "X_test = sequence.pad_sequences(X_test,maxlen = 100)"
   ]
  },
  {
   "cell_type": "code",
   "execution_count": 23,
   "id": "c525028d",
   "metadata": {},
   "outputs": [],
   "source": [
    "# y_train 원핫인코딩(46차원)\n",
    "y_train = to_categorical(y_train)\n",
    "y_test = to_categorical(y_test)"
   ]
  },
  {
   "cell_type": "code",
   "execution_count": 26,
   "id": "3cf17b96",
   "metadata": {},
   "outputs": [],
   "source": [
    "model = Sequential()"
   ]
  },
  {
   "cell_type": "code",
   "execution_count": 27,
   "id": "e5a85159",
   "metadata": {},
   "outputs": [],
   "source": [
    "model.add(Embedding(1000,100))\n",
    "model.add(LSTM(100))\n",
    "model.add(Dense(46,activation='softmax'))"
   ]
  },
  {
   "cell_type": "code",
   "execution_count": 28,
   "id": "3dba588e",
   "metadata": {},
   "outputs": [],
   "source": [
    "model.compile(loss='categorical_crossentropy', optimizer = 'adam', metrics = ['accuracy'])"
   ]
  },
  {
   "cell_type": "code",
   "execution_count": 30,
   "id": "f4eb79f7",
   "metadata": {},
   "outputs": [],
   "source": [
    "early_stopping_callback = EarlyStopping(monitor='val_loss',patience=5)"
   ]
  },
  {
   "cell_type": "code",
   "execution_count": 31,
   "id": "c882b2e3",
   "metadata": {
    "scrolled": true
   },
   "outputs": [
    {
     "name": "stdout",
     "output_type": "stream",
     "text": [
      "Epoch 1/200\n",
      "450/450 [==============================] - 21s 43ms/step - loss: 2.2108 - accuracy: 0.4402 - val_loss: 1.8136 - val_accuracy: 0.5352\n",
      "Epoch 2/200\n",
      "450/450 [==============================] - 19s 42ms/step - loss: 1.7274 - accuracy: 0.5590 - val_loss: 1.6479 - val_accuracy: 0.5850\n",
      "Epoch 3/200\n",
      "450/450 [==============================] - 19s 43ms/step - loss: 1.5172 - accuracy: 0.6147 - val_loss: 1.4994 - val_accuracy: 0.6251\n",
      "Epoch 4/200\n",
      "450/450 [==============================] - 19s 43ms/step - loss: 1.3310 - accuracy: 0.6623 - val_loss: 1.3746 - val_accuracy: 0.6483\n",
      "Epoch 5/200\n",
      "450/450 [==============================] - 19s 43ms/step - loss: 1.2175 - accuracy: 0.6906 - val_loss: 1.3012 - val_accuracy: 0.6692\n",
      "Epoch 6/200\n",
      "450/450 [==============================] - 20s 44ms/step - loss: 1.1315 - accuracy: 0.7138 - val_loss: 1.2575 - val_accuracy: 0.6750\n",
      "Epoch 7/200\n",
      "450/450 [==============================] - 19s 43ms/step - loss: 1.0569 - accuracy: 0.7278 - val_loss: 1.2159 - val_accuracy: 0.6968\n",
      "Epoch 8/200\n",
      "450/450 [==============================] - 19s 43ms/step - loss: 0.9687 - accuracy: 0.7564 - val_loss: 1.1568 - val_accuracy: 0.7004\n",
      "Epoch 9/200\n",
      "450/450 [==============================] - 20s 44ms/step - loss: 0.8922 - accuracy: 0.7770 - val_loss: 1.1875 - val_accuracy: 0.6919\n",
      "Epoch 10/200\n",
      "450/450 [==============================] - 19s 43ms/step - loss: 0.8382 - accuracy: 0.7904 - val_loss: 1.1173 - val_accuracy: 0.7248\n",
      "Epoch 11/200\n",
      "450/450 [==============================] - 19s 41ms/step - loss: 0.7668 - accuracy: 0.8096 - val_loss: 1.1467 - val_accuracy: 0.7217\n",
      "Epoch 12/200\n",
      "450/450 [==============================] - 19s 43ms/step - loss: 0.7102 - accuracy: 0.8201 - val_loss: 1.1119 - val_accuracy: 0.7253\n",
      "Epoch 13/200\n",
      "450/450 [==============================] - 19s 42ms/step - loss: 0.6522 - accuracy: 0.8369 - val_loss: 1.1266 - val_accuracy: 0.7302\n",
      "Epoch 14/200\n",
      "450/450 [==============================] - 19s 43ms/step - loss: 0.5982 - accuracy: 0.8520 - val_loss: 1.1496 - val_accuracy: 0.7262\n",
      "Epoch 15/200\n",
      "450/450 [==============================] - 19s 43ms/step - loss: 0.5490 - accuracy: 0.8611 - val_loss: 1.2014 - val_accuracy: 0.7284\n",
      "Epoch 16/200\n",
      "450/450 [==============================] - 20s 44ms/step - loss: 0.5046 - accuracy: 0.8732 - val_loss: 1.1995 - val_accuracy: 0.7275\n",
      "Epoch 17/200\n",
      "450/450 [==============================] - 20s 43ms/step - loss: 0.4590 - accuracy: 0.8835 - val_loss: 1.2538 - val_accuracy: 0.7284\n"
     ]
    }
   ],
   "source": [
    "history = model.fit(X_train, y_train, batch_size=20, epochs=200,\n",
    "                    validation_data=(X_test, y_test), callbacks=[early_stopping_callback])"
   ]
  },
  {
   "cell_type": "code",
   "execution_count": 32,
   "id": "8e6fcd9d",
   "metadata": {},
   "outputs": [
    {
     "name": "stdout",
     "output_type": "stream",
     "text": [
      "71/71 [==============================] - 1s 19ms/step - loss: 1.2538 - accuracy: 0.7284\n",
      "\n",
      " Test Accuracy:0.7284\n"
     ]
    }
   ],
   "source": [
    "print('\\n Test Accuracy:%.4f'%(model.evaluate(X_test,y_test))[1])"
   ]
  },
  {
   "cell_type": "code",
   "execution_count": null,
   "id": "1933c4e8",
   "metadata": {},
   "outputs": [],
   "source": [
    "history = model.fit(X_train,y_train,batch_size=20, epochs= 200,\n",
    "                   validation_split =0.2 , callbacks = [early_stopping_callback])"
   ]
  },
  {
   "cell_type": "code",
   "execution_count": 35,
   "id": "78383ff1",
   "metadata": {},
   "outputs": [],
   "source": [
    "import numpy as np \n",
    "import pandas as pd \n",
    "import seaborn as sns\n",
    "import matplotlib.pyplot as plt"
   ]
  },
  {
   "cell_type": "code",
   "execution_count": 139,
   "id": "07b26d70",
   "metadata": {},
   "outputs": [
    {
     "data": {
      "text/html": [
       "<div>\n",
       "<style scoped>\n",
       "    .dataframe tbody tr th:only-of-type {\n",
       "        vertical-align: middle;\n",
       "    }\n",
       "\n",
       "    .dataframe tbody tr th {\n",
       "        vertical-align: top;\n",
       "    }\n",
       "\n",
       "    .dataframe thead th {\n",
       "        text-align: right;\n",
       "    }\n",
       "</style>\n",
       "<table border=\"1\" class=\"dataframe\">\n",
       "  <thead>\n",
       "    <tr style=\"text-align: right;\">\n",
       "      <th></th>\n",
       "      <th>Date</th>\n",
       "      <th>Open</th>\n",
       "      <th>High</th>\n",
       "      <th>Low</th>\n",
       "      <th>Close</th>\n",
       "      <th>Volume</th>\n",
       "      <th>OpenInt</th>\n",
       "    </tr>\n",
       "  </thead>\n",
       "  <tbody>\n",
       "    <tr>\n",
       "      <th>0</th>\n",
       "      <td>2010-06-28</td>\n",
       "      <td>17.00</td>\n",
       "      <td>17.00</td>\n",
       "      <td>17.00</td>\n",
       "      <td>17.00</td>\n",
       "      <td>0</td>\n",
       "      <td>0</td>\n",
       "    </tr>\n",
       "    <tr>\n",
       "      <th>1</th>\n",
       "      <td>2010-06-29</td>\n",
       "      <td>19.00</td>\n",
       "      <td>25.00</td>\n",
       "      <td>17.54</td>\n",
       "      <td>23.89</td>\n",
       "      <td>18783276</td>\n",
       "      <td>0</td>\n",
       "    </tr>\n",
       "    <tr>\n",
       "      <th>2</th>\n",
       "      <td>2010-06-30</td>\n",
       "      <td>25.79</td>\n",
       "      <td>30.42</td>\n",
       "      <td>23.30</td>\n",
       "      <td>23.83</td>\n",
       "      <td>17194394</td>\n",
       "      <td>0</td>\n",
       "    </tr>\n",
       "    <tr>\n",
       "      <th>3</th>\n",
       "      <td>2010-07-01</td>\n",
       "      <td>25.00</td>\n",
       "      <td>25.92</td>\n",
       "      <td>20.27</td>\n",
       "      <td>21.96</td>\n",
       "      <td>8229863</td>\n",
       "      <td>0</td>\n",
       "    </tr>\n",
       "    <tr>\n",
       "      <th>4</th>\n",
       "      <td>2010-07-02</td>\n",
       "      <td>23.00</td>\n",
       "      <td>23.10</td>\n",
       "      <td>18.71</td>\n",
       "      <td>19.20</td>\n",
       "      <td>5141807</td>\n",
       "      <td>0</td>\n",
       "    </tr>\n",
       "    <tr>\n",
       "      <th>...</th>\n",
       "      <td>...</td>\n",
       "      <td>...</td>\n",
       "      <td>...</td>\n",
       "      <td>...</td>\n",
       "      <td>...</td>\n",
       "      <td>...</td>\n",
       "      <td>...</td>\n",
       "    </tr>\n",
       "    <tr>\n",
       "      <th>1853</th>\n",
       "      <td>2017-11-06</td>\n",
       "      <td>307.00</td>\n",
       "      <td>307.50</td>\n",
       "      <td>299.01</td>\n",
       "      <td>302.78</td>\n",
       "      <td>6482486</td>\n",
       "      <td>0</td>\n",
       "    </tr>\n",
       "    <tr>\n",
       "      <th>1854</th>\n",
       "      <td>2017-11-07</td>\n",
       "      <td>301.02</td>\n",
       "      <td>306.50</td>\n",
       "      <td>300.03</td>\n",
       "      <td>306.05</td>\n",
       "      <td>5286320</td>\n",
       "      <td>0</td>\n",
       "    </tr>\n",
       "    <tr>\n",
       "      <th>1855</th>\n",
       "      <td>2017-11-08</td>\n",
       "      <td>305.50</td>\n",
       "      <td>306.89</td>\n",
       "      <td>301.30</td>\n",
       "      <td>304.31</td>\n",
       "      <td>4725510</td>\n",
       "      <td>0</td>\n",
       "    </tr>\n",
       "    <tr>\n",
       "      <th>1856</th>\n",
       "      <td>2017-11-09</td>\n",
       "      <td>302.50</td>\n",
       "      <td>304.46</td>\n",
       "      <td>296.30</td>\n",
       "      <td>302.99</td>\n",
       "      <td>5440335</td>\n",
       "      <td>0</td>\n",
       "    </tr>\n",
       "    <tr>\n",
       "      <th>1857</th>\n",
       "      <td>2017-11-10</td>\n",
       "      <td>302.50</td>\n",
       "      <td>308.36</td>\n",
       "      <td>301.85</td>\n",
       "      <td>302.99</td>\n",
       "      <td>4621912</td>\n",
       "      <td>0</td>\n",
       "    </tr>\n",
       "  </tbody>\n",
       "</table>\n",
       "<p>1858 rows × 7 columns</p>\n",
       "</div>"
      ],
      "text/plain": [
       "            Date    Open    High     Low   Close    Volume  OpenInt\n",
       "0     2010-06-28   17.00   17.00   17.00   17.00         0        0\n",
       "1     2010-06-29   19.00   25.00   17.54   23.89  18783276        0\n",
       "2     2010-06-30   25.79   30.42   23.30   23.83  17194394        0\n",
       "3     2010-07-01   25.00   25.92   20.27   21.96   8229863        0\n",
       "4     2010-07-02   23.00   23.10   18.71   19.20   5141807        0\n",
       "...          ...     ...     ...     ...     ...       ...      ...\n",
       "1853  2017-11-06  307.00  307.50  299.01  302.78   6482486        0\n",
       "1854  2017-11-07  301.02  306.50  300.03  306.05   5286320        0\n",
       "1855  2017-11-08  305.50  306.89  301.30  304.31   4725510        0\n",
       "1856  2017-11-09  302.50  304.46  296.30  302.99   5440335        0\n",
       "1857  2017-11-10  302.50  308.36  301.85  302.99   4621912        0\n",
       "\n",
       "[1858 rows x 7 columns]"
      ]
     },
     "execution_count": 139,
     "metadata": {},
     "output_type": "execute_result"
    }
   ],
   "source": [
    "data = pd.read_csv(\"tsla.us.txt\")\n",
    "data"
   ]
  },
  {
   "cell_type": "code",
   "execution_count": 57,
   "id": "b5fb1adc",
   "metadata": {},
   "outputs": [
    {
     "data": {
      "text/plain": [
       "Date       0\n",
       "Open       0\n",
       "High       0\n",
       "Low        0\n",
       "Close      0\n",
       "Volume     0\n",
       "OpenInt    0\n",
       "dtype: int64"
      ]
     },
     "execution_count": 57,
     "metadata": {},
     "output_type": "execute_result"
    }
   ],
   "source": [
    "data.describe()\n",
    "data.isna().sum()"
   ]
  },
  {
   "cell_type": "code",
   "execution_count": 58,
   "id": "0980a09c",
   "metadata": {},
   "outputs": [],
   "source": [
    "training_size = int(len(data)*0.80)\n",
    "data_len = len(data)"
   ]
  },
  {
   "cell_type": "code",
   "execution_count": 59,
   "id": "d0d3411a",
   "metadata": {},
   "outputs": [],
   "source": [
    "train, test = data[0:training_size],data[training_size:data_len]"
   ]
  },
  {
   "cell_type": "code",
   "execution_count": 60,
   "id": "15347909",
   "metadata": {},
   "outputs": [
    {
     "name": "stdout",
     "output_type": "stream",
     "text": [
      "Training Size -->  1486\n",
      "total length of data -->  1858\n",
      "Train length -->  1486\n",
      "Test length -->  372\n"
     ]
    }
   ],
   "source": [
    "print(\"Training Size --> \", training_size)\n",
    "print(\"total length of data --> \", data_len)\n",
    "print(\"Train length --> \", len(train))\n",
    "print(\"Test length --> \", len(test))"
   ]
  },
  {
   "cell_type": "code",
   "execution_count": 61,
   "id": "685644fe",
   "metadata": {},
   "outputs": [],
   "source": [
    "train = train.loc[:,['Open']].values"
   ]
  },
  {
   "cell_type": "code",
   "execution_count": 63,
   "id": "0b350d73",
   "metadata": {},
   "outputs": [
    {
     "data": {
      "text/plain": [
       "(1486, 1)"
      ]
     },
     "execution_count": 63,
     "metadata": {},
     "output_type": "execute_result"
    }
   ],
   "source": [
    "train.shape"
   ]
  },
  {
   "cell_type": "code",
   "execution_count": 64,
   "id": "36c7c4df",
   "metadata": {},
   "outputs": [],
   "source": [
    "from sklearn.preprocessing import MinMaxScaler\n",
    "scaler = MinMaxScaler(feature_range=(0, 1)) \n",
    "train_scaled = scaler.fit_transform(train) # 정규화"
   ]
  },
  {
   "cell_type": "code",
   "execution_count": 65,
   "id": "14a34bcd",
   "metadata": {},
   "outputs": [
    {
     "data": {
      "text/plain": [
       "array([[0.00316724],\n",
       "       [0.01053291],\n",
       "       [0.03553935],\n",
       "       ...,\n",
       "       [0.72728612],\n",
       "       [0.73969727],\n",
       "       [0.75030383]])"
      ]
     },
     "execution_count": 65,
     "metadata": {},
     "output_type": "execute_result"
    }
   ],
   "source": [
    "train_scaled"
   ]
  },
  {
   "cell_type": "code",
   "execution_count": 66,
   "id": "071a8c05",
   "metadata": {},
   "outputs": [
    {
     "data": {
      "text/plain": [
       "1486"
      ]
     },
     "execution_count": 66,
     "metadata": {},
     "output_type": "execute_result"
    }
   ],
   "source": [
    "end_len = len(train_scaled)\n",
    "end_len"
   ]
  },
  {
   "cell_type": "code",
   "execution_count": 67,
   "id": "819ac0e1",
   "metadata": {},
   "outputs": [],
   "source": [
    "X_train = []\n",
    "y_train = []\n",
    "timesteps = 40"
   ]
  },
  {
   "cell_type": "code",
   "execution_count": 68,
   "id": "1e34e1af",
   "metadata": {},
   "outputs": [],
   "source": [
    "for i in range(timesteps,end_len):\n",
    "    X_train.append(train_scaled[i-timesteps:i,0])\n",
    "    y_train.append(train_scaled[i,0])"
   ]
  },
  {
   "cell_type": "code",
   "execution_count": 69,
   "id": "a7c3f81c",
   "metadata": {},
   "outputs": [],
   "source": [
    "X_train, y_train = np.array(X_train), np.array(y_train)"
   ]
  },
  {
   "cell_type": "code",
   "execution_count": 71,
   "id": "e559d0c9",
   "metadata": {},
   "outputs": [
    {
     "data": {
      "text/plain": [
       "(1446,)"
      ]
     },
     "execution_count": 71,
     "metadata": {},
     "output_type": "execute_result"
    }
   ],
   "source": [
    "X_train.shape # (1446,40)\n",
    "y_train.shape # (1446,)"
   ]
  },
  {
   "cell_type": "code",
   "execution_count": 73,
   "id": "67da7edc",
   "metadata": {},
   "outputs": [
    {
     "data": {
      "text/plain": [
       "(1446, 40, 1)"
      ]
     },
     "execution_count": 73,
     "metadata": {},
     "output_type": "execute_result"
    }
   ],
   "source": [
    "# RNN : 입력 데이터의 구조를 3차원으로 \n",
    "X_train = np.reshape(X_train,(X_train.shape[0],X_train.shape[1],1))\n",
    "X_train.shape \n",
    "# (1446, 40, 1)\n",
    "# (데이터 개수, time step, dimension)"
   ]
  },
  {
   "cell_type": "code",
   "execution_count": 74,
   "id": "88773a99",
   "metadata": {},
   "outputs": [],
   "source": [
    "from keras.models import Sequential\n",
    "from keras.layers import Dense\n",
    "from keras.layers import SimpleRNN\n",
    "from keras.layers import Dropout"
   ]
  },
  {
   "cell_type": "code",
   "execution_count": 103,
   "id": "dd08a0c6",
   "metadata": {},
   "outputs": [],
   "source": [
    "regressor = Sequential()"
   ]
  },
  {
   "cell_type": "code",
   "execution_count": 104,
   "id": "aad03582",
   "metadata": {},
   "outputs": [],
   "source": [
    "regressor.add(SimpleRNN(units=50, activation = 'tanh', return_sequences=True,\n",
    "                        input_shape=(X_train.shape[1],1))) # input_shape 초기에만 설정\n",
    "regressor.add(Dropout(0.2))\n",
    "regressor.add(SimpleRNN(units=50, activation = 'tanh', return_sequences=True))\n",
    "regressor.add(Dropout(0.2))\n",
    "regressor.add(SimpleRNN(units=50, activation = 'tanh', return_sequences=True))\n",
    "regressor.add(Dropout(0.2))\n",
    "regressor.add(SimpleRNN(units=50, activation = 'tanh'))\n",
    "regressor.add(Dropout(0.2))\n",
    "regressor.add(Dense(units=1))"
   ]
  },
  {
   "cell_type": "code",
   "execution_count": 105,
   "id": "658b9ee9",
   "metadata": {},
   "outputs": [],
   "source": [
    "regressor.compile(optimizer = 'adam', loss='mean_squared_error')"
   ]
  },
  {
   "cell_type": "code",
   "execution_count": 106,
   "id": "09e180dc",
   "metadata": {},
   "outputs": [],
   "source": [
    "epochs = 100\n",
    "batch_size = 20"
   ]
  },
  {
   "cell_type": "code",
   "execution_count": 107,
   "id": "d374ccda",
   "metadata": {
    "scrolled": true
   },
   "outputs": [
    {
     "name": "stdout",
     "output_type": "stream",
     "text": [
      "Epoch 1/100\n",
      "73/73 [==============================] - 4s 15ms/step - loss: 0.2684\n",
      "Epoch 2/100\n",
      "73/73 [==============================] - 1s 14ms/step - loss: 0.1235\n",
      "Epoch 3/100\n",
      "73/73 [==============================] - 1s 15ms/step - loss: 0.0750\n",
      "Epoch 4/100\n",
      "73/73 [==============================] - 1s 14ms/step - loss: 0.0558\n",
      "Epoch 5/100\n",
      "73/73 [==============================] - 1s 15ms/step - loss: 0.0414\n",
      "Epoch 6/100\n",
      "73/73 [==============================] - 1s 15ms/step - loss: 0.0319\n",
      "Epoch 7/100\n",
      "73/73 [==============================] - 1s 15ms/step - loss: 0.0267\n",
      "Epoch 8/100\n",
      "73/73 [==============================] - 1s 15ms/step - loss: 0.0242\n",
      "Epoch 9/100\n",
      "73/73 [==============================] - 1s 15ms/step - loss: 0.0207\n",
      "Epoch 10/100\n",
      "73/73 [==============================] - 1s 15ms/step - loss: 0.0172\n",
      "Epoch 11/100\n",
      "73/73 [==============================] - 1s 15ms/step - loss: 0.0162\n",
      "Epoch 12/100\n",
      "73/73 [==============================] - 1s 14ms/step - loss: 0.0159\n",
      "Epoch 13/100\n",
      "73/73 [==============================] - 1s 15ms/step - loss: 0.0137\n",
      "Epoch 14/100\n",
      "73/73 [==============================] - 1s 15ms/step - loss: 0.0120\n",
      "Epoch 15/100\n",
      "73/73 [==============================] - 1s 15ms/step - loss: 0.0108\n",
      "Epoch 16/100\n",
      "73/73 [==============================] - 1s 15ms/step - loss: 0.0095\n",
      "Epoch 17/100\n",
      "73/73 [==============================] - 1s 15ms/step - loss: 0.0096\n",
      "Epoch 18/100\n",
      "73/73 [==============================] - 1s 15ms/step - loss: 0.0091\n",
      "Epoch 19/100\n",
      "73/73 [==============================] - 1s 14ms/step - loss: 0.0089\n",
      "Epoch 20/100\n",
      "73/73 [==============================] - 1s 14ms/step - loss: 0.0077\n",
      "Epoch 21/100\n",
      "73/73 [==============================] - 1s 14ms/step - loss: 0.0075\n",
      "Epoch 22/100\n",
      "73/73 [==============================] - 1s 15ms/step - loss: 0.0067\n",
      "Epoch 23/100\n",
      "73/73 [==============================] - 1s 15ms/step - loss: 0.0058\n",
      "Epoch 24/100\n",
      "73/73 [==============================] - 1s 15ms/step - loss: 0.0053\n",
      "Epoch 25/100\n",
      "73/73 [==============================] - 1s 15ms/step - loss: 0.0055\n",
      "Epoch 26/100\n",
      "73/73 [==============================] - 1s 15ms/step - loss: 0.0063\n",
      "Epoch 27/100\n",
      "73/73 [==============================] - 1s 15ms/step - loss: 0.0051\n",
      "Epoch 28/100\n",
      "73/73 [==============================] - 1s 14ms/step - loss: 0.0043\n",
      "Epoch 29/100\n",
      "73/73 [==============================] - 1s 15ms/step - loss: 0.0049\n",
      "Epoch 30/100\n",
      "73/73 [==============================] - 1s 15ms/step - loss: 0.0040\n",
      "Epoch 31/100\n",
      "73/73 [==============================] - 1s 15ms/step - loss: 0.0045\n",
      "Epoch 32/100\n",
      "73/73 [==============================] - 1s 15ms/step - loss: 0.0046\n",
      "Epoch 33/100\n",
      "73/73 [==============================] - 1s 15ms/step - loss: 0.0040\n",
      "Epoch 34/100\n",
      "73/73 [==============================] - 1s 15ms/step - loss: 0.0040\n",
      "Epoch 35/100\n",
      "73/73 [==============================] - 1s 14ms/step - loss: 0.0038\n",
      "Epoch 36/100\n",
      "73/73 [==============================] - 1s 15ms/step - loss: 0.0036\n",
      "Epoch 37/100\n",
      "73/73 [==============================] - 1s 15ms/step - loss: 0.0036\n",
      "Epoch 38/100\n",
      "73/73 [==============================] - 1s 15ms/step - loss: 0.0034\n",
      "Epoch 39/100\n",
      "73/73 [==============================] - 1s 15ms/step - loss: 0.0032\n",
      "Epoch 40/100\n",
      "73/73 [==============================] - 1s 15ms/step - loss: 0.0036\n",
      "Epoch 41/100\n",
      "73/73 [==============================] - 1s 15ms/step - loss: 0.0034\n",
      "Epoch 42/100\n",
      "73/73 [==============================] - 1s 15ms/step - loss: 0.0030\n",
      "Epoch 43/100\n",
      "73/73 [==============================] - 1s 15ms/step - loss: 0.0032\n",
      "Epoch 44/100\n",
      "73/73 [==============================] - 1s 15ms/step - loss: 0.0033\n",
      "Epoch 45/100\n",
      "73/73 [==============================] - 1s 14ms/step - loss: 0.0036\n",
      "Epoch 46/100\n",
      "73/73 [==============================] - 1s 15ms/step - loss: 0.0029\n",
      "Epoch 47/100\n",
      "73/73 [==============================] - 1s 14ms/step - loss: 0.0031\n",
      "Epoch 48/100\n",
      "73/73 [==============================] - 1s 15ms/step - loss: 0.0028\n",
      "Epoch 49/100\n",
      "73/73 [==============================] - 1s 15ms/step - loss: 0.0029\n",
      "Epoch 50/100\n",
      "73/73 [==============================] - 1s 15ms/step - loss: 0.0030\n",
      "Epoch 51/100\n",
      "73/73 [==============================] - 1s 15ms/step - loss: 0.0028\n",
      "Epoch 52/100\n",
      "73/73 [==============================] - 1s 15ms/step - loss: 0.0024\n",
      "Epoch 53/100\n",
      "73/73 [==============================] - 1s 14ms/step - loss: 0.0025\n",
      "Epoch 54/100\n",
      "73/73 [==============================] - 1s 15ms/step - loss: 0.0026\n",
      "Epoch 55/100\n",
      "73/73 [==============================] - 1s 15ms/step - loss: 0.0030\n",
      "Epoch 56/100\n",
      "73/73 [==============================] - 1s 15ms/step - loss: 0.0027\n",
      "Epoch 57/100\n",
      "73/73 [==============================] - 1s 15ms/step - loss: 0.0024\n",
      "Epoch 58/100\n",
      "73/73 [==============================] - 1s 15ms/step - loss: 0.0022\n",
      "Epoch 59/100\n",
      "73/73 [==============================] - 1s 15ms/step - loss: 0.0023\n",
      "Epoch 60/100\n",
      "73/73 [==============================] - 1s 15ms/step - loss: 0.0024\n",
      "Epoch 61/100\n",
      "73/73 [==============================] - 1s 15ms/step - loss: 0.0023\n",
      "Epoch 62/100\n",
      "73/73 [==============================] - 1s 15ms/step - loss: 0.0023\n",
      "Epoch 63/100\n",
      "73/73 [==============================] - 1s 15ms/step - loss: 0.0024\n",
      "Epoch 64/100\n",
      "73/73 [==============================] - 1s 14ms/step - loss: 0.0025\n",
      "Epoch 65/100\n",
      "73/73 [==============================] - 1s 15ms/step - loss: 0.0023\n",
      "Epoch 66/100\n",
      "73/73 [==============================] - 1s 15ms/step - loss: 0.0023\n",
      "Epoch 67/100\n",
      "73/73 [==============================] - 1s 15ms/step - loss: 0.0025\n",
      "Epoch 68/100\n",
      "73/73 [==============================] - 1s 14ms/step - loss: 0.0024\n",
      "Epoch 69/100\n",
      "73/73 [==============================] - 1s 15ms/step - loss: 0.0021\n",
      "Epoch 70/100\n",
      "73/73 [==============================] - 1s 14ms/step - loss: 0.0023\n",
      "Epoch 71/100\n",
      "73/73 [==============================] - 1s 15ms/step - loss: 0.0022\n",
      "Epoch 72/100\n",
      "73/73 [==============================] - 1s 15ms/step - loss: 0.0024\n",
      "Epoch 73/100\n",
      "73/73 [==============================] - 1s 15ms/step - loss: 0.0021\n",
      "Epoch 74/100\n",
      "73/73 [==============================] - 1s 14ms/step - loss: 0.0022\n",
      "Epoch 75/100\n",
      "73/73 [==============================] - 1s 15ms/step - loss: 0.0023\n",
      "Epoch 76/100\n",
      "73/73 [==============================] - 1s 15ms/step - loss: 0.0020\n",
      "Epoch 77/100\n",
      "73/73 [==============================] - 1s 14ms/step - loss: 0.0020\n",
      "Epoch 78/100\n",
      "73/73 [==============================] - 1s 15ms/step - loss: 0.0021\n",
      "Epoch 79/100\n",
      "73/73 [==============================] - 1s 15ms/step - loss: 0.0020\n",
      "Epoch 80/100\n",
      "73/73 [==============================] - 1s 15ms/step - loss: 0.0021\n",
      "Epoch 81/100\n",
      "73/73 [==============================] - 1s 14ms/step - loss: 0.0022\n",
      "Epoch 82/100\n",
      "73/73 [==============================] - 1s 15ms/step - loss: 0.0018\n",
      "Epoch 83/100\n",
      "73/73 [==============================] - 1s 15ms/step - loss: 0.0021\n",
      "Epoch 84/100\n",
      "73/73 [==============================] - 1s 15ms/step - loss: 0.0018\n",
      "Epoch 85/100\n",
      "73/73 [==============================] - 1s 15ms/step - loss: 0.0019\n",
      "Epoch 86/100\n",
      "73/73 [==============================] - 1s 15ms/step - loss: 0.0022\n",
      "Epoch 87/100\n",
      "73/73 [==============================] - 1s 15ms/step - loss: 0.0018\n",
      "Epoch 88/100\n",
      "73/73 [==============================] - 1s 15ms/step - loss: 0.0018\n",
      "Epoch 89/100\n",
      "73/73 [==============================] - 1s 15ms/step - loss: 0.0017\n",
      "Epoch 90/100\n",
      "73/73 [==============================] - 1s 15ms/step - loss: 0.0019\n",
      "Epoch 91/100\n",
      "73/73 [==============================] - 1s 15ms/step - loss: 0.0020\n",
      "Epoch 92/100\n",
      "73/73 [==============================] - 1s 15ms/step - loss: 0.0019\n",
      "Epoch 93/100\n",
      "73/73 [==============================] - 1s 15ms/step - loss: 0.0018\n",
      "Epoch 94/100\n",
      "73/73 [==============================] - 1s 15ms/step - loss: 0.0018\n",
      "Epoch 95/100\n",
      "73/73 [==============================] - 1s 15ms/step - loss: 0.0017\n",
      "Epoch 96/100\n",
      "73/73 [==============================] - 1s 15ms/step - loss: 0.0018\n",
      "Epoch 97/100\n",
      "73/73 [==============================] - 1s 15ms/step - loss: 0.0018\n",
      "Epoch 98/100\n",
      "73/73 [==============================] - 1s 15ms/step - loss: 0.0018\n",
      "Epoch 99/100\n",
      "73/73 [==============================] - 1s 15ms/step - loss: 0.0018\n",
      "Epoch 100/100\n",
      "73/73 [==============================] - 1s 15ms/step - loss: 0.0017\n"
     ]
    },
    {
     "data": {
      "text/plain": [
       "<keras.src.callbacks.History at 0x2b62ae98290>"
      ]
     },
     "execution_count": 107,
     "metadata": {},
     "output_type": "execute_result"
    }
   ],
   "source": [
    "regressor.fit(X_train,y_train, epochs=epochs, batch_size=batch_size)"
   ]
  },
  {
   "cell_type": "code",
   "execution_count": 108,
   "id": "7f96573a",
   "metadata": {},
   "outputs": [
    {
     "data": {
      "text/html": [
       "<div>\n",
       "<style scoped>\n",
       "    .dataframe tbody tr th:only-of-type {\n",
       "        vertical-align: middle;\n",
       "    }\n",
       "\n",
       "    .dataframe tbody tr th {\n",
       "        vertical-align: top;\n",
       "    }\n",
       "\n",
       "    .dataframe thead th {\n",
       "        text-align: right;\n",
       "    }\n",
       "</style>\n",
       "<table border=\"1\" class=\"dataframe\">\n",
       "  <thead>\n",
       "    <tr style=\"text-align: right;\">\n",
       "      <th></th>\n",
       "      <th>Date</th>\n",
       "      <th>Open</th>\n",
       "      <th>High</th>\n",
       "      <th>Low</th>\n",
       "      <th>Close</th>\n",
       "      <th>Volume</th>\n",
       "      <th>OpenInt</th>\n",
       "    </tr>\n",
       "  </thead>\n",
       "  <tbody>\n",
       "    <tr>\n",
       "      <th>1486</th>\n",
       "      <td>2016-05-24</td>\n",
       "      <td>216.60</td>\n",
       "      <td>218.74</td>\n",
       "      <td>215.18</td>\n",
       "      <td>217.91</td>\n",
       "      <td>2928659</td>\n",
       "      <td>0</td>\n",
       "    </tr>\n",
       "    <tr>\n",
       "      <th>1487</th>\n",
       "      <td>2016-05-25</td>\n",
       "      <td>217.91</td>\n",
       "      <td>221.36</td>\n",
       "      <td>216.51</td>\n",
       "      <td>219.58</td>\n",
       "      <td>2514028</td>\n",
       "      <td>0</td>\n",
       "    </tr>\n",
       "    <tr>\n",
       "      <th>1488</th>\n",
       "      <td>2016-05-26</td>\n",
       "      <td>220.50</td>\n",
       "      <td>225.26</td>\n",
       "      <td>219.05</td>\n",
       "      <td>225.12</td>\n",
       "      <td>3560997</td>\n",
       "      <td>0</td>\n",
       "    </tr>\n",
       "    <tr>\n",
       "      <th>1489</th>\n",
       "      <td>2016-05-27</td>\n",
       "      <td>224.99</td>\n",
       "      <td>225.93</td>\n",
       "      <td>220.75</td>\n",
       "      <td>223.04</td>\n",
       "      <td>3081734</td>\n",
       "      <td>0</td>\n",
       "    </tr>\n",
       "    <tr>\n",
       "      <th>1490</th>\n",
       "      <td>2016-05-31</td>\n",
       "      <td>223.04</td>\n",
       "      <td>224.75</td>\n",
       "      <td>221.50</td>\n",
       "      <td>223.23</td>\n",
       "      <td>2046828</td>\n",
       "      <td>0</td>\n",
       "    </tr>\n",
       "  </tbody>\n",
       "</table>\n",
       "</div>"
      ],
      "text/plain": [
       "            Date    Open    High     Low   Close   Volume  OpenInt\n",
       "1486  2016-05-24  216.60  218.74  215.18  217.91  2928659        0\n",
       "1487  2016-05-25  217.91  221.36  216.51  219.58  2514028        0\n",
       "1488  2016-05-26  220.50  225.26  219.05  225.12  3560997        0\n",
       "1489  2016-05-27  224.99  225.93  220.75  223.04  3081734        0\n",
       "1490  2016-05-31  223.04  224.75  221.50  223.23  2046828        0"
      ]
     },
     "execution_count": 108,
     "metadata": {},
     "output_type": "execute_result"
    }
   ],
   "source": [
    "test.head()"
   ]
  },
  {
   "cell_type": "code",
   "execution_count": 109,
   "id": "fa88d818",
   "metadata": {},
   "outputs": [],
   "source": [
    "real_price = test.loc[:, [\"Open\"]].values"
   ]
  },
  {
   "cell_type": "code",
   "execution_count": 110,
   "id": "21bd35c4",
   "metadata": {},
   "outputs": [
    {
     "data": {
      "text/plain": [
       "0        17.00\n",
       "1        19.00\n",
       "2        25.79\n",
       "3        25.00\n",
       "4        23.00\n",
       "         ...  \n",
       "1853    307.00\n",
       "1854    301.02\n",
       "1855    305.50\n",
       "1856    302.50\n",
       "1857    302.50\n",
       "Name: Open, Length: 2230, dtype: float64"
      ]
     },
     "execution_count": 110,
     "metadata": {},
     "output_type": "execute_result"
    }
   ],
   "source": [
    "dataset_total = pd.concat((data['Open'], test['Open']),axis = 0)\n",
    "dataset_total"
   ]
  },
  {
   "cell_type": "code",
   "execution_count": 111,
   "id": "2fa9d184",
   "metadata": {},
   "outputs": [
    {
     "data": {
      "text/plain": [
       "(412, 1)"
      ]
     },
     "execution_count": 111,
     "metadata": {},
     "output_type": "execute_result"
    }
   ],
   "source": [
    "inputs = dataset_total[len(dataset_total)-len(test)-timesteps:].values.reshape(-1,1)\n",
    "inputs.shape"
   ]
  },
  {
   "cell_type": "code",
   "execution_count": 112,
   "id": "b1110ca8",
   "metadata": {},
   "outputs": [
    {
     "name": "stdout",
     "output_type": "stream",
     "text": [
      "[[1.3409568 ]\n",
      " [1.34003609]\n",
      " [1.31425625]\n",
      " [1.32125364]\n",
      " [1.290281  ]\n",
      " [1.24115199]\n",
      " [1.2329761 ]\n",
      " [1.22918278]\n",
      " [1.19228078]\n",
      " [1.19957279]\n",
      " [1.20200346]\n",
      " [1.1776231 ]\n",
      " [1.23415461]\n",
      " [1.25164807]\n",
      " [1.24096785]\n",
      " [1.22826207]\n",
      " [1.21776599]\n",
      " [1.24387729]\n",
      " [1.24041542]\n",
      " [1.25525725]\n",
      " [1.24339852]\n",
      " [1.23290244]\n",
      " [1.25153758]\n",
      " [1.25002762]\n",
      " [1.23945789]\n",
      " [1.22910912]\n",
      " [1.18830332]\n",
      " [1.18056937]\n",
      " [1.14771848]\n",
      " [1.11814532]\n",
      " [1.11604611]\n",
      " [1.11991309]\n",
      " [1.16418075]\n",
      " [1.04588812]\n",
      " [1.04356793]\n",
      " [1.07118919]\n",
      " [1.04916584]\n",
      " [1.06566494]\n",
      " [1.05461643]\n",
      " [1.05461643]\n",
      " [0.73826097]\n",
      " [0.74308548]\n",
      " [0.75262402]\n",
      " [0.76915995]\n",
      " [0.76197842]\n",
      " [0.7562332 ]\n",
      " [0.74927264]\n",
      " [0.7507826 ]\n",
      " [0.74341693]\n",
      " [0.75903215]\n",
      " [0.80160572]\n",
      " [0.80595146]\n",
      " [0.77799875]\n",
      " [0.74894119]\n",
      " [0.74665783]\n",
      " [0.73954996]\n",
      " [0.74128089]\n",
      " [0.7427172 ]\n",
      " [0.74894119]\n",
      " [0.75328693]\n",
      " [0.67517401]\n",
      " [0.6612529 ]\n",
      " [0.64048171]\n",
      " [0.64346481]\n",
      " [0.68408647]\n",
      " [0.69601886]\n",
      " [0.72489228]\n",
      " [0.69973852]\n",
      " [0.71295989]\n",
      " [0.71395426]\n",
      " [0.72537105]\n",
      " [0.74268037]\n",
      " [0.75063529]\n",
      " [0.76588222]\n",
      " [0.77103819]\n",
      " [0.76227305]\n",
      " [0.76006334]\n",
      " [0.74945678]\n",
      " [0.76919677]\n",
      " [0.77461054]\n",
      " [0.77287961]\n",
      " [0.75811144]\n",
      " [0.75914264]\n",
      " [0.7791036 ]\n",
      " [0.78518027]\n",
      " [0.78006114]\n",
      " [0.79018893]\n",
      " [0.80786653]\n",
      " [0.78529076]\n",
      " [0.77792509]\n",
      " [0.77173793]\n",
      " [0.78761095]\n",
      " [0.78024528]\n",
      " [0.77589953]\n",
      " [0.78112916]\n",
      " [0.77350569]\n",
      " [0.77070674]\n",
      " [0.77295326]\n",
      " [0.77100136]\n",
      " [0.76672927]\n",
      " [0.76485103]\n",
      " [0.76381984]\n",
      " [0.76614002]\n",
      " [0.76669245]\n",
      " [0.77674658]\n",
      " [0.76223622]\n",
      " [0.75866387]\n",
      " [0.75133503]\n",
      " [0.73645638]\n",
      " [0.71553788]\n",
      " [0.71030825]\n",
      " [0.68570692]\n",
      " [0.67351674]\n",
      " [0.6973815 ]\n",
      " [0.67546864]\n",
      " [0.67377454]\n",
      " [0.65871174]\n",
      " [0.66629838]\n",
      " [0.66147387]\n",
      " [0.66419917]\n",
      " [0.67867271]\n",
      " [0.70290576]\n",
      " [0.70235333]\n",
      " [0.70058557]\n",
      " [0.70069606]\n",
      " [0.69918609]\n",
      " [0.70106434]\n",
      " [0.71266527]\n",
      " [0.704784  ]\n",
      " [0.69774979]\n",
      " [0.68526498]\n",
      " [0.72242478]\n",
      " [0.72537105]\n",
      " [0.72220381]\n",
      " [0.68618569]\n",
      " [0.68080875]\n",
      " [0.68209774]\n",
      " [0.68393916]\n",
      " [0.68062461]\n",
      " [0.67896733]\n",
      " [0.67955659]\n",
      " [0.66626155]\n",
      " [0.66235775]\n",
      " [0.67616838]\n",
      " [0.68493352]\n",
      " [0.67196995]\n",
      " [0.68080875]\n",
      " [0.68780614]\n",
      " [0.68080875]\n",
      " [0.71888926]\n",
      " [0.69185725]\n",
      " [0.68629617]\n",
      " [0.66990756]\n",
      " [0.64048171]\n",
      " [0.63661474]\n",
      " [0.63661474]\n",
      " [0.65351895]\n",
      " [0.65425552]\n",
      " [0.62878872]\n",
      " [0.64416455]\n",
      " [0.61908445]\n",
      " [0.6329319 ]\n",
      " [0.61370751]\n",
      " [0.61322874]\n",
      " [0.61632232]\n",
      " [0.64269142]\n",
      " [0.62203071]\n",
      " [0.62497698]\n",
      " [0.6425441 ]\n",
      " [0.65370309]\n",
      " [0.66047951]\n",
      " [0.66077413]\n",
      " [0.64398041]\n",
      " [0.63385261]\n",
      " [0.61407579]\n",
      " [0.61271314]\n",
      " [0.62379848]\n",
      " [0.62611866]\n",
      " [0.64784738]\n",
      " [0.64350164]\n",
      " [0.65060951]\n",
      " [0.65200899]\n",
      " [0.67248554]\n",
      " [0.67127021]\n",
      " [0.67005487]\n",
      " [0.68629617]\n",
      " [0.68835856]\n",
      " [0.70824587]\n",
      " [0.70739881]\n",
      " [0.70658859]\n",
      " [0.73192649]\n",
      " [0.75641734]\n",
      " [0.74547932]\n",
      " [0.73715612]\n",
      " [0.73185283]\n",
      " [0.73144772]\n",
      " [0.7744264 ]\n",
      " [0.77630464]\n",
      " [0.78381763]\n",
      " [0.79497661]\n",
      " [0.78418591]\n",
      " [0.78414908]\n",
      " [0.78761095]\n",
      " [0.81228594]\n",
      " [0.81210179]\n",
      " [0.85113984]\n",
      " [0.84454756]\n",
      " [0.84598387]\n",
      " [0.86126763]\n",
      " [0.88818915]\n",
      " [0.87706699]\n",
      " [0.86634994]\n",
      " [0.8705852 ]\n",
      " [0.85846868]\n",
      " [0.87250028]\n",
      " [0.85515413]\n",
      " [0.86830185]\n",
      " [0.86495047]\n",
      " [0.89143004]\n",
      " [0.88833646]\n",
      " [0.92111369]\n",
      " [0.93415092]\n",
      " [0.93764962]\n",
      " [0.96818031]\n",
      " [0.97175266]\n",
      " [0.96291386]\n",
      " [0.91945641]\n",
      " [0.95499576]\n",
      " [0.97289434]\n",
      " [0.91282731]\n",
      " [0.87106397]\n",
      " [0.85452804]\n",
      " [0.83987036]\n",
      " [0.87666188]\n",
      " [0.86019961]\n",
      " [0.86399293]\n",
      " [0.85357051]\n",
      " [0.86833867]\n",
      " [0.85021913]\n",
      " [0.85253931]\n",
      " [0.84730969]\n",
      " [0.84060693]\n",
      " [0.84694141]\n",
      " [0.88704747]\n",
      " [0.90693478]\n",
      " [0.91282731]\n",
      " [0.90030568]\n",
      " [0.9085184 ]\n",
      " [0.86701285]\n",
      " [0.88111811]\n",
      " [0.88225979]\n",
      " [0.90030568]\n",
      " [0.96077781]\n",
      " [0.96563916]\n",
      " [0.96453431]\n",
      " [0.96707546]\n",
      " [0.99716422]\n",
      " [1.03395573]\n",
      " [1.05292233]\n",
      " [1.0339189 ]\n",
      " [1.03620226]\n",
      " [1.07910728]\n",
      " [1.09468567]\n",
      " [1.06875852]\n",
      " [1.03325599]\n",
      " [1.055353  ]\n",
      " [1.0443045 ]\n",
      " [1.05446912]\n",
      " [1.0693846 ]\n",
      " [1.05277502]\n",
      " [1.07936508]\n",
      " [1.07487202]\n",
      " [1.09096601]\n",
      " [1.08846168]\n",
      " [1.08161161]\n",
      " [1.10020992]\n",
      " [1.13379737]\n",
      " [1.11048503]\n",
      " [1.07279122]\n",
      " [1.03804368]\n",
      " [1.08555224]\n",
      " [1.07995433]\n",
      " [1.12481125]\n",
      " [1.13158767]\n",
      " [1.13924797]\n",
      " [1.11309984]\n",
      " [1.1101904 ]\n",
      " [1.09840533]\n",
      " [1.07118919]\n",
      " [1.10249328]\n",
      " [1.09254963]\n",
      " [1.08393179]\n",
      " [1.0693846 ]\n",
      " [1.08599418]\n",
      " [1.10904872]\n",
      " [1.14116304]\n",
      " [1.18421537]\n",
      " [1.20745406]\n",
      " [1.19187567]\n",
      " [1.18719847]\n",
      " [1.21003204]\n",
      " [1.25290023]\n",
      " [1.28019003]\n",
      " [1.31948588]\n",
      " [1.25897691]\n",
      " [1.2944426 ]\n",
      " [1.34403197]\n",
      " [1.31241483]\n",
      " [1.33257835]\n",
      " [1.32162192]\n",
      " [1.32777225]\n",
      " [1.31922808]\n",
      " [1.33263359]\n",
      " [1.34905904]\n",
      " [1.36467425]\n",
      " [1.32677789]\n",
      " [1.29098074]\n",
      " [1.30545428]\n",
      " [1.28004272]\n",
      " [1.30409163]\n",
      " [1.21923913]\n",
      " [1.10897507]\n",
      " [1.09512761]\n",
      " [1.09291791]\n",
      " [1.1043347 ]\n",
      " [1.15736751]\n",
      " [1.15629949]\n",
      " [1.13081427]\n",
      " [1.13946894]\n",
      " [1.10985895]\n",
      " [1.14937576]\n",
      " [1.14447759]\n",
      " [1.15390565]\n",
      " [1.15677826]\n",
      " [1.21113689]\n",
      " [1.19404854]\n",
      " [1.21481973]\n",
      " [1.1812691 ]\n",
      " [1.17614997]\n",
      " [1.13011454]\n",
      " [1.11516223]\n",
      " [1.21235223]\n",
      " [1.21850256]\n",
      " [1.25661989]\n",
      " [1.2572828 ]\n",
      " [1.27006224]\n",
      " [1.27227194]\n",
      " [1.25522042]\n",
      " [1.28343093]\n",
      " [1.28553014]\n",
      " [1.27742791]\n",
      " [1.27083564]\n",
      " [1.24026811]\n",
      " [1.21415682]\n",
      " [1.19688432]\n",
      " [1.18900306]\n",
      " [1.2388318 ]\n",
      " [1.24516628]\n",
      " [1.21953375]\n",
      " [1.19080765]\n",
      " [1.22833573]\n",
      " [1.24262512]\n",
      " [1.25209001]\n",
      " [1.24354583]\n",
      " [1.22770965]\n",
      " [1.21474607]\n",
      " [1.2258314 ]\n",
      " [1.23452289]\n",
      " [1.28291533]\n",
      " [1.28044783]\n",
      " [1.28232608]\n",
      " [1.31981733]\n",
      " [1.3409568 ]\n",
      " [1.34003609]\n",
      " [1.31425625]\n",
      " [1.32125364]\n",
      " [1.290281  ]\n",
      " [1.24115199]\n",
      " [1.2329761 ]\n",
      " [1.22918278]\n",
      " [1.19228078]\n",
      " [1.19957279]\n",
      " [1.20200346]\n",
      " [1.1776231 ]\n",
      " [1.23415461]\n",
      " [1.25164807]\n",
      " [1.24096785]\n",
      " [1.22826207]\n",
      " [1.21776599]\n",
      " [1.24387729]\n",
      " [1.24041542]\n",
      " [1.25525725]\n",
      " [1.24339852]\n",
      " [1.23290244]\n",
      " [1.25153758]\n",
      " [1.25002762]\n",
      " [1.23945789]\n",
      " [1.22910912]\n",
      " [1.18830332]\n",
      " [1.18056937]\n",
      " [1.14771848]\n",
      " [1.11814532]\n",
      " [1.11604611]\n",
      " [1.11991309]\n",
      " [1.16418075]\n",
      " [1.04588812]\n",
      " [1.04356793]\n",
      " [1.07118919]\n",
      " [1.04916584]\n",
      " [1.06566494]\n",
      " [1.05461643]\n",
      " [1.05461643]]\n"
     ]
    }
   ],
   "source": [
    "inputs = scaler.transform(inputs)\n",
    "print(inputs)"
   ]
  },
  {
   "cell_type": "code",
   "execution_count": 113,
   "id": "882e38ff",
   "metadata": {},
   "outputs": [],
   "source": [
    "X_test = []\n",
    "for i in range(timesteps,412) :\n",
    "    X_test.append(inputs[i-timesteps:i,0])"
   ]
  },
  {
   "cell_type": "code",
   "execution_count": 114,
   "id": "6edd2aa0",
   "metadata": {},
   "outputs": [],
   "source": [
    "X_test = np.array(X_test)"
   ]
  },
  {
   "cell_type": "code",
   "execution_count": 115,
   "id": "138db6ee",
   "metadata": {},
   "outputs": [
    {
     "name": "stdout",
     "output_type": "stream",
     "text": [
      "(372, 40)\n"
     ]
    }
   ],
   "source": [
    "print(X_test.shape)"
   ]
  },
  {
   "cell_type": "code",
   "execution_count": 116,
   "id": "fe9956f3",
   "metadata": {},
   "outputs": [],
   "source": [
    "X_test = np.reshape(X_test, (X_test.shape[0], X_test.shape[1], 1))"
   ]
  },
  {
   "cell_type": "code",
   "execution_count": 117,
   "id": "507f928c",
   "metadata": {},
   "outputs": [
    {
     "name": "stdout",
     "output_type": "stream",
     "text": [
      "12/12 [==============================] - 0s 5ms/step\n"
     ]
    }
   ],
   "source": [
    "pred = regressor.predict(X_test)"
   ]
  },
  {
   "cell_type": "code",
   "execution_count": 118,
   "id": "235b05c8",
   "metadata": {},
   "outputs": [
    {
     "data": {
      "text/plain": [
       "(372, 1)"
      ]
     },
     "execution_count": 118,
     "metadata": {},
     "output_type": "execute_result"
    }
   ],
   "source": [
    "pred.shape"
   ]
  },
  {
   "cell_type": "code",
   "execution_count": 119,
   "id": "e5fbadf5",
   "metadata": {
    "scrolled": true
   },
   "outputs": [
    {
     "data": {
      "text/plain": [
       "array([[269.44724],\n",
       "       [243.68828],\n",
       "       [224.14676],\n",
       "       [223.70839],\n",
       "       [222.6968 ],\n",
       "       [226.76028],\n",
       "       [221.72453],\n",
       "       [214.85988],\n",
       "       [213.20312],\n",
       "       [213.82881],\n",
       "       [215.59677],\n",
       "       [219.17871],\n",
       "       [226.17017],\n",
       "       [223.39932],\n",
       "       [213.09874],\n",
       "       [209.28201],\n",
       "       [210.75243],\n",
       "       [212.7182 ],\n",
       "       [209.69865],\n",
       "       [207.12444],\n",
       "       [210.45686],\n",
       "       [202.13597],\n",
       "       [192.84343],\n",
       "       [188.6791 ],\n",
       "       [184.16164],\n",
       "       [189.27406],\n",
       "       [195.5199 ],\n",
       "       [201.49373],\n",
       "       [200.05264],\n",
       "       [197.73958],\n",
       "       [199.43912],\n",
       "       [198.1846 ],\n",
       "       [204.51952],\n",
       "       [208.54   ],\n",
       "       [211.86768],\n",
       "       [214.12898],\n",
       "       [212.90594],\n",
       "       [213.90822],\n",
       "       [212.51451],\n",
       "       [217.06612],\n",
       "       [220.43738],\n",
       "       [220.63292],\n",
       "       [219.45288],\n",
       "       [218.48349],\n",
       "       [220.9645 ],\n",
       "       [223.37065],\n",
       "       [223.70857],\n",
       "       [225.04552],\n",
       "       [227.50589],\n",
       "       [226.4726 ],\n",
       "       [223.71683],\n",
       "       [221.31532],\n",
       "       [222.86647],\n",
       "       [224.26671],\n",
       "       [223.53397],\n",
       "       [222.95244],\n",
       "       [221.76825],\n",
       "       [222.05397],\n",
       "       [221.67247],\n",
       "       [221.23967],\n",
       "       [220.84674],\n",
       "       [220.8673 ],\n",
       "       [220.82648],\n",
       "       [219.953  ],\n",
       "       [220.04875],\n",
       "       [221.1907 ],\n",
       "       [220.08417],\n",
       "       [218.36935],\n",
       "       [217.01802],\n",
       "       [214.18977],\n",
       "       [210.01562],\n",
       "       [206.86284],\n",
       "       [202.21951],\n",
       "       [196.89606],\n",
       "       [197.77301],\n",
       "       [196.5827 ],\n",
       "       [193.75356],\n",
       "       [190.43817],\n",
       "       [188.794  ],\n",
       "       [188.28493],\n",
       "       [187.8382 ],\n",
       "       [189.91321],\n",
       "       [194.19096],\n",
       "       [196.95572],\n",
       "       [196.97475],\n",
       "       [196.32828],\n",
       "       [196.39003],\n",
       "       [197.52136],\n",
       "       [199.95988],\n",
       "       [200.04176],\n",
       "       [198.18681],\n",
       "       [196.70241],\n",
       "       [200.59067],\n",
       "       [204.38135],\n",
       "       [205.30518],\n",
       "       [201.29945],\n",
       "       [196.36508],\n",
       "       [195.52698],\n",
       "       [195.84018],\n",
       "       [195.44876],\n",
       "       [194.04707],\n",
       "       [193.52637],\n",
       "       [191.6486 ],\n",
       "       [188.25298],\n",
       "       [189.00928],\n",
       "       [191.99602],\n",
       "       [192.4129 ],\n",
       "       [191.49411],\n",
       "       [191.95041],\n",
       "       [192.11949],\n",
       "       [198.00499],\n",
       "       [199.11472],\n",
       "       [195.68692],\n",
       "       [192.55412],\n",
       "       [186.29984],\n",
       "       [182.871  ],\n",
       "       [181.80923],\n",
       "       [184.03267],\n",
       "       [185.22873],\n",
       "       [181.1574 ],\n",
       "       [180.29321],\n",
       "       [177.32178],\n",
       "       [177.73932],\n",
       "       [176.51012],\n",
       "       [173.43492],\n",
       "       [173.35323],\n",
       "       [176.1062 ],\n",
       "       [176.87694],\n",
       "       [175.152  ],\n",
       "       [177.26501],\n",
       "       [180.65628],\n",
       "       [183.24127],\n",
       "       [184.22826],\n",
       "       [182.24217],\n",
       "       [180.17691],\n",
       "       [177.07295],\n",
       "       [173.78076],\n",
       "       [174.18073],\n",
       "       [176.23096],\n",
       "       [180.12015],\n",
       "       [181.80157],\n",
       "       [181.71475],\n",
       "       [182.50163],\n",
       "       [185.98836],\n",
       "       [189.19223],\n",
       "       [189.36751],\n",
       "       [191.56664],\n",
       "       [193.74417],\n",
       "       [196.74457],\n",
       "       [199.37769],\n",
       "       [199.57135],\n",
       "       [202.94028],\n",
       "       [209.34229],\n",
       "       [211.59819],\n",
       "       [210.56155],\n",
       "       [209.49406],\n",
       "       [209.81049],\n",
       "       [215.74226],\n",
       "       [219.84735],\n",
       "       [221.64397],\n",
       "       [224.37573],\n",
       "       [224.90004],\n",
       "       [224.25824],\n",
       "       [224.5438 ],\n",
       "       [227.96179],\n",
       "       [230.73781],\n",
       "       [235.58897],\n",
       "       [237.67274],\n",
       "       [236.93529],\n",
       "       [240.12181],\n",
       "       [244.46742],\n",
       "       [245.85   ],\n",
       "       [244.6092 ],\n",
       "       [244.46721],\n",
       "       [243.888  ],\n",
       "       [245.2438 ],\n",
       "       [244.8877 ],\n",
       "       [244.3248 ],\n",
       "       [245.04204],\n",
       "       [247.43045],\n",
       "       [248.94641],\n",
       "       [251.30634],\n",
       "       [254.58417],\n",
       "       [255.87775],\n",
       "       [258.8425 ],\n",
       "       [260.2806 ],\n",
       "       [259.84296],\n",
       "       [257.14032],\n",
       "       [257.92105],\n",
       "       [260.8919 ],\n",
       "       [256.69006],\n",
       "       [250.44336],\n",
       "       [245.7977 ],\n",
       "       [243.11926],\n",
       "       [246.73875],\n",
       "       [246.28362],\n",
       "       [244.66585],\n",
       "       [243.6619 ],\n",
       "       [244.63928],\n",
       "       [243.43411],\n",
       "       [241.33005],\n",
       "       [241.92204],\n",
       "       [240.96327],\n",
       "       [240.54166],\n",
       "       [243.3016 ],\n",
       "       [246.98119],\n",
       "       [249.92253],\n",
       "       [249.88464],\n",
       "       [249.52301],\n",
       "       [246.29245],\n",
       "       [245.45387],\n",
       "       [247.55325],\n",
       "       [249.91167],\n",
       "       [256.11484],\n",
       "       [258.84595],\n",
       "       [258.673  ],\n",
       "       [259.67343],\n",
       "       [262.27972],\n",
       "       [266.97394],\n",
       "       [269.31042],\n",
       "       [268.36096],\n",
       "       [267.60556],\n",
       "       [270.7724 ],\n",
       "       [273.4689 ],\n",
       "       [272.2329 ],\n",
       "       [269.31406],\n",
       "       [269.4951 ],\n",
       "       [269.756  ],\n",
       "       [270.67725],\n",
       "       [271.7014 ],\n",
       "       [270.85324],\n",
       "       [272.90765],\n",
       "       [273.29492],\n",
       "       [273.29163],\n",
       "       [273.74326],\n",
       "       [273.7005 ],\n",
       "       [275.05447],\n",
       "       [276.55243],\n",
       "       [275.6392 ],\n",
       "       [272.6728 ],\n",
       "       [269.9727 ],\n",
       "       [272.41342],\n",
       "       [273.56134],\n",
       "       [275.87485],\n",
       "       [277.03925],\n",
       "       [276.90768],\n",
       "       [276.39648],\n",
       "       [275.21155],\n",
       "       [274.29535],\n",
       "       [273.0275 ],\n",
       "       [274.92474],\n",
       "       [275.04486],\n",
       "       [273.12375],\n",
       "       [272.2679 ],\n",
       "       [272.83423],\n",
       "       [274.93048],\n",
       "       [277.3594 ],\n",
       "       [279.8131 ],\n",
       "       [281.23425],\n",
       "       [280.57953],\n",
       "       [280.0523 ],\n",
       "       [280.97693],\n",
       "       [283.19345],\n",
       "       [285.14893],\n",
       "       [286.67072],\n",
       "       [284.15683],\n",
       "       [283.9953 ],\n",
       "       [286.95364],\n",
       "       [286.2178 ],\n",
       "       [286.51425],\n",
       "       [286.32437],\n",
       "       [286.12686],\n",
       "       [286.29013],\n",
       "       [286.63486],\n",
       "       [287.3745 ],\n",
       "       [288.0026 ],\n",
       "       [286.94482],\n",
       "       [284.39554],\n",
       "       [284.51913],\n",
       "       [284.56543],\n",
       "       [285.67883],\n",
       "       [282.74097],\n",
       "       [274.33377],\n",
       "       [271.57858],\n",
       "       [273.00464],\n",
       "       [274.81003],\n",
       "       [278.47168],\n",
       "       [279.2549 ],\n",
       "       [276.81503],\n",
       "       [276.5022 ],\n",
       "       [275.45718],\n",
       "       [277.10016],\n",
       "       [278.8353 ],\n",
       "       [278.94043],\n",
       "       [278.46844],\n",
       "       [280.19678],\n",
       "       [280.7178 ],\n",
       "       [281.35068],\n",
       "       [280.6002 ],\n",
       "       [278.70386],\n",
       "       [276.28836],\n",
       "       [275.0028 ],\n",
       "       [279.96484],\n",
       "       [282.83453],\n",
       "       [284.1646 ],\n",
       "       [283.90692],\n",
       "       [283.1523 ],\n",
       "       [284.06305],\n",
       "       [283.68707],\n",
       "       [284.58392],\n",
       "       [284.80768],\n",
       "       [284.13358],\n",
       "       [283.87524],\n",
       "       [281.74945],\n",
       "       [280.7929 ],\n",
       "       [280.42636],\n",
       "       [279.9831 ],\n",
       "       [282.20258],\n",
       "       [283.0888 ],\n",
       "       [282.27075],\n",
       "       [280.355  ],\n",
       "       [281.4897 ],\n",
       "       [283.4405 ],\n",
       "       [283.9883 ],\n",
       "       [283.50507],\n",
       "       [282.12592],\n",
       "       [281.33987],\n",
       "       [281.97253],\n",
       "       [282.1657 ],\n",
       "       [284.5368 ],\n",
       "       [285.41437],\n",
       "       [284.81345],\n",
       "       [286.10025],\n",
       "       [286.86   ],\n",
       "       [287.33847],\n",
       "       [286.2994 ],\n",
       "       [285.91238],\n",
       "       [284.73956],\n",
       "       [282.38483],\n",
       "       [282.0533 ],\n",
       "       [281.801  ],\n",
       "       [280.67688],\n",
       "       [280.62054],\n",
       "       [280.379  ],\n",
       "       [279.20673],\n",
       "       [282.18127],\n",
       "       [284.23746],\n",
       "       [283.18832],\n",
       "       [282.18048],\n",
       "       [281.42712],\n",
       "       [282.464  ],\n",
       "       [283.21252],\n",
       "       [283.82025],\n",
       "       [283.1385 ],\n",
       "       [281.9695 ],\n",
       "       [282.903  ],\n",
       "       [283.048  ],\n",
       "       [282.76303],\n",
       "       [282.29773],\n",
       "       [280.3151 ],\n",
       "       [279.48392],\n",
       "       [277.5759 ],\n",
       "       [275.69763],\n",
       "       [275.927  ],\n",
       "       [276.2086 ],\n",
       "       [278.54224],\n",
       "       [272.51532],\n",
       "       [268.27603],\n",
       "       [270.8707 ],\n",
       "       [270.41263],\n",
       "       [272.08557],\n",
       "       [270.66147]], dtype=float32)"
      ]
     },
     "execution_count": 119,
     "metadata": {},
     "output_type": "execute_result"
    }
   ],
   "source": [
    "pred=scaler.inverse_transform(pred)\n",
    "pred"
   ]
  },
  {
   "cell_type": "code",
   "execution_count": 120,
   "id": "0fb34dab",
   "metadata": {},
   "outputs": [
    {
     "data": {
      "image/png": "[encoded data removed]",
      "text/plain": [
       "<Figure size 640x480 with 1 Axes>"
      ]
     },
     "metadata": {},
     "output_type": "display_data"
    }
   ],
   "source": [
    "plt.plot(real_price, color = \"red\", label = \"Real Stock Price\")\n",
    "plt.plot(pred, color = \"black\", label = \"Predict Stock Price\")\n",
    "plt.title(\"Stock Price Prediction\")\n",
    "plt.xlabel(\"Time\")\n",
    "plt.ylabel(\"Tesla Stock Price\")\n",
    "plt.legend()\n",
    "plt.show()"
   ]
  },
  {
   "cell_type": "code",
   "execution_count": 121,
   "id": "c4324d76",
   "metadata": {},
   "outputs": [],
   "source": [
    "#1. LSTM 변경 RNN과 비교\n",
    "#2. 관신있는 회사에 대해 예측 모델"
   ]
  },
  {
   "cell_type": "code",
   "execution_count": 158,
   "id": "55630971",
   "metadata": {},
   "outputs": [
    {
     "data": {
      "text/html": [
       "<div>\n",
       "<style scoped>\n",
       "    .dataframe tbody tr th:only-of-type {\n",
       "        vertical-align: middle;\n",
       "    }\n",
       "\n",
       "    .dataframe tbody tr th {\n",
       "        vertical-align: top;\n",
       "    }\n",
       "\n",
       "    .dataframe thead th {\n",
       "        text-align: right;\n",
       "    }\n",
       "</style>\n",
       "<table border=\"1\" class=\"dataframe\">\n",
       "  <thead>\n",
       "    <tr style=\"text-align: right;\">\n",
       "      <th></th>\n",
       "      <th>Date</th>\n",
       "      <th>Open</th>\n",
       "      <th>High</th>\n",
       "      <th>Low</th>\n",
       "      <th>Close</th>\n",
       "      <th>Volume</th>\n",
       "      <th>OpenInt</th>\n",
       "    </tr>\n",
       "  </thead>\n",
       "  <tbody>\n",
       "    <tr>\n",
       "      <th>0</th>\n",
       "      <td>1962-01-02</td>\n",
       "      <td>6.4130</td>\n",
       "      <td>6.4130</td>\n",
       "      <td>6.3378</td>\n",
       "      <td>6.3378</td>\n",
       "      <td>467056</td>\n",
       "      <td>0</td>\n",
       "    </tr>\n",
       "    <tr>\n",
       "      <th>1</th>\n",
       "      <td>1962-01-03</td>\n",
       "      <td>6.3378</td>\n",
       "      <td>6.3963</td>\n",
       "      <td>6.3378</td>\n",
       "      <td>6.3963</td>\n",
       "      <td>350294</td>\n",
       "      <td>0</td>\n",
       "    </tr>\n",
       "    <tr>\n",
       "      <th>2</th>\n",
       "      <td>1962-01-04</td>\n",
       "      <td>6.3963</td>\n",
       "      <td>6.3963</td>\n",
       "      <td>6.3295</td>\n",
       "      <td>6.3295</td>\n",
       "      <td>314365</td>\n",
       "      <td>0</td>\n",
       "    </tr>\n",
       "    <tr>\n",
       "      <th>3</th>\n",
       "      <td>1962-01-05</td>\n",
       "      <td>6.3211</td>\n",
       "      <td>6.3211</td>\n",
       "      <td>6.1958</td>\n",
       "      <td>6.2041</td>\n",
       "      <td>440112</td>\n",
       "      <td>0</td>\n",
       "    </tr>\n",
       "    <tr>\n",
       "      <th>4</th>\n",
       "      <td>1962-01-08</td>\n",
       "      <td>6.2041</td>\n",
       "      <td>6.2041</td>\n",
       "      <td>6.0373</td>\n",
       "      <td>6.0870</td>\n",
       "      <td>655676</td>\n",
       "      <td>0</td>\n",
       "    </tr>\n",
       "    <tr>\n",
       "      <th>...</th>\n",
       "      <td>...</td>\n",
       "      <td>...</td>\n",
       "      <td>...</td>\n",
       "      <td>...</td>\n",
       "      <td>...</td>\n",
       "      <td>...</td>\n",
       "      <td>...</td>\n",
       "    </tr>\n",
       "    <tr>\n",
       "      <th>14054</th>\n",
       "      <td>2017-11-06</td>\n",
       "      <td>150.2700</td>\n",
       "      <td>150.3200</td>\n",
       "      <td>148.7900</td>\n",
       "      <td>149.3500</td>\n",
       "      <td>4543499</td>\n",
       "      <td>0</td>\n",
       "    </tr>\n",
       "    <tr>\n",
       "      <th>14055</th>\n",
       "      <td>2017-11-07</td>\n",
       "      <td>149.8700</td>\n",
       "      <td>150.0100</td>\n",
       "      <td>149.0100</td>\n",
       "      <td>149.8500</td>\n",
       "      <td>3729501</td>\n",
       "      <td>0</td>\n",
       "    </tr>\n",
       "    <tr>\n",
       "      <th>14056</th>\n",
       "      <td>2017-11-08</td>\n",
       "      <td>150.1000</td>\n",
       "      <td>150.2800</td>\n",
       "      <td>148.7900</td>\n",
       "      <td>150.0700</td>\n",
       "      <td>4679520</td>\n",
       "      <td>0</td>\n",
       "    </tr>\n",
       "    <tr>\n",
       "      <th>14057</th>\n",
       "      <td>2017-11-09</td>\n",
       "      <td>149.9300</td>\n",
       "      <td>151.8000</td>\n",
       "      <td>149.8600</td>\n",
       "      <td>150.3000</td>\n",
       "      <td>4776388</td>\n",
       "      <td>0</td>\n",
       "    </tr>\n",
       "    <tr>\n",
       "      <th>14058</th>\n",
       "      <td>2017-11-10</td>\n",
       "      <td>150.6500</td>\n",
       "      <td>150.8900</td>\n",
       "      <td>149.1400</td>\n",
       "      <td>149.1600</td>\n",
       "      <td>4306433</td>\n",
       "      <td>0</td>\n",
       "    </tr>\n",
       "  </tbody>\n",
       "</table>\n",
       "<p>14059 rows × 7 columns</p>\n",
       "</div>"
      ],
      "text/plain": [
       "             Date      Open      High       Low     Close   Volume  OpenInt\n",
       "0      1962-01-02    6.4130    6.4130    6.3378    6.3378   467056        0\n",
       "1      1962-01-03    6.3378    6.3963    6.3378    6.3963   350294        0\n",
       "2      1962-01-04    6.3963    6.3963    6.3295    6.3295   314365        0\n",
       "3      1962-01-05    6.3211    6.3211    6.1958    6.2041   440112        0\n",
       "4      1962-01-08    6.2041    6.2041    6.0373    6.0870   655676        0\n",
       "...           ...       ...       ...       ...       ...      ...      ...\n",
       "14054  2017-11-06  150.2700  150.3200  148.7900  149.3500  4543499        0\n",
       "14055  2017-11-07  149.8700  150.0100  149.0100  149.8500  3729501        0\n",
       "14056  2017-11-08  150.1000  150.2800  148.7900  150.0700  4679520        0\n",
       "14057  2017-11-09  149.9300  151.8000  149.8600  150.3000  4776388        0\n",
       "14058  2017-11-10  150.6500  150.8900  149.1400  149.1600  4306433        0\n",
       "\n",
       "[14059 rows x 7 columns]"
      ]
     },
     "execution_count": 158,
     "metadata": {},
     "output_type": "execute_result"
    }
   ],
   "source": [
    "data = pd.read_csv(\"Stocks/ibm.us.txt\")\n",
    "data"
   ]
  },
  {
   "cell_type": "code",
   "execution_count": 159,
   "id": "0b28883b",
   "metadata": {},
   "outputs": [],
   "source": [
    "training_size = int(len(data)*0.80)\n",
    "data_len = len(data)"
   ]
  },
  {
   "cell_type": "code",
   "execution_count": 160,
   "id": "378d67e6",
   "metadata": {},
   "outputs": [],
   "source": [
    "train, test = data[0:training_size],data[training_size:data_len]"
   ]
  },
  {
   "cell_type": "code",
   "execution_count": 161,
   "id": "db6bcb4f",
   "metadata": {},
   "outputs": [],
   "source": [
    "train = train.loc[:,['Open']].values"
   ]
  },
  {
   "cell_type": "code",
   "execution_count": 162,
   "id": "bf08ffdd",
   "metadata": {},
   "outputs": [
    {
     "data": {
      "text/plain": [
       "array([0.02706269])"
      ]
     },
     "execution_count": 162,
     "metadata": {},
     "output_type": "execute_result"
    }
   ],
   "source": [
    "scaler = MinMaxScaler(feature_range=(0, 1)) \n",
    "train_scaled = scaler.fit_transform(train) # 정규화\n",
    "train_scaled[0]"
   ]
  },
  {
   "cell_type": "code",
   "execution_count": 163,
   "id": "f4da8b26",
   "metadata": {},
   "outputs": [],
   "source": [
    "end_len = len(train_scaled)\n",
    "X_train = []\n",
    "y_train = []\n",
    "timesteps = 40"
   ]
  },
  {
   "cell_type": "code",
   "execution_count": 164,
   "id": "708bea88",
   "metadata": {},
   "outputs": [],
   "source": [
    "for i in range(timesteps,end_len):\n",
    "    X_train.append(train_scaled[i-timesteps:i,0])\n",
    "    y_train.append(train_scaled[i,0])"
   ]
  },
  {
   "cell_type": "code",
   "execution_count": 165,
   "id": "4c4f83ed",
   "metadata": {},
   "outputs": [],
   "source": [
    "X_train, y_train = np.array(X_train), np.array(y_train)"
   ]
  },
  {
   "cell_type": "code",
   "execution_count": 166,
   "id": "c828c600",
   "metadata": {},
   "outputs": [],
   "source": [
    "X_train = np.reshape(X_train,(X_train.shape[0],X_train.shape[1],1))"
   ]
  },
  {
   "cell_type": "code",
   "execution_count": 167,
   "id": "e222e524",
   "metadata": {},
   "outputs": [],
   "source": [
    "regressor = Sequential()"
   ]
  },
  {
   "cell_type": "code",
   "execution_count": 168,
   "id": "58124ac4",
   "metadata": {},
   "outputs": [],
   "source": [
    "regressor.add(SimpleRNN(units=50, activation = 'tanh', return_sequences=True,\n",
    "                        input_shape=(X_train.shape[1],1))) \n",
    "regressor.add(Dropout(0.2))\n",
    "regressor.add(LSTM(units=50, activation = 'tanh', return_sequences=True))\n",
    "regressor.add(Dropout(0.2))\n",
    "regressor.add(LSTM(units=50, activation = 'tanh', return_sequences=True))\n",
    "regressor.add(Dropout(0.2))\n",
    "regressor.add(LSTM(units=50, activation = 'tanh'))\n",
    "regressor.add(Dropout(0.2))\n",
    "regressor.add(Dense(units=1))"
   ]
  },
  {
   "cell_type": "code",
   "execution_count": 169,
   "id": "8b6ddedf",
   "metadata": {},
   "outputs": [],
   "source": [
    "regressor.compile(optimizer = 'adam', loss='mean_squared_error')"
   ]
  },
  {
   "cell_type": "code",
   "execution_count": null,
   "id": "3419e2b1",
   "metadata": {
    "scrolled": true
   },
   "outputs": [
    {
     "name": "stdout",
     "output_type": "stream",
     "text": [
      "Epoch 1/100\n",
      "561/561 [==============================] - 20s 28ms/step - loss: 0.0019\n",
      "Epoch 2/100\n",
      "561/561 [==============================] - 16s 28ms/step - loss: 0.0011\n",
      "Epoch 3/100\n",
      "561/561 [==============================] - 16s 28ms/step - loss: 8.9557e-04\n",
      "Epoch 4/100\n",
      "561/561 [==============================] - 16s 28ms/step - loss: 7.7371e-04\n",
      "Epoch 5/100\n",
      "561/561 [==============================] - 16s 28ms/step - loss: 7.9621e-04\n",
      "Epoch 6/100\n",
      "561/561 [==============================] - 15s 28ms/step - loss: 7.6627e-04\n",
      "Epoch 7/100\n",
      "561/561 [==============================] - 16s 28ms/step - loss: 6.7265e-04\n",
      "Epoch 8/100\n",
      "561/561 [==============================] - 16s 28ms/step - loss: 6.6938e-04\n",
      "Epoch 9/100\n",
      "561/561 [==============================] - 16s 28ms/step - loss: 6.6191e-04\n",
      "Epoch 10/100\n",
      "561/561 [==============================] - 16s 28ms/step - loss: 6.1832e-04\n",
      "Epoch 11/100\n",
      "561/561 [==============================] - 16s 28ms/step - loss: 6.4009e-04\n",
      "Epoch 12/100\n",
      "561/561 [==============================] - 16s 28ms/step - loss: 6.2786e-04\n",
      "Epoch 13/100\n",
      "561/561 [==============================] - 16s 28ms/step - loss: 6.1426e-04\n",
      "Epoch 14/100\n",
      "561/561 [==============================] - 16s 28ms/step - loss: 6.4104e-04\n",
      "Epoch 15/100\n",
      "561/561 [==============================] - 16s 28ms/step - loss: 5.8284e-04\n",
      "Epoch 16/100\n",
      "561/561 [==============================] - 16s 28ms/step - loss: 5.9888e-04\n",
      "Epoch 17/100\n",
      "561/561 [==============================] - 16s 28ms/step - loss: 5.8232e-04\n",
      "Epoch 18/100\n",
      "561/561 [==============================] - 16s 28ms/step - loss: 5.7699e-04\n",
      "Epoch 19/100\n",
      "561/561 [==============================] - 16s 28ms/step - loss: 5.5938e-04\n",
      "Epoch 20/100\n",
      "561/561 [==============================] - 16s 28ms/step - loss: 5.5154e-04\n",
      "Epoch 21/100\n",
      "561/561 [==============================] - 16s 28ms/step - loss: 5.3565e-04\n",
      "Epoch 22/100\n",
      "561/561 [==============================] - 16s 28ms/step - loss: 5.7910e-04\n",
      "Epoch 23/100\n",
      "561/561 [==============================] - 16s 28ms/step - loss: 5.5235e-04\n",
      "Epoch 24/100\n",
      "561/561 [==============================] - 16s 28ms/step - loss: 5.3906e-04\n",
      "Epoch 25/100\n",
      "561/561 [==============================] - 16s 28ms/step - loss: 5.2598e-04\n",
      "Epoch 26/100\n",
      "561/561 [==============================] - 16s 28ms/step - loss: 5.4565e-04\n",
      "Epoch 27/100\n",
      "561/561 [==============================] - 16s 28ms/step - loss: 5.8261e-04\n",
      "Epoch 28/100\n",
      "561/561 [==============================] - 16s 28ms/step - loss: 5.5261e-04\n",
      "Epoch 29/100\n",
      "561/561 [==============================] - 16s 28ms/step - loss: 5.4474e-04\n",
      "Epoch 30/100\n",
      "561/561 [==============================] - 16s 28ms/step - loss: 5.1842e-04\n",
      "Epoch 31/100\n",
      "561/561 [==============================] - 16s 28ms/step - loss: 5.1787e-04\n",
      "Epoch 32/100\n",
      "561/561 [==============================] - 16s 28ms/step - loss: 5.3205e-04\n",
      "Epoch 33/100\n",
      "561/561 [==============================] - 16s 28ms/step - loss: 5.1882e-04\n",
      "Epoch 34/100\n",
      "561/561 [==============================] - 16s 28ms/step - loss: 4.8511e-04\n",
      "Epoch 35/100\n",
      "561/561 [==============================] - 16s 28ms/step - loss: 5.2771e-04\n",
      "Epoch 36/100\n",
      "561/561 [==============================] - 16s 28ms/step - loss: 5.0025e-04\n",
      "Epoch 37/100\n",
      "561/561 [==============================] - 16s 28ms/step - loss: 4.8525e-04\n",
      "Epoch 38/100\n",
      "561/561 [==============================] - 16s 28ms/step - loss: 5.1008e-04\n",
      "Epoch 39/100\n",
      "561/561 [==============================] - 16s 28ms/step - loss: 4.7572e-04\n",
      "Epoch 40/100\n",
      "561/561 [==============================] - 16s 28ms/step - loss: 4.6921e-04\n",
      "Epoch 41/100\n",
      "561/561 [==============================] - 16s 28ms/step - loss: 4.6312e-04\n",
      "Epoch 42/100\n",
      "561/561 [==============================] - 16s 28ms/step - loss: 4.9608e-04\n",
      "Epoch 43/100\n",
      "561/561 [==============================] - 16s 28ms/step - loss: 4.7065e-04\n",
      "Epoch 44/100\n",
      "561/561 [==============================] - 16s 28ms/step - loss: 4.6409e-04\n",
      "Epoch 45/100\n",
      "561/561 [==============================] - 16s 28ms/step - loss: 4.6564e-04\n",
      "Epoch 46/100\n",
      "561/561 [==============================] - 16s 28ms/step - loss: 4.9008e-04\n",
      "Epoch 47/100\n",
      "561/561 [==============================] - 16s 28ms/step - loss: 4.5899e-04\n",
      "Epoch 48/100\n",
      "561/561 [==============================] - 16s 28ms/step - loss: 4.8583e-04\n",
      "Epoch 49/100\n",
      "561/561 [==============================] - 16s 28ms/step - loss: 4.7748e-04\n",
      "Epoch 50/100\n",
      "561/561 [==============================] - 16s 28ms/step - loss: 4.7197e-04\n",
      "Epoch 51/100\n",
      "561/561 [==============================] - 16s 28ms/step - loss: 4.6861e-04\n",
      "Epoch 52/100\n",
      "561/561 [==============================] - 16s 28ms/step - loss: 4.3908e-04\n",
      "Epoch 53/100\n",
      "561/561 [==============================] - 16s 28ms/step - loss: 4.6813e-04\n",
      "Epoch 54/100\n",
      "561/561 [==============================] - 16s 28ms/step - loss: 4.3410e-04\n",
      "Epoch 55/100\n",
      "561/561 [==============================] - 16s 28ms/step - loss: 4.5989e-04\n",
      "Epoch 56/100\n",
      "561/561 [==============================] - 16s 28ms/step - loss: 4.4082e-04\n",
      "Epoch 57/100\n",
      "543/561 [============================>.] - ETA: 0s - loss: 4.6432e-04"
     ]
    }
   ],
   "source": [
    "regressor.fit(X_train,y_train, epochs=100, batch_size=20)"
   ]
  },
  {
   "cell_type": "code",
   "execution_count": null,
   "id": "b06216de",
   "metadata": {},
   "outputs": [],
   "source": [
    "real_price = test.loc[:, [\"Open\"]].values"
   ]
  },
  {
   "cell_type": "code",
   "execution_count": null,
   "id": "09079a2d",
   "metadata": {},
   "outputs": [],
   "source": [
    "dataset_total = pd.concat((data['Open'], test['Open']),axis = 0)"
   ]
  },
  {
   "cell_type": "code",
   "execution_count": null,
   "id": "ec342dcd",
   "metadata": {},
   "outputs": [],
   "source": [
    "inputs = dataset_total[len(dataset_total)-len(test)-timesteps:].values.reshape(-1,1)"
   ]
  },
  {
   "cell_type": "code",
   "execution_count": null,
   "id": "b5b36dcb",
   "metadata": {},
   "outputs": [],
   "source": [
    "inputs = scaler.transform(inputs)"
   ]
  },
  {
   "cell_type": "code",
   "execution_count": null,
   "id": "e8316f28",
   "metadata": {},
   "outputs": [],
   "source": [
    "X_test = []\n",
    "for i in range(timesteps,412) :\n",
    "    X_test.append(inputs[i-timesteps:i,0])\n",
    "X_test = np.array(X_test)"
   ]
  },
  {
   "cell_type": "code",
   "execution_count": null,
   "id": "4509aa79",
   "metadata": {},
   "outputs": [],
   "source": [
    "X_test = np.reshape(X_test, (X_test.shape[0], X_test.shape[1], 1))"
   ]
  },
  {
   "cell_type": "code",
   "execution_count": null,
   "id": "d3fb1262",
   "metadata": {},
   "outputs": [],
   "source": [
    "pred_lstm = regressor.predict(X_test)\n",
    "pred_lstm=scaler.inverse_transform(pred_lstm)"
   ]
  },
  {
   "cell_type": "code",
   "execution_count": null,
   "id": "fb091e66",
   "metadata": {},
   "outputs": [],
   "source": []
  },
  {
   "cell_type": "code",
   "execution_count": null,
   "id": "dd29f375",
   "metadata": {},
   "outputs": [],
   "source": []
  },
  {
   "cell_type": "code",
   "execution_count": null,
   "id": "b538516e",
   "metadata": {},
   "outputs": [],
   "source": [
    "regressor2 = Sequential()"
   ]
  },
  {
   "cell_type": "code",
   "execution_count": null,
   "id": "a91dfcf9",
   "metadata": {},
   "outputs": [],
   "source": [
    "regressor2.add(SimpleRNN(units=50, activation = 'tanh', return_sequences=True,\n",
    "                        input_shape=(X_train.shape[1],1))) \n",
    "regressor2.add(Dropout(0.2))\n",
    "regressor2.add(SimpleRNN(units=50, activation = 'tanh', return_sequences=True))\n",
    "regressor2.add(Dropout(0.2))\n",
    "regressor2.add(SimpleRNN(units=50, activation = 'tanh', return_sequences=True))\n",
    "regressor2.add(Dropout(0.2))\n",
    "regressor2.add(SimpleRNN(units=50, activation = 'tanh'))\n",
    "regressor2.add(Dropout(0.2))\n",
    "regressor2.add(Dense(units=1))"
   ]
  },
  {
   "cell_type": "code",
   "execution_count": null,
   "id": "76efcf65",
   "metadata": {},
   "outputs": [],
   "source": [
    "regressor.compile(optimizer = 'adam', loss='mean_squared_error')"
   ]
  },
  {
   "cell_type": "code",
   "execution_count": null,
   "id": "831486a9",
   "metadata": {},
   "outputs": [],
   "source": [
    "regressor.fit(X_train,y_train, epochs=100, batch_size=20)"
   ]
  },
  {
   "cell_type": "code",
   "execution_count": null,
   "id": "a631a987",
   "metadata": {},
   "outputs": [],
   "source": [
    "real_price = test.loc[:, [\"Open\"]].values"
   ]
  },
  {
   "cell_type": "code",
   "execution_count": null,
   "id": "be052ff4",
   "metadata": {},
   "outputs": [],
   "source": [
    "dataset_total = pd.concat((data['Open'], test['Open']),axis = 0)"
   ]
  },
  {
   "cell_type": "code",
   "execution_count": null,
   "id": "7b16ec88",
   "metadata": {},
   "outputs": [],
   "source": [
    "inputs = dataset_total[len(dataset_total)-len(test)-timesteps:].values.reshape(-1,1)"
   ]
  },
  {
   "cell_type": "code",
   "execution_count": null,
   "id": "1ebf38ba",
   "metadata": {},
   "outputs": [],
   "source": [
    "inputs = scaler.transform(inputs)"
   ]
  },
  {
   "cell_type": "code",
   "execution_count": null,
   "id": "e79a1214",
   "metadata": {},
   "outputs": [],
   "source": [
    "X_test = []\n",
    "for i in range(timesteps,412) :\n",
    "    X_test.append(inputs[i-timesteps:i,0])\n",
    "X_test = np.array(X_test)"
   ]
  },
  {
   "cell_type": "code",
   "execution_count": null,
   "id": "3762d634",
   "metadata": {},
   "outputs": [],
   "source": [
    "X_test = np.reshape(X_test, (X_test.shape[0], X_test.shape[1], 1))"
   ]
  },
  {
   "cell_type": "code",
   "execution_count": null,
   "id": "e7b24a9d",
   "metadata": {},
   "outputs": [],
   "source": [
    "pred_lstm = regressor.predict(X_test)\n",
    "pred_lstm=scaler.inverse_transform(pred_lstm)"
   ]
  },
  {
   "cell_type": "code",
   "execution_count": null,
   "id": "db7e202b",
   "metadata": {},
   "outputs": [],
   "source": []
  },
  {
   "cell_type": "code",
   "execution_count": null,
   "id": "3d05b90f",
   "metadata": {},
   "outputs": [],
   "source": []
  },
  {
   "cell_type": "code",
   "execution_count": null,
   "id": "da98cf42",
   "metadata": {},
   "outputs": [],
   "source": []
  },
  {
   "cell_type": "code",
   "execution_count": null,
   "id": "239057ca",
   "metadata": {},
   "outputs": [],
   "source": []
  },
  {
   "cell_type": "code",
   "execution_count": null,
   "id": "d13416bf",
   "metadata": {},
   "outputs": [],
   "source": []
  },
  {
   "cell_type": "code",
   "execution_count": null,
   "id": "9a0ef7c7",
   "metadata": {},
   "outputs": [],
   "source": []
  },
  {
   "cell_type": "code",
   "execution_count": null,
   "id": "a84ac29f",
   "metadata": {},
   "outputs": [],
   "source": []
  },
  {
   "cell_type": "code",
   "execution_count": null,
   "id": "f9fcab0b",
   "metadata": {},
   "outputs": [],
   "source": []
  },
  {
   "cell_type": "code",
   "execution_count": null,
   "id": "c5c0b9b2",
   "metadata": {},
   "outputs": [],
   "source": []
  },
  {
   "cell_type": "code",
   "execution_count": null,
   "id": "a4e6efc1",
   "metadata": {},
   "outputs": [],
   "source": []
  },
  {
   "cell_type": "code",
   "execution_count": null,
   "id": "60b1d853",
   "metadata": {},
   "outputs": [],
   "source": []
  },
  {
   "cell_type": "code",
   "execution_count": null,
   "id": "236b5dc1",
   "metadata": {},
   "outputs": [],
   "source": []
  },
  {
   "cell_type": "code",
   "execution_count": null,
   "id": "a0926d5c",
   "metadata": {},
   "outputs": [],
   "source": []
  },
  {
   "cell_type": "code",
   "execution_count": null,
   "id": "cf00ca38",
   "metadata": {},
   "outputs": [],
   "source": []
  },
  {
   "cell_type": "code",
   "execution_count": null,
   "id": "5b4bfd40",
   "metadata": {},
   "outputs": [],
   "source": []
  },
  {
   "cell_type": "code",
   "execution_count": null,
   "id": "c2543ec7",
   "metadata": {},
   "outputs": [],
   "source": []
  },
  {
   "cell_type": "code",
   "execution_count": null,
   "id": "930bd988",
   "metadata": {},
   "outputs": [],
   "source": []
  },
  {
   "cell_type": "code",
   "execution_count": null,
   "id": "8056d1ae",
   "metadata": {},
   "outputs": [],
   "source": []
  },
  {
   "cell_type": "code",
   "execution_count": null,
   "id": "63be5ff0",
   "metadata": {},
   "outputs": [],
   "source": []
  },
  {
   "cell_type": "code",
   "execution_count": null,
   "id": "81018f60",
   "metadata": {},
   "outputs": [],
   "source": []
  },
  {
   "cell_type": "code",
   "execution_count": null,
   "id": "432f24fd",
   "metadata": {},
   "outputs": [],
   "source": []
  },
  {
   "cell_type": "code",
   "execution_count": null,
   "id": "4aecacb5",
   "metadata": {},
   "outputs": [],
   "source": []
  },
  {
   "cell_type": "code",
   "execution_count": null,
   "id": "4cf6c0c0",
   "metadata": {},
   "outputs": [],
   "source": []
  },
  {
   "cell_type": "code",
   "execution_count": null,
   "id": "1030dd76",
   "metadata": {},
   "outputs": [],
   "source": []
  },
  {
   "cell_type": "code",
   "execution_count": null,
   "id": "0f62e96a",
   "metadata": {},
   "outputs": [],
   "source": []
  },
  {
   "cell_type": "code",
   "execution_count": null,
   "id": "b8d99516",
   "metadata": {},
   "outputs": [],
   "source": []
  },
  {
   "cell_type": "code",
   "execution_count": null,
   "id": "92965e9f",
   "metadata": {},
   "outputs": [],
   "source": []
  },
  {
   "cell_type": "code",
   "execution_count": null,
   "id": "79464ac6",
   "metadata": {},
   "outputs": [],
   "source": []
  },
  {
   "cell_type": "code",
   "execution_count": null,
   "id": "bf51a213",
   "metadata": {},
   "outputs": [],
   "source": []
  },
  {
   "cell_type": "code",
   "execution_count": null,
   "id": "37d94a32",
   "metadata": {},
   "outputs": [],
   "source": []
  },
  {
   "cell_type": "code",
   "execution_count": null,
   "id": "111868a7",
   "metadata": {},
   "outputs": [],
   "source": []
  },
  {
   "cell_type": "code",
   "execution_count": null,
   "id": "570b1605",
   "metadata": {},
   "outputs": [],
   "source": []
  },
  {
   "cell_type": "code",
   "execution_count": null,
   "id": "abdef651",
   "metadata": {},
   "outputs": [],
   "source": []
  },
  {
   "cell_type": "code",
   "execution_count": null,
   "id": "b6f1489f",
   "metadata": {},
   "outputs": [],
   "source": []
  },
  {
   "cell_type": "code",
   "execution_count": null,
   "id": "715ccf16",
   "metadata": {},
   "outputs": [],
   "source": []
  },
  {
   "cell_type": "code",
   "execution_count": null,
   "id": "745e6741",
   "metadata": {},
   "outputs": [],
   "source": []
  },
  {
   "cell_type": "code",
   "execution_count": null,
   "id": "58c4c27d",
   "metadata": {},
   "outputs": [],
   "source": []
  },
  {
   "cell_type": "code",
   "execution_count": null,
   "id": "94e7a6c0",
   "metadata": {},
   "outputs": [],
   "source": []
  },
  {
   "cell_type": "code",
   "execution_count": null,
   "id": "86ed46eb",
   "metadata": {},
   "outputs": [],
   "source": []
  },
  {
   "cell_type": "code",
   "execution_count": null,
   "id": "7d9c0a7f",
   "metadata": {},
   "outputs": [],
   "source": []
  },
  {
   "cell_type": "code",
   "execution_count": null,
   "id": "507785b7",
   "metadata": {},
   "outputs": [],
   "source": []
  },
  {
   "cell_type": "code",
   "execution_count": null,
   "id": "f56b3478",
   "metadata": {},
   "outputs": [],
   "source": []
  },
  {
   "cell_type": "code",
   "execution_count": null,
   "id": "7a06275b",
   "metadata": {},
   "outputs": [],
   "source": []
  },
  {
   "cell_type": "code",
   "execution_count": null,
   "id": "71aa75d0",
   "metadata": {},
   "outputs": [],
   "source": []
  },
  {
   "cell_type": "code",
   "execution_count": null,
   "id": "70d3dbca",
   "metadata": {},
   "outputs": [],
   "source": []
  },
  {
   "cell_type": "code",
   "execution_count": null,
   "id": "bf58d242",
   "metadata": {},
   "outputs": [],
   "source": []
  },
  {
   "cell_type": "code",
   "execution_count": null,
   "id": "a82d3c01",
   "metadata": {},
   "outputs": [],
   "source": []
  },
  {
   "cell_type": "code",
   "execution_count": null,
   "id": "7b66a91d",
   "metadata": {},
   "outputs": [],
   "source": []
  },
  {
   "cell_type": "code",
   "execution_count": null,
   "id": "bae51e72",
   "metadata": {},
   "outputs": [],
   "source": []
  },
  {
   "cell_type": "code",
   "execution_count": null,
   "id": "f6c65b89",
   "metadata": {},
   "outputs": [],
   "source": []
  },
  {
   "cell_type": "code",
   "execution_count": null,
   "id": "c53277c6",
   "metadata": {},
   "outputs": [],
   "source": []
  },
  {
   "cell_type": "code",
   "execution_count": null,
   "id": "42d8520e",
   "metadata": {},
   "outputs": [],
   "source": []
  },
  {
   "cell_type": "code",
   "execution_count": null,
   "id": "fd9e2c6e",
   "metadata": {},
   "outputs": [],
   "source": []
  },
  {
   "cell_type": "code",
   "execution_count": null,
   "id": "e9467ade",
   "metadata": {},
   "outputs": [],
   "source": []
  },
  {
   "cell_type": "code",
   "execution_count": null,
   "id": "571ef57b",
   "metadata": {},
   "outputs": [],
   "source": []
  },
  {
   "cell_type": "code",
   "execution_count": null,
   "id": "53d1d626",
   "metadata": {},
   "outputs": [],
   "source": []
  },
  {
   "cell_type": "code",
   "execution_count": null,
   "id": "7a3ffcbf",
   "metadata": {},
   "outputs": [],
   "source": []
  },
  {
   "cell_type": "code",
   "execution_count": null,
   "id": "7393d21c",
   "metadata": {},
   "outputs": [],
   "source": []
  },
  {
   "cell_type": "code",
   "execution_count": null,
   "id": "b0824300",
   "metadata": {},
   "outputs": [],
   "source": []
  },
  {
   "cell_type": "code",
   "execution_count": null,
   "id": "d3bc4f07",
   "metadata": {},
   "outputs": [],
   "source": []
  },
  {
   "cell_type": "code",
   "execution_count": null,
   "id": "4698b351",
   "metadata": {},
   "outputs": [],
   "source": []
  },
  {
   "cell_type": "code",
   "execution_count": null,
   "id": "27c8f909",
   "metadata": {},
   "outputs": [],
   "source": []
  },
  {
   "cell_type": "code",
   "execution_count": null,
   "id": "8ba40caa",
   "metadata": {},
   "outputs": [],
   "source": []
  },
  {
   "cell_type": "code",
   "execution_count": null,
   "id": "b680e29e",
   "metadata": {},
   "outputs": [],
   "source": []
  },
  {
   "cell_type": "code",
   "execution_count": null,
   "id": "96b013d4",
   "metadata": {},
   "outputs": [],
   "source": []
  },
  {
   "cell_type": "code",
   "execution_count": null,
   "id": "b6f2f9d6",
   "metadata": {},
   "outputs": [],
   "source": []
  },
  {
   "cell_type": "code",
   "execution_count": null,
   "id": "053eb17d",
   "metadata": {},
   "outputs": [],
   "source": []
  },
  {
   "cell_type": "code",
   "execution_count": null,
   "id": "02506137",
   "metadata": {},
   "outputs": [],
   "source": []
  },
  {
   "cell_type": "code",
   "execution_count": null,
   "id": "adc8b2cc",
   "metadata": {},
   "outputs": [],
   "source": []
  },
  {
   "cell_type": "code",
   "execution_count": null,
   "id": "a95cda10",
   "metadata": {},
   "outputs": [],
   "source": []
  },
  {
   "cell_type": "code",
   "execution_count": null,
   "id": "53a9fe59",
   "metadata": {},
   "outputs": [],
   "source": []
  },
  {
   "cell_type": "code",
   "execution_count": null,
   "id": "5ff5491f",
   "metadata": {},
   "outputs": [],
   "source": []
  },
  {
   "cell_type": "code",
   "execution_count": null,
   "id": "00e23a1d",
   "metadata": {},
   "outputs": [],
   "source": []
  },
  {
   "cell_type": "code",
   "execution_count": null,
   "id": "e9640f0e",
   "metadata": {},
   "outputs": [],
   "source": []
  },
  {
   "cell_type": "code",
   "execution_count": null,
   "id": "d261f22a",
   "metadata": {},
   "outputs": [],
   "source": []
  },
  {
   "cell_type": "code",
   "execution_count": null,
   "id": "fcb42d85",
   "metadata": {},
   "outputs": [],
   "source": []
  },
  {
   "cell_type": "code",
   "execution_count": null,
   "id": "9c26d183",
   "metadata": {},
   "outputs": [],
   "source": []
  },
  {
   "cell_type": "code",
   "execution_count": null,
   "id": "00d25481",
   "metadata": {},
   "outputs": [],
   "source": []
  }
 ],
 "metadata": {
  "kernelspec": {
   "display_name": "Python 3 (ipykernel)",
   "language": "python",
   "name": "python3"
  },
  "language_info": {
   "codemirror_mode": {
    "name": "ipython",
    "version": 3
   },
   "file_extension": ".py",
   "mimetype": "text/x-python",
   "name": "python",
   "nbconvert_exporter": "python",
   "pygments_lexer": "ipython3",
   "version": "3.11.4"
  }
 },
 "nbformat": 4,
 "nbformat_minor": 5
}
